{
 "cells": [
  {
   "cell_type": "markdown",
   "id": "fbdf31b1",
   "metadata": {},
   "source": [
    "# Datatypes in Python\n",
    "\n",
    "1. Integers (Numbers)\n",
    "2. Strings\n",
    "3. Floats (Decimal Numbers)\n",
    "4. Booleans (True/False)"
   ]
  },
  {
   "cell_type": "markdown",
   "id": "487cecb9",
   "metadata": {},
   "source": [
    "## Integers"
   ]
  },
  {
   "cell_type": "code",
   "execution_count": 3,
   "id": "0035eba8",
   "metadata": {
    "ExecuteTime": {
     "end_time": "2023-09-09T15:29:58.303081Z",
     "start_time": "2023-09-09T15:29:58.298405Z"
    }
   },
   "outputs": [],
   "source": [
    "x = 5"
   ]
  },
  {
   "cell_type": "code",
   "execution_count": 4,
   "id": "bd0c156c",
   "metadata": {
    "ExecuteTime": {
     "end_time": "2023-09-09T15:29:59.475451Z",
     "start_time": "2023-09-09T15:29:59.469887Z"
    }
   },
   "outputs": [
    {
     "name": "stdout",
     "output_type": "stream",
     "text": [
      "5\n"
     ]
    }
   ],
   "source": [
    "print(x)"
   ]
  },
  {
   "cell_type": "code",
   "execution_count": 5,
   "id": "02a73234",
   "metadata": {
    "ExecuteTime": {
     "end_time": "2023-09-09T15:30:11.287276Z",
     "start_time": "2023-09-09T15:30:11.283040Z"
    }
   },
   "outputs": [],
   "source": [
    "x = 10"
   ]
  },
  {
   "cell_type": "code",
   "execution_count": 6,
   "id": "2f579a4a",
   "metadata": {
    "ExecuteTime": {
     "end_time": "2023-09-09T15:30:15.105333Z",
     "start_time": "2023-09-09T15:30:15.100334Z"
    }
   },
   "outputs": [
    {
     "name": "stdout",
     "output_type": "stream",
     "text": [
      "10\n"
     ]
    }
   ],
   "source": [
    "print(x)"
   ]
  },
  {
   "cell_type": "code",
   "execution_count": 7,
   "id": "ff94dcd5",
   "metadata": {
    "ExecuteTime": {
     "end_time": "2023-09-09T15:31:56.542693Z",
     "start_time": "2023-09-09T15:31:56.538484Z"
    }
   },
   "outputs": [
    {
     "name": "stdout",
     "output_type": "stream",
     "text": [
      "10\n"
     ]
    }
   ],
   "source": [
    "#x = 10\n",
    "print(x)"
   ]
  },
  {
   "cell_type": "markdown",
   "id": "453cb4cc",
   "metadata": {},
   "source": [
    "## Strings"
   ]
  },
  {
   "cell_type": "code",
   "execution_count": 10,
   "id": "1f8e956b",
   "metadata": {
    "ExecuteTime": {
     "end_time": "2023-09-09T15:41:38.127495Z",
     "start_time": "2023-09-09T15:41:38.123475Z"
    }
   },
   "outputs": [
    {
     "name": "stdout",
     "output_type": "stream",
     "text": [
      "['Hello', 'my', 'name', 'is', 'Shahzaib.']\n"
     ]
    }
   ],
   "source": [
    "a = '      Hello my name is Shahzaib.          '\n",
    "print(a.split())"
   ]
  },
  {
   "cell_type": "code",
   "execution_count": 24,
   "id": "754ca79d",
   "metadata": {
    "ExecuteTime": {
     "end_time": "2023-09-09T15:55:21.086307Z",
     "start_time": "2023-09-09T15:55:21.081236Z"
    }
   },
   "outputs": [
    {
     "name": "stdout",
     "output_type": "stream",
     "text": [
      "Shahzaib's \"session\"\n"
     ]
    }
   ],
   "source": [
    "a = 'Shahzaib\\'s \"session\"'\n",
    "print(a[:])"
   ]
  },
  {
   "cell_type": "markdown",
   "id": "31a68052",
   "metadata": {},
   "source": [
    "## Floats"
   ]
  },
  {
   "cell_type": "code",
   "execution_count": 29,
   "id": "43d7b997",
   "metadata": {
    "ExecuteTime": {
     "end_time": "2023-09-09T15:56:35.470286Z",
     "start_time": "2023-09-09T15:56:35.464760Z"
    }
   },
   "outputs": [
    {
     "name": "stdout",
     "output_type": "stream",
     "text": [
      "3.14152\n"
     ]
    }
   ],
   "source": [
    "x = 3.14152\n",
    "print(x)"
   ]
  },
  {
   "cell_type": "markdown",
   "id": "ff63edb4",
   "metadata": {},
   "source": [
    "## Booleans\n"
   ]
  },
  {
   "cell_type": "code",
   "execution_count": 32,
   "id": "55f5bc61",
   "metadata": {
    "ExecuteTime": {
     "end_time": "2023-09-09T15:58:33.412590Z",
     "start_time": "2023-09-09T15:58:33.409053Z"
    }
   },
   "outputs": [],
   "source": [
    "cat = False\n",
    "Cat = True"
   ]
  },
  {
   "cell_type": "code",
   "execution_count": 33,
   "id": "081144b3",
   "metadata": {
    "ExecuteTime": {
     "end_time": "2023-09-09T15:58:33.682918Z",
     "start_time": "2023-09-09T15:58:33.677453Z"
    },
    "scrolled": true
   },
   "outputs": [
    {
     "name": "stdout",
     "output_type": "stream",
     "text": [
      "True\n"
     ]
    }
   ],
   "source": [
    "print(Cat)"
   ]
  },
  {
   "cell_type": "markdown",
   "id": "d538f29d",
   "metadata": {},
   "source": [
    "# Casting"
   ]
  },
  {
   "cell_type": "code",
   "execution_count": 38,
   "id": "5316e65a",
   "metadata": {
    "ExecuteTime": {
     "end_time": "2023-09-09T16:04:42.676935Z",
     "start_time": "2023-09-09T16:04:42.670523Z"
    }
   },
   "outputs": [
    {
     "name": "stdout",
     "output_type": "stream",
     "text": [
      "<class 'int'>\n",
      "<class 'str'>\n"
     ]
    }
   ],
   "source": [
    "x = 5\n",
    "print(type(x))\n",
    "\n",
    "\n",
    "x = str(5)\n",
    "print(type(x))\n",
    "\n"
   ]
  },
  {
   "cell_type": "code",
   "execution_count": null,
   "id": "b76da121",
   "metadata": {},
   "outputs": [],
   "source": [
    "str()\n",
    "float()\n",
    "int()\n",
    "bool()"
   ]
  },
  {
   "cell_type": "markdown",
   "id": "f8b9b7a4",
   "metadata": {},
   "source": [
    "# Conversion Parameters"
   ]
  },
  {
   "cell_type": "code",
   "execution_count": null,
   "id": "94325462",
   "metadata": {},
   "outputs": [],
   "source": [
    "int -> int + float\n",
    "    -> int + bool\n",
    "    \n",
    "string -> string + string\n",
    "        -> string * int\n",
    "\n",
    "float -> float + float\n",
    "        -> float + int\n",
    "        -> float + bool\n",
    "        \n",
    "bool -> bool + float\n",
    "        -> bool + int\n",
    "        -> bool + bool"
   ]
  },
  {
   "cell_type": "code",
   "execution_count": 43,
   "id": "af36abc3",
   "metadata": {
    "ExecuteTime": {
     "end_time": "2023-09-09T16:09:33.352054Z",
     "start_time": "2023-09-09T16:09:33.346931Z"
    }
   },
   "outputs": [
    {
     "name": "stdout",
     "output_type": "stream",
     "text": [
      "5\n"
     ]
    }
   ],
   "source": [
    "x = 4\n",
    "b = True\n",
    "print(x + b)"
   ]
  },
  {
   "cell_type": "markdown",
   "id": "5d2a32ec",
   "metadata": {},
   "source": [
    "## String formatting (Formatting)"
   ]
  },
  {
   "cell_type": "code",
   "execution_count": 45,
   "id": "3e75e5f6",
   "metadata": {
    "ExecuteTime": {
     "end_time": "2023-09-09T16:12:23.038401Z",
     "start_time": "2023-09-09T16:12:23.032593Z"
    }
   },
   "outputs": [
    {
     "name": "stdout",
     "output_type": "stream",
     "text": [
      "My name is 54.3101\n"
     ]
    }
   ],
   "source": [
    "name = str(54.3101)\n",
    "a = 'My name is '\n",
    "\n",
    "print(a + name)"
   ]
  },
  {
   "cell_type": "code",
   "execution_count": 47,
   "id": "7491530a",
   "metadata": {
    "ExecuteTime": {
     "end_time": "2023-09-09T16:16:22.679385Z",
     "start_time": "2023-09-09T16:16:22.673632Z"
    }
   },
   "outputs": [
    {
     "name": "stdout",
     "output_type": "stream",
     "text": [
      "My name is Shahzaib. My age is 20. The value of pi is 3.14\n"
     ]
    }
   ],
   "source": [
    "a = 3.14\n",
    "b = 20\n",
    "name = 'Shahzaib'\n",
    "\n",
    "x = f'My name is {name}. My age is {b}. The value of pi is {a}'\n",
    "\n",
    "print(x)"
   ]
  },
  {
   "cell_type": "code",
   "execution_count": 51,
   "id": "aca8f9d1",
   "metadata": {
    "ExecuteTime": {
     "end_time": "2023-09-09T16:18:29.785020Z",
     "start_time": "2023-09-09T16:18:29.777565Z"
    }
   },
   "outputs": [
    {
     "name": "stdout",
     "output_type": "stream",
     "text": [
      "My name is Shahzaib. My age is 20. The value of pi is 3.14\n"
     ]
    }
   ],
   "source": [
    "x = 'My name is {}. My age is {}. The value of pi is {}'\n",
    "a = 3.14\n",
    "b = 20\n",
    "\n",
    "name = 'Shahzaib'\n",
    "\n",
    "\n",
    "print(x.format(name , b , a))"
   ]
  },
  {
   "cell_type": "markdown",
   "id": "f9a11dc9",
   "metadata": {},
   "source": [
    "# Conditional Statement"
   ]
  },
  {
   "cell_type": "code",
   "execution_count": 54,
   "id": "48794841",
   "metadata": {
    "ExecuteTime": {
     "end_time": "2023-09-09T16:28:21.317219Z",
     "start_time": "2023-09-09T16:28:21.311477Z"
    }
   },
   "outputs": [
    {
     "name": "stdout",
     "output_type": "stream",
     "text": [
      "5 is not 5\n"
     ]
    }
   ],
   "source": [
    "if (5 == 6):\n",
    "    print(\"5 is 5\")\n",
    "else:\n",
    "    print('5 is not 5')"
   ]
  },
  {
   "cell_type": "code",
   "execution_count": 58,
   "id": "c44c2b77",
   "metadata": {
    "ExecuteTime": {
     "end_time": "2023-09-09T16:30:50.476024Z",
     "start_time": "2023-09-09T16:30:50.471827Z"
    }
   },
   "outputs": [
    {
     "name": "stdout",
     "output_type": "stream",
     "text": [
      "name is correct\n"
     ]
    }
   ],
   "source": [
    "if (5 == 6):\n",
    "    print(\"5 is 5\")\n",
    "    \n",
    "name = 'Shahzaib'    \n",
    "\n",
    "if (name == 'Shahzaib'):\n",
    "    print('name is correct')"
   ]
  },
  {
   "cell_type": "code",
   "execution_count": 1,
   "id": "4d1d9c37",
   "metadata": {
    "ExecuteTime": {
     "end_time": "2023-09-16T15:20:15.921612Z",
     "start_time": "2023-09-16T15:20:15.913186Z"
    }
   },
   "outputs": [
    {
     "name": "stdout",
     "output_type": "stream",
     "text": [
      "fill the glass and bring it to me\n"
     ]
    }
   ],
   "source": [
    "glassFull = False\n",
    "\n",
    "if (glassFull == True):\n",
    "    print(\"bring me glass\")\n",
    "else:\n",
    "    print('fill the glass and bring it to me')"
   ]
  },
  {
   "cell_type": "code",
   "execution_count": null,
   "id": "d03d59c2",
   "metadata": {},
   "outputs": [],
   "source": []
  }
 ],
 "metadata": {
  "kernelspec": {
   "display_name": "Python 3 (ipykernel)",
   "language": "python",
   "name": "python3"
  },
  "language_info": {
   "codemirror_mode": {
    "name": "ipython",
    "version": 3
   },
   "file_extension": ".py",
   "mimetype": "text/x-python",
   "name": "python",
   "nbconvert_exporter": "python",
   "pygments_lexer": "ipython3",
   "version": "3.9.7"
  }
 },
 "nbformat": 4,
 "nbformat_minor": 5
}
