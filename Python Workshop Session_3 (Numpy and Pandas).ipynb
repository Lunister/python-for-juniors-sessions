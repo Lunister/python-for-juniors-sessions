{
 "cells": [
  {
   "cell_type": "markdown",
   "id": "9151db2b",
   "metadata": {
    "ExecuteTime": {
     "end_time": "2023-10-02T15:20:06.578395Z",
     "start_time": "2023-10-02T15:20:06.573416Z"
    }
   },
   "source": [
    "# Numpy"
   ]
  },
  {
   "cell_type": "code",
   "execution_count": 3,
   "id": "84d11f78",
   "metadata": {
    "ExecuteTime": {
     "end_time": "2023-10-02T15:22:32.063315Z",
     "start_time": "2023-10-02T15:22:31.956814Z"
    }
   },
   "outputs": [],
   "source": [
    "import numpy as np"
   ]
  },
  {
   "cell_type": "code",
   "execution_count": 11,
   "id": "278adad5",
   "metadata": {
    "ExecuteTime": {
     "end_time": "2023-10-02T15:25:33.964810Z",
     "start_time": "2023-10-02T15:25:33.961185Z"
    }
   },
   "outputs": [],
   "source": [
    "arr = np.array([1,2,3,4,5])"
   ]
  },
  {
   "cell_type": "code",
   "execution_count": 12,
   "id": "33fb1a0b",
   "metadata": {
    "ExecuteTime": {
     "end_time": "2023-10-02T15:25:34.389163Z",
     "start_time": "2023-10-02T15:25:34.385474Z"
    }
   },
   "outputs": [
    {
     "name": "stdout",
     "output_type": "stream",
     "text": [
      "Numpy :  [1 2 3 4 5]\n"
     ]
    }
   ],
   "source": [
    "print(\"Numpy : \" , arr)"
   ]
  },
  {
   "cell_type": "code",
   "execution_count": 13,
   "id": "8385347b",
   "metadata": {
    "ExecuteTime": {
     "end_time": "2023-10-02T15:25:34.773611Z",
     "start_time": "2023-10-02T15:25:34.767572Z"
    }
   },
   "outputs": [
    {
     "data": {
      "text/plain": [
       "dtype('int32')"
      ]
     },
     "execution_count": 13,
     "metadata": {},
     "output_type": "execute_result"
    }
   ],
   "source": [
    "arr.dtype"
   ]
  },
  {
   "cell_type": "code",
   "execution_count": 14,
   "id": "89f0fffb",
   "metadata": {
    "ExecuteTime": {
     "end_time": "2023-10-02T15:25:36.661273Z",
     "start_time": "2023-10-02T15:25:36.657590Z"
    }
   },
   "outputs": [
    {
     "data": {
      "text/plain": [
       "(5,)"
      ]
     },
     "execution_count": 14,
     "metadata": {},
     "output_type": "execute_result"
    }
   ],
   "source": [
    "arr.shape"
   ]
  },
  {
   "cell_type": "markdown",
   "id": "ba82375b",
   "metadata": {},
   "source": [
    "# Advantages\n",
    "\n",
    "1. Efficient data Storage and Operations\n",
    "2. Mathematical Functions\n",
    "3. Interoperatibility with other data formats"
   ]
  },
  {
   "cell_type": "code",
   "execution_count": 15,
   "id": "69946948",
   "metadata": {
    "ExecuteTime": {
     "end_time": "2023-10-02T15:27:26.789769Z",
     "start_time": "2023-10-02T15:27:26.784765Z"
    }
   },
   "outputs": [],
   "source": [
    "arr1 = np.array([1, 2, 3, 4, 5])\n",
    "arr2 = np.array([6, 7, 8, 9, 10])\n"
   ]
  },
  {
   "cell_type": "code",
   "execution_count": 18,
   "id": "dac15c1d",
   "metadata": {
    "ExecuteTime": {
     "end_time": "2023-10-02T15:28:11.029809Z",
     "start_time": "2023-10-02T15:28:11.025818Z"
    }
   },
   "outputs": [],
   "source": [
    "#addition at specific indexes\n",
    "arr3 = arr1 + arr2"
   ]
  },
  {
   "cell_type": "code",
   "execution_count": 19,
   "id": "d16d97f7",
   "metadata": {
    "ExecuteTime": {
     "end_time": "2023-10-02T15:28:11.340547Z",
     "start_time": "2023-10-02T15:28:11.336728Z"
    }
   },
   "outputs": [
    {
     "data": {
      "text/plain": [
       "array([ 7,  9, 11, 13, 15])"
      ]
     },
     "execution_count": 19,
     "metadata": {},
     "output_type": "execute_result"
    }
   ],
   "source": [
    "arr3"
   ]
  },
  {
   "cell_type": "code",
   "execution_count": 20,
   "id": "7aa37343",
   "metadata": {
    "ExecuteTime": {
     "end_time": "2023-10-02T15:28:36.212183Z",
     "start_time": "2023-10-02T15:28:36.208618Z"
    }
   },
   "outputs": [],
   "source": [
    "#Multiplication at specific indexes\n",
    "arr4 = arr1 * arr2"
   ]
  },
  {
   "cell_type": "code",
   "execution_count": 21,
   "id": "ed4e293e",
   "metadata": {
    "ExecuteTime": {
     "end_time": "2023-10-02T15:28:38.286585Z",
     "start_time": "2023-10-02T15:28:38.280729Z"
    }
   },
   "outputs": [
    {
     "data": {
      "text/plain": [
       "array([ 6, 14, 24, 36, 50])"
      ]
     },
     "execution_count": 21,
     "metadata": {},
     "output_type": "execute_result"
    }
   ],
   "source": [
    "arr4"
   ]
  },
  {
   "cell_type": "code",
   "execution_count": 22,
   "id": "1814167e",
   "metadata": {
    "ExecuteTime": {
     "end_time": "2023-10-02T15:30:37.175106Z",
     "start_time": "2023-10-02T15:30:37.169502Z"
    }
   },
   "outputs": [],
   "source": [
    "data = np.array([1,2,3,4,5])\n",
    "\n",
    "np.savetxt('data.txt' , data)"
   ]
  },
  {
   "cell_type": "code",
   "execution_count": 23,
   "id": "94727aa5",
   "metadata": {
    "ExecuteTime": {
     "end_time": "2023-10-02T15:31:17.253261Z",
     "start_time": "2023-10-02T15:31:17.248481Z"
    }
   },
   "outputs": [],
   "source": [
    "load_data = np.loadtxt('data.txt')"
   ]
  },
  {
   "cell_type": "code",
   "execution_count": 24,
   "id": "f0fb3d96",
   "metadata": {
    "ExecuteTime": {
     "end_time": "2023-10-02T15:31:23.758390Z",
     "start_time": "2023-10-02T15:31:23.752789Z"
    }
   },
   "outputs": [
    {
     "data": {
      "text/plain": [
       "array([1., 2., 3., 4., 5.])"
      ]
     },
     "execution_count": 24,
     "metadata": {},
     "output_type": "execute_result"
    }
   ],
   "source": [
    "load_data"
   ]
  },
  {
   "cell_type": "markdown",
   "id": "42de7c92",
   "metadata": {},
   "source": [
    "## Numpy Arrays"
   ]
  },
  {
   "cell_type": "code",
   "execution_count": 25,
   "id": "43fc33d2",
   "metadata": {
    "ExecuteTime": {
     "end_time": "2023-10-02T15:32:52.748983Z",
     "start_time": "2023-10-02T15:32:52.745408Z"
    }
   },
   "outputs": [],
   "source": [
    "arr1 = np.array([1,2,3,4,5,6])"
   ]
  },
  {
   "cell_type": "code",
   "execution_count": 27,
   "id": "6e8328da",
   "metadata": {
    "ExecuteTime": {
     "end_time": "2023-10-02T15:33:09.909113Z",
     "start_time": "2023-10-02T15:33:09.905156Z"
    }
   },
   "outputs": [
    {
     "name": "stdout",
     "output_type": "stream",
     "text": [
      "[1 2 3 4 5 6]\n"
     ]
    }
   ],
   "source": [
    "print(arr1)"
   ]
  },
  {
   "cell_type": "code",
   "execution_count": 28,
   "id": "42e83d55",
   "metadata": {
    "ExecuteTime": {
     "end_time": "2023-10-02T15:33:49.486419Z",
     "start_time": "2023-10-02T15:33:49.481432Z"
    }
   },
   "outputs": [],
   "source": [
    "zeros = np.zeros(9)"
   ]
  },
  {
   "cell_type": "code",
   "execution_count": 29,
   "id": "28ed23d4",
   "metadata": {
    "ExecuteTime": {
     "end_time": "2023-10-02T15:33:57.966026Z",
     "start_time": "2023-10-02T15:33:57.960431Z"
    }
   },
   "outputs": [
    {
     "data": {
      "text/plain": [
       "array([0., 0., 0., 0., 0., 0., 0., 0., 0.])"
      ]
     },
     "execution_count": 29,
     "metadata": {},
     "output_type": "execute_result"
    }
   ],
   "source": [
    "zeros"
   ]
  },
  {
   "cell_type": "code",
   "execution_count": 30,
   "id": "1ac1108f",
   "metadata": {
    "ExecuteTime": {
     "end_time": "2023-10-02T15:34:22.236932Z",
     "start_time": "2023-10-02T15:34:22.232470Z"
    }
   },
   "outputs": [],
   "source": [
    "ones = np.ones(5)"
   ]
  },
  {
   "cell_type": "code",
   "execution_count": 31,
   "id": "1fd23211",
   "metadata": {
    "ExecuteTime": {
     "end_time": "2023-10-02T15:34:23.645447Z",
     "start_time": "2023-10-02T15:34:23.640424Z"
    }
   },
   "outputs": [
    {
     "data": {
      "text/plain": [
       "array([1., 1., 1., 1., 1.])"
      ]
     },
     "execution_count": 31,
     "metadata": {},
     "output_type": "execute_result"
    }
   ],
   "source": [
    "ones"
   ]
  },
  {
   "cell_type": "code",
   "execution_count": 32,
   "id": "460f8415",
   "metadata": {
    "ExecuteTime": {
     "end_time": "2023-10-02T15:36:30.759159Z",
     "start_time": "2023-10-02T15:36:30.754170Z"
    }
   },
   "outputs": [],
   "source": [
    "indentity = np.eye(3)"
   ]
  },
  {
   "cell_type": "code",
   "execution_count": 34,
   "id": "c6472975",
   "metadata": {
    "ExecuteTime": {
     "end_time": "2023-10-02T15:36:46.733771Z",
     "start_time": "2023-10-02T15:36:46.727892Z"
    }
   },
   "outputs": [
    {
     "name": "stdout",
     "output_type": "stream",
     "text": [
      "[[1. 0. 0.]\n",
      " [0. 1. 0.]\n",
      " [0. 0. 1.]]\n"
     ]
    }
   ],
   "source": [
    "print(indentity)"
   ]
  },
  {
   "cell_type": "code",
   "execution_count": 45,
   "id": "94809dca",
   "metadata": {
    "ExecuteTime": {
     "end_time": "2023-10-02T15:41:11.444654Z",
     "start_time": "2023-10-02T15:41:11.441344Z"
    }
   },
   "outputs": [],
   "source": [
    "arr = np.array([[[1,2],[2,3],[3,4]] , [[1,2],[2,3],[3,4]]])"
   ]
  },
  {
   "cell_type": "code",
   "execution_count": 46,
   "id": "a3228e22",
   "metadata": {
    "ExecuteTime": {
     "end_time": "2023-10-02T15:41:11.908801Z",
     "start_time": "2023-10-02T15:41:11.905447Z"
    }
   },
   "outputs": [
    {
     "name": "stdout",
     "output_type": "stream",
     "text": [
      "[[[1 2]\n",
      "  [2 3]\n",
      "  [3 4]]\n",
      "\n",
      " [[1 2]\n",
      "  [2 3]\n",
      "  [3 4]]]\n"
     ]
    }
   ],
   "source": [
    "print(arr)"
   ]
  },
  {
   "cell_type": "code",
   "execution_count": 47,
   "id": "4930c884",
   "metadata": {
    "ExecuteTime": {
     "end_time": "2023-10-02T15:41:14.342608Z",
     "start_time": "2023-10-02T15:41:14.338425Z"
    }
   },
   "outputs": [
    {
     "name": "stdout",
     "output_type": "stream",
     "text": [
      "(2, 3, 2)\n"
     ]
    }
   ],
   "source": [
    "print(arr.shape)"
   ]
  },
  {
   "cell_type": "code",
   "execution_count": 48,
   "id": "47101d79",
   "metadata": {
    "ExecuteTime": {
     "end_time": "2023-10-02T15:41:25.399203Z",
     "start_time": "2023-10-02T15:41:25.393259Z"
    }
   },
   "outputs": [
    {
     "data": {
      "text/plain": [
       "dtype('int32')"
      ]
     },
     "execution_count": 48,
     "metadata": {},
     "output_type": "execute_result"
    }
   ],
   "source": [
    "arr.dtype"
   ]
  },
  {
   "cell_type": "code",
   "execution_count": 49,
   "id": "67554707",
   "metadata": {
    "ExecuteTime": {
     "end_time": "2023-10-02T15:43:45.517687Z",
     "start_time": "2023-10-02T15:43:45.513328Z"
    }
   },
   "outputs": [],
   "source": [
    "arr = np.array([1,2,3,4,5])"
   ]
  },
  {
   "cell_type": "code",
   "execution_count": 50,
   "id": "72b44d83",
   "metadata": {
    "ExecuteTime": {
     "end_time": "2023-10-02T15:44:16.725150Z",
     "start_time": "2023-10-02T15:44:16.721210Z"
    }
   },
   "outputs": [],
   "source": [
    "arr1 = arr[1:4]"
   ]
  },
  {
   "cell_type": "code",
   "execution_count": 51,
   "id": "ba9451a9",
   "metadata": {
    "ExecuteTime": {
     "end_time": "2023-10-02T15:44:18.583188Z",
     "start_time": "2023-10-02T15:44:18.576215Z"
    }
   },
   "outputs": [
    {
     "data": {
      "text/plain": [
       "array([2, 3, 4])"
      ]
     },
     "execution_count": 51,
     "metadata": {},
     "output_type": "execute_result"
    }
   ],
   "source": [
    "arr1"
   ]
  },
  {
   "cell_type": "code",
   "execution_count": 52,
   "id": "1afb9ba4",
   "metadata": {
    "ExecuteTime": {
     "end_time": "2023-10-02T15:44:35.390080Z",
     "start_time": "2023-10-02T15:44:35.385063Z"
    }
   },
   "outputs": [
    {
     "data": {
      "text/plain": [
       "3"
      ]
     },
     "execution_count": 52,
     "metadata": {},
     "output_type": "execute_result"
    }
   ],
   "source": [
    "arr[2]"
   ]
  },
  {
   "cell_type": "code",
   "execution_count": 53,
   "id": "47cb1c62",
   "metadata": {
    "ExecuteTime": {
     "end_time": "2023-10-02T15:44:44.764250Z",
     "start_time": "2023-10-02T15:44:44.760644Z"
    }
   },
   "outputs": [],
   "source": [
    "arr[0] = 10"
   ]
  },
  {
   "cell_type": "code",
   "execution_count": 54,
   "id": "59500d78",
   "metadata": {
    "ExecuteTime": {
     "end_time": "2023-10-02T15:44:49.103135Z",
     "start_time": "2023-10-02T15:44:49.097067Z"
    }
   },
   "outputs": [
    {
     "data": {
      "text/plain": [
       "array([10,  2,  3,  4,  5])"
      ]
     },
     "execution_count": 54,
     "metadata": {},
     "output_type": "execute_result"
    }
   ],
   "source": [
    "arr"
   ]
  },
  {
   "cell_type": "markdown",
   "id": "d2a01aea",
   "metadata": {},
   "source": [
    "## Aggregation Functions"
   ]
  },
  {
   "cell_type": "code",
   "execution_count": 57,
   "id": "844734fe",
   "metadata": {
    "ExecuteTime": {
     "end_time": "2023-10-02T15:47:17.173232Z",
     "start_time": "2023-10-02T15:47:17.169589Z"
    }
   },
   "outputs": [],
   "source": [
    "#Sum\n",
    "\n",
    "arr = np.array([[1,2,3],[4,5,6]])\n",
    "\n"
   ]
  },
  {
   "cell_type": "code",
   "execution_count": 58,
   "id": "f004423a",
   "metadata": {
    "ExecuteTime": {
     "end_time": "2023-10-02T15:47:17.759650Z",
     "start_time": "2023-10-02T15:47:17.753993Z"
    }
   },
   "outputs": [
    {
     "data": {
      "text/plain": [
       "21"
      ]
     },
     "execution_count": 58,
     "metadata": {},
     "output_type": "execute_result"
    }
   ],
   "source": [
    "np.sum(arr)"
   ]
  },
  {
   "cell_type": "code",
   "execution_count": 59,
   "id": "4f2d211f",
   "metadata": {
    "ExecuteTime": {
     "end_time": "2023-10-02T15:47:33.766411Z",
     "start_time": "2023-10-02T15:47:33.760443Z"
    }
   },
   "outputs": [
    {
     "data": {
      "text/plain": [
       "array([[1, 2, 3],\n",
       "       [4, 5, 6]])"
      ]
     },
     "execution_count": 59,
     "metadata": {},
     "output_type": "execute_result"
    }
   ],
   "source": [
    "arr"
   ]
  },
  {
   "cell_type": "code",
   "execution_count": 60,
   "id": "c47fd820",
   "metadata": {
    "ExecuteTime": {
     "end_time": "2023-10-02T15:48:15.645403Z",
     "start_time": "2023-10-02T15:48:15.641387Z"
    }
   },
   "outputs": [],
   "source": [
    "col_sum = np.sum(arr , axis=0)"
   ]
  },
  {
   "cell_type": "code",
   "execution_count": 64,
   "id": "669020d9",
   "metadata": {
    "ExecuteTime": {
     "end_time": "2023-10-02T15:49:18.591488Z",
     "start_time": "2023-10-02T15:49:18.585959Z"
    }
   },
   "outputs": [
    {
     "data": {
      "text/plain": [
       "9"
      ]
     },
     "execution_count": 64,
     "metadata": {},
     "output_type": "execute_result"
    }
   ],
   "source": [
    "col_sum[2]"
   ]
  },
  {
   "cell_type": "code",
   "execution_count": 66,
   "id": "a7600b53",
   "metadata": {
    "ExecuteTime": {
     "end_time": "2023-10-02T15:50:00.492949Z",
     "start_time": "2023-10-02T15:50:00.488924Z"
    }
   },
   "outputs": [],
   "source": [
    "row_sum = np.sum(arr , axis=1)"
   ]
  },
  {
   "cell_type": "code",
   "execution_count": 69,
   "id": "e74a36db",
   "metadata": {
    "ExecuteTime": {
     "end_time": "2023-10-02T15:50:25.597089Z",
     "start_time": "2023-10-02T15:50:25.591978Z"
    }
   },
   "outputs": [
    {
     "data": {
      "text/plain": [
       "15"
      ]
     },
     "execution_count": 69,
     "metadata": {},
     "output_type": "execute_result"
    }
   ],
   "source": [
    "row_sum[1]"
   ]
  },
  {
   "cell_type": "code",
   "execution_count": 70,
   "id": "6e4a60d1",
   "metadata": {
    "ExecuteTime": {
     "end_time": "2023-10-02T15:51:30.407595Z",
     "start_time": "2023-10-02T15:51:30.402609Z"
    }
   },
   "outputs": [],
   "source": [
    "#Mean\n",
    "\n",
    "arr = np.array([[1, 2, 3], [4, 5, 6]])\n",
    "\n",
    "arr1 = np.mean(arr)"
   ]
  },
  {
   "cell_type": "code",
   "execution_count": 71,
   "id": "a94ef8ba",
   "metadata": {
    "ExecuteTime": {
     "end_time": "2023-10-02T15:51:32.415370Z",
     "start_time": "2023-10-02T15:51:32.408980Z"
    }
   },
   "outputs": [
    {
     "data": {
      "text/plain": [
       "3.5"
      ]
     },
     "execution_count": 71,
     "metadata": {},
     "output_type": "execute_result"
    }
   ],
   "source": [
    "arr1"
   ]
  },
  {
   "cell_type": "code",
   "execution_count": 73,
   "id": "732ca25b",
   "metadata": {
    "ExecuteTime": {
     "end_time": "2023-10-02T15:52:21.812085Z",
     "start_time": "2023-10-02T15:52:21.809509Z"
    }
   },
   "outputs": [],
   "source": [
    "arr2 = np.mean(arr , axis=0)"
   ]
  },
  {
   "cell_type": "code",
   "execution_count": 74,
   "id": "1343548f",
   "metadata": {
    "ExecuteTime": {
     "end_time": "2023-10-02T15:52:23.438514Z",
     "start_time": "2023-10-02T15:52:23.433385Z"
    }
   },
   "outputs": [
    {
     "data": {
      "text/plain": [
       "array([2.5, 3.5, 4.5])"
      ]
     },
     "execution_count": 74,
     "metadata": {},
     "output_type": "execute_result"
    }
   ],
   "source": [
    "arr2"
   ]
  },
  {
   "cell_type": "code",
   "execution_count": 77,
   "id": "b618ec41",
   "metadata": {
    "ExecuteTime": {
     "end_time": "2023-10-02T15:52:46.357739Z",
     "start_time": "2023-10-02T15:52:46.352890Z"
    }
   },
   "outputs": [],
   "source": [
    "row_mean = np.mean(arr , axis=1)"
   ]
  },
  {
   "cell_type": "code",
   "execution_count": 78,
   "id": "9f1732d1",
   "metadata": {
    "ExecuteTime": {
     "end_time": "2023-10-02T15:52:46.726456Z",
     "start_time": "2023-10-02T15:52:46.721194Z"
    }
   },
   "outputs": [
    {
     "data": {
      "text/plain": [
       "array([2., 5.])"
      ]
     },
     "execution_count": 78,
     "metadata": {},
     "output_type": "execute_result"
    }
   ],
   "source": [
    "row_mean"
   ]
  },
  {
   "cell_type": "code",
   "execution_count": 85,
   "id": "85e9a349",
   "metadata": {
    "ExecuteTime": {
     "end_time": "2023-10-02T15:55:18.116784Z",
     "start_time": "2023-10-02T15:55:18.112359Z"
    }
   },
   "outputs": [],
   "source": [
    "#Median\n",
    "\n",
    "arr = np.array([[1, 2, 3], [4, 5, 6]])\n",
    "\n",
    "median = np.median(arr)"
   ]
  },
  {
   "cell_type": "code",
   "execution_count": 86,
   "id": "37248e4c",
   "metadata": {
    "ExecuteTime": {
     "end_time": "2023-10-02T15:55:25.078216Z",
     "start_time": "2023-10-02T15:55:25.072708Z"
    }
   },
   "outputs": [
    {
     "data": {
      "text/plain": [
       "3.5"
      ]
     },
     "execution_count": 86,
     "metadata": {},
     "output_type": "execute_result"
    }
   ],
   "source": [
    "median"
   ]
  },
  {
   "cell_type": "code",
   "execution_count": 87,
   "id": "ea8f788b",
   "metadata": {
    "ExecuteTime": {
     "end_time": "2023-10-02T15:56:36.909688Z",
     "start_time": "2023-10-02T15:56:36.906460Z"
    }
   },
   "outputs": [],
   "source": [
    "col_med = np.median(arr , axis=0)"
   ]
  },
  {
   "cell_type": "code",
   "execution_count": 88,
   "id": "7be98891",
   "metadata": {
    "ExecuteTime": {
     "end_time": "2023-10-02T15:56:41.742284Z",
     "start_time": "2023-10-02T15:56:41.736702Z"
    }
   },
   "outputs": [
    {
     "data": {
      "text/plain": [
       "array([2.5, 3.5, 4.5])"
      ]
     },
     "execution_count": 88,
     "metadata": {},
     "output_type": "execute_result"
    }
   ],
   "source": [
    "col_med"
   ]
  },
  {
   "cell_type": "code",
   "execution_count": 89,
   "id": "9af969c6",
   "metadata": {
    "ExecuteTime": {
     "end_time": "2023-10-02T15:57:00.998352Z",
     "start_time": "2023-10-02T15:57:00.993351Z"
    }
   },
   "outputs": [],
   "source": [
    "row_med = np.median(arr , axis=1)"
   ]
  },
  {
   "cell_type": "code",
   "execution_count": 90,
   "id": "099ac814",
   "metadata": {
    "ExecuteTime": {
     "end_time": "2023-10-02T15:57:05.040204Z",
     "start_time": "2023-10-02T15:57:05.034208Z"
    }
   },
   "outputs": [
    {
     "data": {
      "text/plain": [
       "array([2., 5.])"
      ]
     },
     "execution_count": 90,
     "metadata": {},
     "output_type": "execute_result"
    }
   ],
   "source": [
    "row_med"
   ]
  },
  {
   "cell_type": "code",
   "execution_count": 91,
   "id": "5301b4d7",
   "metadata": {
    "ExecuteTime": {
     "end_time": "2023-10-02T15:57:49.750808Z",
     "start_time": "2023-10-02T15:57:49.746306Z"
    }
   },
   "outputs": [],
   "source": [
    "#Minimum\n",
    "\n",
    "arr = np.array([[1, 2, 3], [4, 5, 6]])\n",
    "\n",
    "min_value = np.min(arr)"
   ]
  },
  {
   "cell_type": "code",
   "execution_count": 92,
   "id": "92fcf6b6",
   "metadata": {
    "ExecuteTime": {
     "end_time": "2023-10-02T15:58:01.741077Z",
     "start_time": "2023-10-02T15:58:01.736530Z"
    }
   },
   "outputs": [
    {
     "data": {
      "text/plain": [
       "1"
      ]
     },
     "execution_count": 92,
     "metadata": {},
     "output_type": "execute_result"
    }
   ],
   "source": [
    "min_value"
   ]
  },
  {
   "cell_type": "code",
   "execution_count": 93,
   "id": "9959f439",
   "metadata": {
    "ExecuteTime": {
     "end_time": "2023-10-02T15:58:20.798835Z",
     "start_time": "2023-10-02T15:58:20.793881Z"
    }
   },
   "outputs": [],
   "source": [
    "max_value = np.max(arr)"
   ]
  },
  {
   "cell_type": "code",
   "execution_count": 94,
   "id": "3264c7f2",
   "metadata": {
    "ExecuteTime": {
     "end_time": "2023-10-02T15:58:23.898537Z",
     "start_time": "2023-10-02T15:58:23.890552Z"
    }
   },
   "outputs": [
    {
     "data": {
      "text/plain": [
       "6"
      ]
     },
     "execution_count": 94,
     "metadata": {},
     "output_type": "execute_result"
    }
   ],
   "source": [
    "max_value"
   ]
  },
  {
   "cell_type": "code",
   "execution_count": 95,
   "id": "c45ffebd",
   "metadata": {
    "ExecuteTime": {
     "end_time": "2023-10-02T15:59:33.053278Z",
     "start_time": "2023-10-02T15:59:33.050158Z"
    }
   },
   "outputs": [],
   "source": [
    "max_col_value = np.max(arr , axis=0)"
   ]
  },
  {
   "cell_type": "code",
   "execution_count": 96,
   "id": "e7bb3f4d",
   "metadata": {
    "ExecuteTime": {
     "end_time": "2023-10-02T15:59:36.119570Z",
     "start_time": "2023-10-02T15:59:36.114287Z"
    }
   },
   "outputs": [
    {
     "data": {
      "text/plain": [
       "array([4, 5, 6])"
      ]
     },
     "execution_count": 96,
     "metadata": {},
     "output_type": "execute_result"
    }
   ],
   "source": [
    "max_col_value"
   ]
  },
  {
   "cell_type": "markdown",
   "id": "31467258",
   "metadata": {},
   "source": [
    "## Boolean Indexing"
   ]
  },
  {
   "cell_type": "code",
   "execution_count": 106,
   "id": "5809483f",
   "metadata": {
    "ExecuteTime": {
     "end_time": "2023-10-02T16:04:17.156360Z",
     "start_time": "2023-10-02T16:04:17.152099Z"
    }
   },
   "outputs": [],
   "source": [
    "data = np.array([1, 2, 3, 4, 5])\n",
    "\n",
    "result = data[(data > 3) | (data < 2)]\n",
    "\n",
    "result1 = data[(data > 3) & (data < 5)]"
   ]
  },
  {
   "cell_type": "code",
   "execution_count": 107,
   "id": "ac15ee26",
   "metadata": {
    "ExecuteTime": {
     "end_time": "2023-10-02T16:04:17.493085Z",
     "start_time": "2023-10-02T16:04:17.488418Z"
    }
   },
   "outputs": [
    {
     "data": {
      "text/plain": [
       "array([4])"
      ]
     },
     "execution_count": 107,
     "metadata": {},
     "output_type": "execute_result"
    }
   ],
   "source": [
    "result1"
   ]
  },
  {
   "cell_type": "markdown",
   "id": "e592d17e",
   "metadata": {},
   "source": [
    "# Pandas"
   ]
  },
  {
   "cell_type": "markdown",
   "id": "be3ef8c9",
   "metadata": {},
   "source": [
    "### Key Features\n",
    "\n",
    "1. DataFrame\n",
    "2. Series (1-D list of different datatypes)\n",
    "3. Data Cleaning\n",
    "4. Data Selection and Filtering\n",
    "5. Aggregation and Grouping\n",
    "6. Data Visualization"
   ]
  },
  {
   "cell_type": "code",
   "execution_count": 108,
   "id": "6495bb04",
   "metadata": {
    "ExecuteTime": {
     "end_time": "2023-10-02T16:12:21.768348Z",
     "start_time": "2023-10-02T16:12:21.434169Z"
    }
   },
   "outputs": [],
   "source": [
    "import pandas as pd"
   ]
  },
  {
   "cell_type": "code",
   "execution_count": 109,
   "id": "6a560d30",
   "metadata": {
    "ExecuteTime": {
     "end_time": "2023-10-02T16:15:48.559551Z",
     "start_time": "2023-10-02T16:15:48.555547Z"
    }
   },
   "outputs": [],
   "source": [
    "data = {\n",
    "    'Name': ['Shahzaib' , 'Azhar'],\n",
    "    'Age' : [21 , 19],\n",
    "    'City': ['Peshawar' , 'Nowshera']\n",
    "}"
   ]
  },
  {
   "cell_type": "code",
   "execution_count": 111,
   "id": "abb1e682",
   "metadata": {
    "ExecuteTime": {
     "end_time": "2023-10-02T16:16:33.526848Z",
     "start_time": "2023-10-02T16:16:33.521516Z"
    }
   },
   "outputs": [],
   "source": [
    "df = pd.DataFrame(data)"
   ]
  },
  {
   "cell_type": "code",
   "execution_count": 112,
   "id": "4d18044e",
   "metadata": {
    "ExecuteTime": {
     "end_time": "2023-10-02T16:16:43.997888Z",
     "start_time": "2023-10-02T16:16:43.985004Z"
    }
   },
   "outputs": [
    {
     "name": "stdout",
     "output_type": "stream",
     "text": [
      "       Name  Age      City\n",
      "0  Shahzaib   21  Peshawar\n",
      "1     Azhar   19  Nowshera\n"
     ]
    }
   ],
   "source": [
    "print(df)"
   ]
  },
  {
   "cell_type": "code",
   "execution_count": 113,
   "id": "bc7b985e",
   "metadata": {
    "ExecuteTime": {
     "end_time": "2023-10-02T16:17:31.924039Z",
     "start_time": "2023-10-02T16:17:31.919573Z"
    }
   },
   "outputs": [
    {
     "name": "stdout",
     "output_type": "stream",
     "text": [
      "0    21\n",
      "1    19\n",
      "Name: Age, dtype: int64\n"
     ]
    }
   ],
   "source": [
    "print(df['Age'])"
   ]
  },
  {
   "cell_type": "code",
   "execution_count": 114,
   "id": "fab5733d",
   "metadata": {
    "ExecuteTime": {
     "end_time": "2023-10-02T16:18:57.557161Z",
     "start_time": "2023-10-02T16:18:57.553762Z"
    }
   },
   "outputs": [],
   "source": [
    "data = [10, 20, 30, 40, 50]"
   ]
  },
  {
   "cell_type": "code",
   "execution_count": 115,
   "id": "64f857e7",
   "metadata": {
    "ExecuteTime": {
     "end_time": "2023-10-02T16:19:08.766036Z",
     "start_time": "2023-10-02T16:19:08.761323Z"
    }
   },
   "outputs": [],
   "source": [
    "series = pd.Series(data)"
   ]
  },
  {
   "cell_type": "code",
   "execution_count": 116,
   "id": "e938c103",
   "metadata": {
    "ExecuteTime": {
     "end_time": "2023-10-02T16:19:12.287390Z",
     "start_time": "2023-10-02T16:19:12.282401Z"
    },
    "scrolled": true
   },
   "outputs": [
    {
     "name": "stdout",
     "output_type": "stream",
     "text": [
      "0    10\n",
      "1    20\n",
      "2    30\n",
      "3    40\n",
      "4    50\n",
      "dtype: int64\n"
     ]
    }
   ],
   "source": [
    "print(series)"
   ]
  },
  {
   "cell_type": "code",
   "execution_count": 117,
   "id": "28c95764",
   "metadata": {
    "ExecuteTime": {
     "end_time": "2023-10-02T16:19:37.034434Z",
     "start_time": "2023-10-02T16:19:37.026974Z"
    }
   },
   "outputs": [
    {
     "data": {
      "text/plain": [
       "10"
      ]
     },
     "execution_count": 117,
     "metadata": {},
     "output_type": "execute_result"
    }
   ],
   "source": [
    "series[0]"
   ]
  },
  {
   "cell_type": "code",
   "execution_count": 118,
   "id": "4831d291",
   "metadata": {
    "ExecuteTime": {
     "end_time": "2023-10-02T16:21:01.973645Z",
     "start_time": "2023-10-02T16:21:01.968985Z"
    }
   },
   "outputs": [],
   "source": [
    "data = {\n",
    "    'Name': ['Shahzaib' , 'Azhar'],\n",
    "    'Age' : [21 , 19],\n",
    "    'City': ['Peshawar' , 'Nowshera']\n",
    "}"
   ]
  },
  {
   "cell_type": "code",
   "execution_count": 119,
   "id": "94992654",
   "metadata": {
    "ExecuteTime": {
     "end_time": "2023-10-02T16:21:11.374218Z",
     "start_time": "2023-10-02T16:21:11.369277Z"
    }
   },
   "outputs": [],
   "source": [
    "df = pd.DataFrame(data)"
   ]
  },
  {
   "cell_type": "code",
   "execution_count": 120,
   "id": "546c1f31",
   "metadata": {
    "ExecuteTime": {
     "end_time": "2023-10-02T16:21:18.735651Z",
     "start_time": "2023-10-02T16:21:18.730162Z"
    }
   },
   "outputs": [
    {
     "name": "stdout",
     "output_type": "stream",
     "text": [
      "0    21\n",
      "1    19\n",
      "Name: Age, dtype: int64\n"
     ]
    }
   ],
   "source": [
    "print(df['Age'])"
   ]
  },
  {
   "cell_type": "code",
   "execution_count": 122,
   "id": "93f10546",
   "metadata": {
    "ExecuteTime": {
     "end_time": "2023-10-02T16:21:41.817125Z",
     "start_time": "2023-10-02T16:21:41.801651Z"
    }
   },
   "outputs": [
    {
     "data": {
      "text/html": [
       "<div>\n",
       "<style scoped>\n",
       "    .dataframe tbody tr th:only-of-type {\n",
       "        vertical-align: middle;\n",
       "    }\n",
       "\n",
       "    .dataframe tbody tr th {\n",
       "        vertical-align: top;\n",
       "    }\n",
       "\n",
       "    .dataframe thead th {\n",
       "        text-align: right;\n",
       "    }\n",
       "</style>\n",
       "<table border=\"1\" class=\"dataframe\">\n",
       "  <thead>\n",
       "    <tr style=\"text-align: right;\">\n",
       "      <th></th>\n",
       "      <th>Name</th>\n",
       "      <th>Age</th>\n",
       "      <th>City</th>\n",
       "    </tr>\n",
       "  </thead>\n",
       "  <tbody>\n",
       "    <tr>\n",
       "      <th>0</th>\n",
       "      <td>Shahzaib</td>\n",
       "      <td>21</td>\n",
       "      <td>Peshawar</td>\n",
       "    </tr>\n",
       "    <tr>\n",
       "      <th>1</th>\n",
       "      <td>Azhar</td>\n",
       "      <td>19</td>\n",
       "      <td>Nowshera</td>\n",
       "    </tr>\n",
       "  </tbody>\n",
       "</table>\n",
       "</div>"
      ],
      "text/plain": [
       "       Name  Age      City\n",
       "0  Shahzaib   21  Peshawar\n",
       "1     Azhar   19  Nowshera"
      ]
     },
     "execution_count": 122,
     "metadata": {},
     "output_type": "execute_result"
    }
   ],
   "source": [
    "df"
   ]
  },
  {
   "cell_type": "code",
   "execution_count": 124,
   "id": "6ae88594",
   "metadata": {
    "ExecuteTime": {
     "end_time": "2023-10-02T16:22:17.998894Z",
     "start_time": "2023-10-02T16:22:17.993419Z"
    }
   },
   "outputs": [
    {
     "name": "stdout",
     "output_type": "stream",
     "text": [
      "Name       Azhar\n",
      "Age           19\n",
      "City    Nowshera\n",
      "Name: 1, dtype: object\n"
     ]
    }
   ],
   "source": [
    "print(df.loc[1])"
   ]
  },
  {
   "cell_type": "code",
   "execution_count": 125,
   "id": "d3da30c9",
   "metadata": {
    "ExecuteTime": {
     "end_time": "2023-10-02T16:22:51.230300Z",
     "start_time": "2023-10-02T16:22:51.224748Z"
    }
   },
   "outputs": [
    {
     "data": {
      "text/plain": [
       "21"
      ]
     },
     "execution_count": 125,
     "metadata": {},
     "output_type": "execute_result"
    }
   ],
   "source": [
    "df['Age'][0]"
   ]
  },
  {
   "cell_type": "markdown",
   "id": "9e18926c",
   "metadata": {},
   "source": [
    "### Data Selection and Filtering"
   ]
  },
  {
   "cell_type": "code",
   "execution_count": 144,
   "id": "d57e3a9c",
   "metadata": {
    "ExecuteTime": {
     "end_time": "2023-10-02T16:30:54.016265Z",
     "start_time": "2023-10-02T16:30:54.010280Z"
    }
   },
   "outputs": [],
   "source": [
    "data = {'Name': ['Alice', 'Bob', 'Charlie'],\n",
    "        'Age': [25, 30, 35],\n",
    "        'City': ['New York', 'San Francisco', 'Los Angeles']}\n",
    "\n",
    "df = pd.DataFrame(data)"
   ]
  },
  {
   "cell_type": "code",
   "execution_count": 127,
   "id": "d07d7c0f",
   "metadata": {
    "ExecuteTime": {
     "end_time": "2023-10-02T16:25:25.857382Z",
     "start_time": "2023-10-02T16:25:25.848831Z"
    }
   },
   "outputs": [
    {
     "data": {
      "text/html": [
       "<div>\n",
       "<style scoped>\n",
       "    .dataframe tbody tr th:only-of-type {\n",
       "        vertical-align: middle;\n",
       "    }\n",
       "\n",
       "    .dataframe tbody tr th {\n",
       "        vertical-align: top;\n",
       "    }\n",
       "\n",
       "    .dataframe thead th {\n",
       "        text-align: right;\n",
       "    }\n",
       "</style>\n",
       "<table border=\"1\" class=\"dataframe\">\n",
       "  <thead>\n",
       "    <tr style=\"text-align: right;\">\n",
       "      <th></th>\n",
       "      <th>Name</th>\n",
       "      <th>Age</th>\n",
       "      <th>City</th>\n",
       "    </tr>\n",
       "  </thead>\n",
       "  <tbody>\n",
       "    <tr>\n",
       "      <th>0</th>\n",
       "      <td>Alice</td>\n",
       "      <td>25</td>\n",
       "      <td>New York</td>\n",
       "    </tr>\n",
       "    <tr>\n",
       "      <th>1</th>\n",
       "      <td>Bob</td>\n",
       "      <td>30</td>\n",
       "      <td>San Francisco</td>\n",
       "    </tr>\n",
       "    <tr>\n",
       "      <th>2</th>\n",
       "      <td>Charlie</td>\n",
       "      <td>35</td>\n",
       "      <td>Los Angeles</td>\n",
       "    </tr>\n",
       "  </tbody>\n",
       "</table>\n",
       "</div>"
      ],
      "text/plain": [
       "      Name  Age           City\n",
       "0    Alice   25       New York\n",
       "1      Bob   30  San Francisco\n",
       "2  Charlie   35    Los Angeles"
      ]
     },
     "execution_count": 127,
     "metadata": {},
     "output_type": "execute_result"
    }
   ],
   "source": [
    "df"
   ]
  },
  {
   "cell_type": "code",
   "execution_count": 132,
   "id": "eedde064",
   "metadata": {
    "ExecuteTime": {
     "end_time": "2023-10-02T16:27:09.216370Z",
     "start_time": "2023-10-02T16:27:09.208219Z"
    }
   },
   "outputs": [],
   "source": [
    "#Selecting Cols by Name\n",
    "\n",
    "selected_cols = df[['Name' , 'Age']]"
   ]
  },
  {
   "cell_type": "code",
   "execution_count": 133,
   "id": "f31281e6",
   "metadata": {
    "ExecuteTime": {
     "end_time": "2023-10-02T16:27:11.234447Z",
     "start_time": "2023-10-02T16:27:11.220002Z"
    }
   },
   "outputs": [
    {
     "data": {
      "text/html": [
       "<div>\n",
       "<style scoped>\n",
       "    .dataframe tbody tr th:only-of-type {\n",
       "        vertical-align: middle;\n",
       "    }\n",
       "\n",
       "    .dataframe tbody tr th {\n",
       "        vertical-align: top;\n",
       "    }\n",
       "\n",
       "    .dataframe thead th {\n",
       "        text-align: right;\n",
       "    }\n",
       "</style>\n",
       "<table border=\"1\" class=\"dataframe\">\n",
       "  <thead>\n",
       "    <tr style=\"text-align: right;\">\n",
       "      <th></th>\n",
       "      <th>Name</th>\n",
       "      <th>Age</th>\n",
       "    </tr>\n",
       "  </thead>\n",
       "  <tbody>\n",
       "    <tr>\n",
       "      <th>0</th>\n",
       "      <td>Alice</td>\n",
       "      <td>25</td>\n",
       "    </tr>\n",
       "    <tr>\n",
       "      <th>1</th>\n",
       "      <td>Bob</td>\n",
       "      <td>30</td>\n",
       "    </tr>\n",
       "    <tr>\n",
       "      <th>2</th>\n",
       "      <td>Charlie</td>\n",
       "      <td>35</td>\n",
       "    </tr>\n",
       "  </tbody>\n",
       "</table>\n",
       "</div>"
      ],
      "text/plain": [
       "      Name  Age\n",
       "0    Alice   25\n",
       "1      Bob   30\n",
       "2  Charlie   35"
      ]
     },
     "execution_count": 133,
     "metadata": {},
     "output_type": "execute_result"
    }
   ],
   "source": [
    "selected_cols"
   ]
  },
  {
   "cell_type": "code",
   "execution_count": 142,
   "id": "efc0c1fd",
   "metadata": {
    "ExecuteTime": {
     "end_time": "2023-10-02T16:29:28.918701Z",
     "start_time": "2023-10-02T16:29:28.913441Z"
    }
   },
   "outputs": [],
   "source": [
    "#Selecting Cols by Index\n",
    "\n",
    "selected_cols = df.iloc[: , [0 , 2]]"
   ]
  },
  {
   "cell_type": "code",
   "execution_count": 143,
   "id": "0e49c13f",
   "metadata": {
    "ExecuteTime": {
     "end_time": "2023-10-02T16:29:29.163829Z",
     "start_time": "2023-10-02T16:29:29.155656Z"
    },
    "scrolled": true
   },
   "outputs": [
    {
     "data": {
      "text/html": [
       "<div>\n",
       "<style scoped>\n",
       "    .dataframe tbody tr th:only-of-type {\n",
       "        vertical-align: middle;\n",
       "    }\n",
       "\n",
       "    .dataframe tbody tr th {\n",
       "        vertical-align: top;\n",
       "    }\n",
       "\n",
       "    .dataframe thead th {\n",
       "        text-align: right;\n",
       "    }\n",
       "</style>\n",
       "<table border=\"1\" class=\"dataframe\">\n",
       "  <thead>\n",
       "    <tr style=\"text-align: right;\">\n",
       "      <th></th>\n",
       "      <th>Name</th>\n",
       "      <th>City</th>\n",
       "    </tr>\n",
       "  </thead>\n",
       "  <tbody>\n",
       "    <tr>\n",
       "      <th>0</th>\n",
       "      <td>Alice</td>\n",
       "      <td>New York</td>\n",
       "    </tr>\n",
       "    <tr>\n",
       "      <th>1</th>\n",
       "      <td>Bob</td>\n",
       "      <td>San Francisco</td>\n",
       "    </tr>\n",
       "    <tr>\n",
       "      <th>2</th>\n",
       "      <td>Charlie</td>\n",
       "      <td>Los Angeles</td>\n",
       "    </tr>\n",
       "  </tbody>\n",
       "</table>\n",
       "</div>"
      ],
      "text/plain": [
       "      Name           City\n",
       "0    Alice       New York\n",
       "1      Bob  San Francisco\n",
       "2  Charlie    Los Angeles"
      ]
     },
     "execution_count": 143,
     "metadata": {},
     "output_type": "execute_result"
    }
   ],
   "source": [
    "selected_cols"
   ]
  },
  {
   "cell_type": "code",
   "execution_count": 151,
   "id": "e165a2cc",
   "metadata": {
    "ExecuteTime": {
     "end_time": "2023-10-02T16:32:34.629132Z",
     "start_time": "2023-10-02T16:32:34.625546Z"
    }
   },
   "outputs": [],
   "source": [
    "# Data Filtering (Boolean Indexing)\n",
    "\n",
    "filtered_data = df[df['Age'] >= 30]"
   ]
  },
  {
   "cell_type": "code",
   "execution_count": 152,
   "id": "7bec6016",
   "metadata": {
    "ExecuteTime": {
     "end_time": "2023-10-02T16:32:36.395390Z",
     "start_time": "2023-10-02T16:32:36.386319Z"
    }
   },
   "outputs": [
    {
     "data": {
      "text/html": [
       "<div>\n",
       "<style scoped>\n",
       "    .dataframe tbody tr th:only-of-type {\n",
       "        vertical-align: middle;\n",
       "    }\n",
       "\n",
       "    .dataframe tbody tr th {\n",
       "        vertical-align: top;\n",
       "    }\n",
       "\n",
       "    .dataframe thead th {\n",
       "        text-align: right;\n",
       "    }\n",
       "</style>\n",
       "<table border=\"1\" class=\"dataframe\">\n",
       "  <thead>\n",
       "    <tr style=\"text-align: right;\">\n",
       "      <th></th>\n",
       "      <th>Name</th>\n",
       "      <th>Age</th>\n",
       "      <th>City</th>\n",
       "    </tr>\n",
       "  </thead>\n",
       "  <tbody>\n",
       "    <tr>\n",
       "      <th>1</th>\n",
       "      <td>Bob</td>\n",
       "      <td>30</td>\n",
       "      <td>San Francisco</td>\n",
       "    </tr>\n",
       "    <tr>\n",
       "      <th>2</th>\n",
       "      <td>Charlie</td>\n",
       "      <td>35</td>\n",
       "      <td>Los Angeles</td>\n",
       "    </tr>\n",
       "  </tbody>\n",
       "</table>\n",
       "</div>"
      ],
      "text/plain": [
       "      Name  Age           City\n",
       "1      Bob   30  San Francisco\n",
       "2  Charlie   35    Los Angeles"
      ]
     },
     "execution_count": 152,
     "metadata": {},
     "output_type": "execute_result"
    }
   ],
   "source": [
    "filtered_data"
   ]
  },
  {
   "cell_type": "code",
   "execution_count": 154,
   "id": "2945b949",
   "metadata": {
    "ExecuteTime": {
     "end_time": "2023-10-02T16:33:14.865012Z",
     "start_time": "2023-10-02T16:33:14.858489Z"
    }
   },
   "outputs": [],
   "source": [
    "filtered_data = df[(df['Age'] >= 30) & (df['City'] == 'San Francisco')]"
   ]
  },
  {
   "cell_type": "code",
   "execution_count": 155,
   "id": "1d3be1df",
   "metadata": {
    "ExecuteTime": {
     "end_time": "2023-10-02T16:33:24.912532Z",
     "start_time": "2023-10-02T16:33:24.905413Z"
    }
   },
   "outputs": [
    {
     "data": {
      "text/html": [
       "<div>\n",
       "<style scoped>\n",
       "    .dataframe tbody tr th:only-of-type {\n",
       "        vertical-align: middle;\n",
       "    }\n",
       "\n",
       "    .dataframe tbody tr th {\n",
       "        vertical-align: top;\n",
       "    }\n",
       "\n",
       "    .dataframe thead th {\n",
       "        text-align: right;\n",
       "    }\n",
       "</style>\n",
       "<table border=\"1\" class=\"dataframe\">\n",
       "  <thead>\n",
       "    <tr style=\"text-align: right;\">\n",
       "      <th></th>\n",
       "      <th>Name</th>\n",
       "      <th>Age</th>\n",
       "      <th>City</th>\n",
       "    </tr>\n",
       "  </thead>\n",
       "  <tbody>\n",
       "    <tr>\n",
       "      <th>1</th>\n",
       "      <td>Bob</td>\n",
       "      <td>30</td>\n",
       "      <td>San Francisco</td>\n",
       "    </tr>\n",
       "  </tbody>\n",
       "</table>\n",
       "</div>"
      ],
      "text/plain": [
       "  Name  Age           City\n",
       "1  Bob   30  San Francisco"
      ]
     },
     "execution_count": 155,
     "metadata": {},
     "output_type": "execute_result"
    }
   ],
   "source": [
    "filtered_data"
   ]
  },
  {
   "cell_type": "code",
   "execution_count": 162,
   "id": "04236b81",
   "metadata": {
    "ExecuteTime": {
     "end_time": "2023-10-02T16:36:04.740279Z",
     "start_time": "2023-10-02T16:36:04.727951Z"
    }
   },
   "outputs": [],
   "source": [
    "# Queries\n",
    "filtered_data = df.query('Age >= 30 and City == \"Los Angeles\"') "
   ]
  },
  {
   "cell_type": "code",
   "execution_count": 163,
   "id": "5a5c087d",
   "metadata": {
    "ExecuteTime": {
     "end_time": "2023-10-02T16:36:05.097074Z",
     "start_time": "2023-10-02T16:36:05.089969Z"
    }
   },
   "outputs": [
    {
     "data": {
      "text/html": [
       "<div>\n",
       "<style scoped>\n",
       "    .dataframe tbody tr th:only-of-type {\n",
       "        vertical-align: middle;\n",
       "    }\n",
       "\n",
       "    .dataframe tbody tr th {\n",
       "        vertical-align: top;\n",
       "    }\n",
       "\n",
       "    .dataframe thead th {\n",
       "        text-align: right;\n",
       "    }\n",
       "</style>\n",
       "<table border=\"1\" class=\"dataframe\">\n",
       "  <thead>\n",
       "    <tr style=\"text-align: right;\">\n",
       "      <th></th>\n",
       "      <th>Name</th>\n",
       "      <th>Age</th>\n",
       "      <th>City</th>\n",
       "    </tr>\n",
       "  </thead>\n",
       "  <tbody>\n",
       "    <tr>\n",
       "      <th>2</th>\n",
       "      <td>Charlie</td>\n",
       "      <td>35</td>\n",
       "      <td>Los Angeles</td>\n",
       "    </tr>\n",
       "  </tbody>\n",
       "</table>\n",
       "</div>"
      ],
      "text/plain": [
       "      Name  Age         City\n",
       "2  Charlie   35  Los Angeles"
      ]
     },
     "execution_count": 163,
     "metadata": {},
     "output_type": "execute_result"
    }
   ],
   "source": [
    "filtered_data"
   ]
  },
  {
   "cell_type": "code",
   "execution_count": 169,
   "id": "8a7b7b3b",
   "metadata": {
    "ExecuteTime": {
     "end_time": "2023-10-02T16:39:17.533053Z",
     "start_time": "2023-10-02T16:39:17.527885Z"
    }
   },
   "outputs": [],
   "source": [
    "# Modifying Data in Dataframes\n",
    "\n",
    "df.loc[df['Name'] == 'Bob' , 'Age'] = 29"
   ]
  },
  {
   "cell_type": "code",
   "execution_count": 170,
   "id": "bd061564",
   "metadata": {
    "ExecuteTime": {
     "end_time": "2023-10-02T16:39:17.767815Z",
     "start_time": "2023-10-02T16:39:17.753827Z"
    }
   },
   "outputs": [
    {
     "data": {
      "text/html": [
       "<div>\n",
       "<style scoped>\n",
       "    .dataframe tbody tr th:only-of-type {\n",
       "        vertical-align: middle;\n",
       "    }\n",
       "\n",
       "    .dataframe tbody tr th {\n",
       "        vertical-align: top;\n",
       "    }\n",
       "\n",
       "    .dataframe thead th {\n",
       "        text-align: right;\n",
       "    }\n",
       "</style>\n",
       "<table border=\"1\" class=\"dataframe\">\n",
       "  <thead>\n",
       "    <tr style=\"text-align: right;\">\n",
       "      <th></th>\n",
       "      <th>Name</th>\n",
       "      <th>Age</th>\n",
       "      <th>City</th>\n",
       "    </tr>\n",
       "  </thead>\n",
       "  <tbody>\n",
       "    <tr>\n",
       "      <th>0</th>\n",
       "      <td>Alice</td>\n",
       "      <td>25</td>\n",
       "      <td>New York</td>\n",
       "    </tr>\n",
       "    <tr>\n",
       "      <th>1</th>\n",
       "      <td>Bob</td>\n",
       "      <td>29</td>\n",
       "      <td>San Francisco</td>\n",
       "    </tr>\n",
       "    <tr>\n",
       "      <th>2</th>\n",
       "      <td>Charlie</td>\n",
       "      <td>35</td>\n",
       "      <td>Los Angeles</td>\n",
       "    </tr>\n",
       "  </tbody>\n",
       "</table>\n",
       "</div>"
      ],
      "text/plain": [
       "      Name  Age           City\n",
       "0    Alice   25       New York\n",
       "1      Bob   29  San Francisco\n",
       "2  Charlie   35    Los Angeles"
      ]
     },
     "execution_count": 170,
     "metadata": {},
     "output_type": "execute_result"
    }
   ],
   "source": [
    "df"
   ]
  },
  {
   "cell_type": "code",
   "execution_count": 172,
   "id": "31c09ba3",
   "metadata": {
    "ExecuteTime": {
     "end_time": "2023-10-02T16:41:49.319855Z",
     "start_time": "2023-10-02T16:41:49.315261Z"
    }
   },
   "outputs": [],
   "source": [
    "df['Age Group'] = df['Age'].apply(lambda age: 'Young' if age < 30 else 'Adult')"
   ]
  },
  {
   "cell_type": "code",
   "execution_count": 173,
   "id": "468e55c8",
   "metadata": {
    "ExecuteTime": {
     "end_time": "2023-10-02T16:41:50.666541Z",
     "start_time": "2023-10-02T16:41:50.657558Z"
    }
   },
   "outputs": [
    {
     "data": {
      "text/html": [
       "<div>\n",
       "<style scoped>\n",
       "    .dataframe tbody tr th:only-of-type {\n",
       "        vertical-align: middle;\n",
       "    }\n",
       "\n",
       "    .dataframe tbody tr th {\n",
       "        vertical-align: top;\n",
       "    }\n",
       "\n",
       "    .dataframe thead th {\n",
       "        text-align: right;\n",
       "    }\n",
       "</style>\n",
       "<table border=\"1\" class=\"dataframe\">\n",
       "  <thead>\n",
       "    <tr style=\"text-align: right;\">\n",
       "      <th></th>\n",
       "      <th>Name</th>\n",
       "      <th>Age</th>\n",
       "      <th>City</th>\n",
       "      <th>Age Group</th>\n",
       "    </tr>\n",
       "  </thead>\n",
       "  <tbody>\n",
       "    <tr>\n",
       "      <th>0</th>\n",
       "      <td>Alice</td>\n",
       "      <td>25</td>\n",
       "      <td>New York</td>\n",
       "      <td>Young</td>\n",
       "    </tr>\n",
       "    <tr>\n",
       "      <th>1</th>\n",
       "      <td>Bob</td>\n",
       "      <td>29</td>\n",
       "      <td>San Francisco</td>\n",
       "      <td>Young</td>\n",
       "    </tr>\n",
       "    <tr>\n",
       "      <th>2</th>\n",
       "      <td>Charlie</td>\n",
       "      <td>35</td>\n",
       "      <td>Los Angeles</td>\n",
       "      <td>Adult</td>\n",
       "    </tr>\n",
       "  </tbody>\n",
       "</table>\n",
       "</div>"
      ],
      "text/plain": [
       "      Name  Age           City Age Group\n",
       "0    Alice   25       New York     Young\n",
       "1      Bob   29  San Francisco     Young\n",
       "2  Charlie   35    Los Angeles     Adult"
      ]
     },
     "execution_count": 173,
     "metadata": {},
     "output_type": "execute_result"
    }
   ],
   "source": [
    "df"
   ]
  },
  {
   "cell_type": "code",
   "execution_count": 175,
   "id": "c105bd9b",
   "metadata": {
    "ExecuteTime": {
     "end_time": "2023-10-02T16:44:05.526760Z",
     "start_time": "2023-10-02T16:44:05.522458Z"
    }
   },
   "outputs": [],
   "source": [
    "# Data Cleaning\n",
    "\n",
    "data = {'A': [1, 2, np.nan, 4],\n",
    "        'B': [5, np.nan, np.nan, 8],\n",
    "        'C': [9, 10, 11, 12]}\n",
    "\n",
    "df = pd.DataFrame(data)"
   ]
  },
  {
   "cell_type": "code",
   "execution_count": 176,
   "id": "485043dd",
   "metadata": {
    "ExecuteTime": {
     "end_time": "2023-10-02T16:44:08.818694Z",
     "start_time": "2023-10-02T16:44:08.809605Z"
    }
   },
   "outputs": [
    {
     "data": {
      "text/html": [
       "<div>\n",
       "<style scoped>\n",
       "    .dataframe tbody tr th:only-of-type {\n",
       "        vertical-align: middle;\n",
       "    }\n",
       "\n",
       "    .dataframe tbody tr th {\n",
       "        vertical-align: top;\n",
       "    }\n",
       "\n",
       "    .dataframe thead th {\n",
       "        text-align: right;\n",
       "    }\n",
       "</style>\n",
       "<table border=\"1\" class=\"dataframe\">\n",
       "  <thead>\n",
       "    <tr style=\"text-align: right;\">\n",
       "      <th></th>\n",
       "      <th>A</th>\n",
       "      <th>B</th>\n",
       "      <th>C</th>\n",
       "    </tr>\n",
       "  </thead>\n",
       "  <tbody>\n",
       "    <tr>\n",
       "      <th>0</th>\n",
       "      <td>1.0</td>\n",
       "      <td>5.0</td>\n",
       "      <td>9</td>\n",
       "    </tr>\n",
       "    <tr>\n",
       "      <th>1</th>\n",
       "      <td>2.0</td>\n",
       "      <td>NaN</td>\n",
       "      <td>10</td>\n",
       "    </tr>\n",
       "    <tr>\n",
       "      <th>2</th>\n",
       "      <td>NaN</td>\n",
       "      <td>NaN</td>\n",
       "      <td>11</td>\n",
       "    </tr>\n",
       "    <tr>\n",
       "      <th>3</th>\n",
       "      <td>4.0</td>\n",
       "      <td>8.0</td>\n",
       "      <td>12</td>\n",
       "    </tr>\n",
       "  </tbody>\n",
       "</table>\n",
       "</div>"
      ],
      "text/plain": [
       "     A    B   C\n",
       "0  1.0  5.0   9\n",
       "1  2.0  NaN  10\n",
       "2  NaN  NaN  11\n",
       "3  4.0  8.0  12"
      ]
     },
     "execution_count": 176,
     "metadata": {},
     "output_type": "execute_result"
    }
   ],
   "source": [
    "df"
   ]
  },
  {
   "cell_type": "code",
   "execution_count": 178,
   "id": "d7feaf5c",
   "metadata": {
    "ExecuteTime": {
     "end_time": "2023-10-02T16:44:52.913049Z",
     "start_time": "2023-10-02T16:44:52.905069Z"
    }
   },
   "outputs": [
    {
     "data": {
      "text/html": [
       "<div>\n",
       "<style scoped>\n",
       "    .dataframe tbody tr th:only-of-type {\n",
       "        vertical-align: middle;\n",
       "    }\n",
       "\n",
       "    .dataframe tbody tr th {\n",
       "        vertical-align: top;\n",
       "    }\n",
       "\n",
       "    .dataframe thead th {\n",
       "        text-align: right;\n",
       "    }\n",
       "</style>\n",
       "<table border=\"1\" class=\"dataframe\">\n",
       "  <thead>\n",
       "    <tr style=\"text-align: right;\">\n",
       "      <th></th>\n",
       "      <th>A</th>\n",
       "      <th>B</th>\n",
       "      <th>C</th>\n",
       "    </tr>\n",
       "  </thead>\n",
       "  <tbody>\n",
       "    <tr>\n",
       "      <th>0</th>\n",
       "      <td>False</td>\n",
       "      <td>False</td>\n",
       "      <td>False</td>\n",
       "    </tr>\n",
       "    <tr>\n",
       "      <th>1</th>\n",
       "      <td>False</td>\n",
       "      <td>True</td>\n",
       "      <td>False</td>\n",
       "    </tr>\n",
       "    <tr>\n",
       "      <th>2</th>\n",
       "      <td>True</td>\n",
       "      <td>True</td>\n",
       "      <td>False</td>\n",
       "    </tr>\n",
       "    <tr>\n",
       "      <th>3</th>\n",
       "      <td>False</td>\n",
       "      <td>False</td>\n",
       "      <td>False</td>\n",
       "    </tr>\n",
       "  </tbody>\n",
       "</table>\n",
       "</div>"
      ],
      "text/plain": [
       "       A      B      C\n",
       "0  False  False  False\n",
       "1  False   True  False\n",
       "2   True   True  False\n",
       "3  False  False  False"
      ]
     },
     "execution_count": 178,
     "metadata": {},
     "output_type": "execute_result"
    }
   ],
   "source": [
    "df.isnull()"
   ]
  },
  {
   "cell_type": "code",
   "execution_count": 179,
   "id": "26c71f24",
   "metadata": {
    "ExecuteTime": {
     "end_time": "2023-10-02T16:45:22.313742Z",
     "start_time": "2023-10-02T16:45:22.306725Z"
    }
   },
   "outputs": [],
   "source": [
    "df_cleaned = df.dropna()"
   ]
  },
  {
   "cell_type": "code",
   "execution_count": 180,
   "id": "4068af8a",
   "metadata": {
    "ExecuteTime": {
     "end_time": "2023-10-02T16:45:26.241266Z",
     "start_time": "2023-10-02T16:45:26.232773Z"
    }
   },
   "outputs": [
    {
     "data": {
      "text/html": [
       "<div>\n",
       "<style scoped>\n",
       "    .dataframe tbody tr th:only-of-type {\n",
       "        vertical-align: middle;\n",
       "    }\n",
       "\n",
       "    .dataframe tbody tr th {\n",
       "        vertical-align: top;\n",
       "    }\n",
       "\n",
       "    .dataframe thead th {\n",
       "        text-align: right;\n",
       "    }\n",
       "</style>\n",
       "<table border=\"1\" class=\"dataframe\">\n",
       "  <thead>\n",
       "    <tr style=\"text-align: right;\">\n",
       "      <th></th>\n",
       "      <th>A</th>\n",
       "      <th>B</th>\n",
       "      <th>C</th>\n",
       "    </tr>\n",
       "  </thead>\n",
       "  <tbody>\n",
       "    <tr>\n",
       "      <th>0</th>\n",
       "      <td>1.0</td>\n",
       "      <td>5.0</td>\n",
       "      <td>9</td>\n",
       "    </tr>\n",
       "    <tr>\n",
       "      <th>3</th>\n",
       "      <td>4.0</td>\n",
       "      <td>8.0</td>\n",
       "      <td>12</td>\n",
       "    </tr>\n",
       "  </tbody>\n",
       "</table>\n",
       "</div>"
      ],
      "text/plain": [
       "     A    B   C\n",
       "0  1.0  5.0   9\n",
       "3  4.0  8.0  12"
      ]
     },
     "execution_count": 180,
     "metadata": {},
     "output_type": "execute_result"
    }
   ],
   "source": [
    "df_cleaned"
   ]
  },
  {
   "cell_type": "code",
   "execution_count": 181,
   "id": "6066c95f",
   "metadata": {
    "ExecuteTime": {
     "end_time": "2023-10-02T16:46:06.579778Z",
     "start_time": "2023-10-02T16:46:06.575862Z"
    }
   },
   "outputs": [],
   "source": [
    "df_modified = df.fillna(0)"
   ]
  },
  {
   "cell_type": "code",
   "execution_count": 182,
   "id": "4fb51ae6",
   "metadata": {
    "ExecuteTime": {
     "end_time": "2023-10-02T16:46:12.037701Z",
     "start_time": "2023-10-02T16:46:12.025877Z"
    }
   },
   "outputs": [
    {
     "data": {
      "text/html": [
       "<div>\n",
       "<style scoped>\n",
       "    .dataframe tbody tr th:only-of-type {\n",
       "        vertical-align: middle;\n",
       "    }\n",
       "\n",
       "    .dataframe tbody tr th {\n",
       "        vertical-align: top;\n",
       "    }\n",
       "\n",
       "    .dataframe thead th {\n",
       "        text-align: right;\n",
       "    }\n",
       "</style>\n",
       "<table border=\"1\" class=\"dataframe\">\n",
       "  <thead>\n",
       "    <tr style=\"text-align: right;\">\n",
       "      <th></th>\n",
       "      <th>A</th>\n",
       "      <th>B</th>\n",
       "      <th>C</th>\n",
       "    </tr>\n",
       "  </thead>\n",
       "  <tbody>\n",
       "    <tr>\n",
       "      <th>0</th>\n",
       "      <td>1.0</td>\n",
       "      <td>5.0</td>\n",
       "      <td>9</td>\n",
       "    </tr>\n",
       "    <tr>\n",
       "      <th>1</th>\n",
       "      <td>2.0</td>\n",
       "      <td>0.0</td>\n",
       "      <td>10</td>\n",
       "    </tr>\n",
       "    <tr>\n",
       "      <th>2</th>\n",
       "      <td>0.0</td>\n",
       "      <td>0.0</td>\n",
       "      <td>11</td>\n",
       "    </tr>\n",
       "    <tr>\n",
       "      <th>3</th>\n",
       "      <td>4.0</td>\n",
       "      <td>8.0</td>\n",
       "      <td>12</td>\n",
       "    </tr>\n",
       "  </tbody>\n",
       "</table>\n",
       "</div>"
      ],
      "text/plain": [
       "     A    B   C\n",
       "0  1.0  5.0   9\n",
       "1  2.0  0.0  10\n",
       "2  0.0  0.0  11\n",
       "3  4.0  8.0  12"
      ]
     },
     "execution_count": 182,
     "metadata": {},
     "output_type": "execute_result"
    }
   ],
   "source": [
    "df_modified"
   ]
  },
  {
   "cell_type": "code",
   "execution_count": 183,
   "id": "945ed71a",
   "metadata": {
    "ExecuteTime": {
     "end_time": "2023-10-02T16:47:07.393377Z",
     "start_time": "2023-10-02T16:47:07.385817Z"
    }
   },
   "outputs": [],
   "source": [
    "df_mean_filled = df.fillna(df.mean())"
   ]
  },
  {
   "cell_type": "code",
   "execution_count": 184,
   "id": "118fb4a5",
   "metadata": {
    "ExecuteTime": {
     "end_time": "2023-10-02T16:47:14.128696Z",
     "start_time": "2023-10-02T16:47:14.122133Z"
    },
    "scrolled": true
   },
   "outputs": [
    {
     "data": {
      "text/html": [
       "<div>\n",
       "<style scoped>\n",
       "    .dataframe tbody tr th:only-of-type {\n",
       "        vertical-align: middle;\n",
       "    }\n",
       "\n",
       "    .dataframe tbody tr th {\n",
       "        vertical-align: top;\n",
       "    }\n",
       "\n",
       "    .dataframe thead th {\n",
       "        text-align: right;\n",
       "    }\n",
       "</style>\n",
       "<table border=\"1\" class=\"dataframe\">\n",
       "  <thead>\n",
       "    <tr style=\"text-align: right;\">\n",
       "      <th></th>\n",
       "      <th>A</th>\n",
       "      <th>B</th>\n",
       "      <th>C</th>\n",
       "    </tr>\n",
       "  </thead>\n",
       "  <tbody>\n",
       "    <tr>\n",
       "      <th>0</th>\n",
       "      <td>1.000000</td>\n",
       "      <td>5.0</td>\n",
       "      <td>9</td>\n",
       "    </tr>\n",
       "    <tr>\n",
       "      <th>1</th>\n",
       "      <td>2.000000</td>\n",
       "      <td>6.5</td>\n",
       "      <td>10</td>\n",
       "    </tr>\n",
       "    <tr>\n",
       "      <th>2</th>\n",
       "      <td>2.333333</td>\n",
       "      <td>6.5</td>\n",
       "      <td>11</td>\n",
       "    </tr>\n",
       "    <tr>\n",
       "      <th>3</th>\n",
       "      <td>4.000000</td>\n",
       "      <td>8.0</td>\n",
       "      <td>12</td>\n",
       "    </tr>\n",
       "  </tbody>\n",
       "</table>\n",
       "</div>"
      ],
      "text/plain": [
       "          A    B   C\n",
       "0  1.000000  5.0   9\n",
       "1  2.000000  6.5  10\n",
       "2  2.333333  6.5  11\n",
       "3  4.000000  8.0  12"
      ]
     },
     "execution_count": 184,
     "metadata": {},
     "output_type": "execute_result"
    }
   ],
   "source": [
    "df_mean_filled"
   ]
  },
  {
   "cell_type": "code",
   "execution_count": 185,
   "id": "c1777041",
   "metadata": {
    "ExecuteTime": {
     "end_time": "2023-10-02T16:48:13.087654Z",
     "start_time": "2023-10-02T16:48:13.080318Z"
    }
   },
   "outputs": [],
   "source": [
    "df_null_cols = df.dropna(axis=1)"
   ]
  },
  {
   "cell_type": "code",
   "execution_count": 186,
   "id": "121273b9",
   "metadata": {
    "ExecuteTime": {
     "end_time": "2023-10-02T16:48:22.976365Z",
     "start_time": "2023-10-02T16:48:22.969032Z"
    }
   },
   "outputs": [
    {
     "data": {
      "text/html": [
       "<div>\n",
       "<style scoped>\n",
       "    .dataframe tbody tr th:only-of-type {\n",
       "        vertical-align: middle;\n",
       "    }\n",
       "\n",
       "    .dataframe tbody tr th {\n",
       "        vertical-align: top;\n",
       "    }\n",
       "\n",
       "    .dataframe thead th {\n",
       "        text-align: right;\n",
       "    }\n",
       "</style>\n",
       "<table border=\"1\" class=\"dataframe\">\n",
       "  <thead>\n",
       "    <tr style=\"text-align: right;\">\n",
       "      <th></th>\n",
       "      <th>C</th>\n",
       "    </tr>\n",
       "  </thead>\n",
       "  <tbody>\n",
       "    <tr>\n",
       "      <th>0</th>\n",
       "      <td>9</td>\n",
       "    </tr>\n",
       "    <tr>\n",
       "      <th>1</th>\n",
       "      <td>10</td>\n",
       "    </tr>\n",
       "    <tr>\n",
       "      <th>2</th>\n",
       "      <td>11</td>\n",
       "    </tr>\n",
       "    <tr>\n",
       "      <th>3</th>\n",
       "      <td>12</td>\n",
       "    </tr>\n",
       "  </tbody>\n",
       "</table>\n",
       "</div>"
      ],
      "text/plain": [
       "    C\n",
       "0   9\n",
       "1  10\n",
       "2  11\n",
       "3  12"
      ]
     },
     "execution_count": 186,
     "metadata": {},
     "output_type": "execute_result"
    }
   ],
   "source": [
    "df_null_cols"
   ]
  },
  {
   "cell_type": "code",
   "execution_count": 187,
   "id": "4dd6411c",
   "metadata": {
    "ExecuteTime": {
     "end_time": "2023-10-02T16:49:02.469788Z",
     "start_time": "2023-10-02T16:49:02.465055Z"
    }
   },
   "outputs": [],
   "source": [
    "df_interpolate = df.interpolate()"
   ]
  },
  {
   "cell_type": "code",
   "execution_count": 188,
   "id": "81dec12b",
   "metadata": {
    "ExecuteTime": {
     "end_time": "2023-10-02T16:49:10.360503Z",
     "start_time": "2023-10-02T16:49:10.351995Z"
    }
   },
   "outputs": [
    {
     "data": {
      "text/html": [
       "<div>\n",
       "<style scoped>\n",
       "    .dataframe tbody tr th:only-of-type {\n",
       "        vertical-align: middle;\n",
       "    }\n",
       "\n",
       "    .dataframe tbody tr th {\n",
       "        vertical-align: top;\n",
       "    }\n",
       "\n",
       "    .dataframe thead th {\n",
       "        text-align: right;\n",
       "    }\n",
       "</style>\n",
       "<table border=\"1\" class=\"dataframe\">\n",
       "  <thead>\n",
       "    <tr style=\"text-align: right;\">\n",
       "      <th></th>\n",
       "      <th>A</th>\n",
       "      <th>B</th>\n",
       "      <th>C</th>\n",
       "    </tr>\n",
       "  </thead>\n",
       "  <tbody>\n",
       "    <tr>\n",
       "      <th>0</th>\n",
       "      <td>1.0</td>\n",
       "      <td>5.0</td>\n",
       "      <td>9</td>\n",
       "    </tr>\n",
       "    <tr>\n",
       "      <th>1</th>\n",
       "      <td>2.0</td>\n",
       "      <td>6.0</td>\n",
       "      <td>10</td>\n",
       "    </tr>\n",
       "    <tr>\n",
       "      <th>2</th>\n",
       "      <td>3.0</td>\n",
       "      <td>7.0</td>\n",
       "      <td>11</td>\n",
       "    </tr>\n",
       "    <tr>\n",
       "      <th>3</th>\n",
       "      <td>4.0</td>\n",
       "      <td>8.0</td>\n",
       "      <td>12</td>\n",
       "    </tr>\n",
       "  </tbody>\n",
       "</table>\n",
       "</div>"
      ],
      "text/plain": [
       "     A    B   C\n",
       "0  1.0  5.0   9\n",
       "1  2.0  6.0  10\n",
       "2  3.0  7.0  11\n",
       "3  4.0  8.0  12"
      ]
     },
     "execution_count": 188,
     "metadata": {},
     "output_type": "execute_result"
    }
   ],
   "source": [
    "df_interpolate"
   ]
  },
  {
   "cell_type": "code",
   "execution_count": 189,
   "id": "9a7dd4df",
   "metadata": {
    "ExecuteTime": {
     "end_time": "2023-10-02T16:50:42.909646Z",
     "start_time": "2023-10-02T16:50:42.905071Z"
    }
   },
   "outputs": [],
   "source": [
    "# Removing Duplicates\n",
    "\n",
    "data = {'A': [1, 2, 2, 3, 4],\n",
    "        'B': ['X', 'Y', 'Y', 'Z', 'W']}\n",
    "\n",
    "df = pd.DataFrame(data)"
   ]
  },
  {
   "cell_type": "code",
   "execution_count": 190,
   "id": "ab2cd98b",
   "metadata": {
    "ExecuteTime": {
     "end_time": "2023-10-02T16:50:45.768584Z",
     "start_time": "2023-10-02T16:50:45.761578Z"
    }
   },
   "outputs": [
    {
     "data": {
      "text/html": [
       "<div>\n",
       "<style scoped>\n",
       "    .dataframe tbody tr th:only-of-type {\n",
       "        vertical-align: middle;\n",
       "    }\n",
       "\n",
       "    .dataframe tbody tr th {\n",
       "        vertical-align: top;\n",
       "    }\n",
       "\n",
       "    .dataframe thead th {\n",
       "        text-align: right;\n",
       "    }\n",
       "</style>\n",
       "<table border=\"1\" class=\"dataframe\">\n",
       "  <thead>\n",
       "    <tr style=\"text-align: right;\">\n",
       "      <th></th>\n",
       "      <th>A</th>\n",
       "      <th>B</th>\n",
       "    </tr>\n",
       "  </thead>\n",
       "  <tbody>\n",
       "    <tr>\n",
       "      <th>0</th>\n",
       "      <td>1</td>\n",
       "      <td>X</td>\n",
       "    </tr>\n",
       "    <tr>\n",
       "      <th>1</th>\n",
       "      <td>2</td>\n",
       "      <td>Y</td>\n",
       "    </tr>\n",
       "    <tr>\n",
       "      <th>2</th>\n",
       "      <td>2</td>\n",
       "      <td>Y</td>\n",
       "    </tr>\n",
       "    <tr>\n",
       "      <th>3</th>\n",
       "      <td>3</td>\n",
       "      <td>Z</td>\n",
       "    </tr>\n",
       "    <tr>\n",
       "      <th>4</th>\n",
       "      <td>4</td>\n",
       "      <td>W</td>\n",
       "    </tr>\n",
       "  </tbody>\n",
       "</table>\n",
       "</div>"
      ],
      "text/plain": [
       "   A  B\n",
       "0  1  X\n",
       "1  2  Y\n",
       "2  2  Y\n",
       "3  3  Z\n",
       "4  4  W"
      ]
     },
     "execution_count": 190,
     "metadata": {},
     "output_type": "execute_result"
    }
   ],
   "source": [
    "df"
   ]
  },
  {
   "cell_type": "code",
   "execution_count": 191,
   "id": "ce8aeed4",
   "metadata": {
    "ExecuteTime": {
     "end_time": "2023-10-02T16:51:23.977167Z",
     "start_time": "2023-10-02T16:51:23.960573Z"
    }
   },
   "outputs": [
    {
     "data": {
      "text/plain": [
       "0    False\n",
       "1    False\n",
       "2     True\n",
       "3    False\n",
       "4    False\n",
       "dtype: bool"
      ]
     },
     "execution_count": 191,
     "metadata": {},
     "output_type": "execute_result"
    }
   ],
   "source": [
    "df.duplicated()"
   ]
  },
  {
   "cell_type": "code",
   "execution_count": 195,
   "id": "b86d2714",
   "metadata": {
    "ExecuteTime": {
     "end_time": "2023-10-02T16:52:32.806647Z",
     "start_time": "2023-10-02T16:52:32.802037Z"
    }
   },
   "outputs": [],
   "source": [
    "df_no_duplicates = df.drop_duplicates()"
   ]
  },
  {
   "cell_type": "code",
   "execution_count": 196,
   "id": "e6a85445",
   "metadata": {
    "ExecuteTime": {
     "end_time": "2023-10-02T16:52:33.190968Z",
     "start_time": "2023-10-02T16:52:33.183004Z"
    }
   },
   "outputs": [
    {
     "data": {
      "text/html": [
       "<div>\n",
       "<style scoped>\n",
       "    .dataframe tbody tr th:only-of-type {\n",
       "        vertical-align: middle;\n",
       "    }\n",
       "\n",
       "    .dataframe tbody tr th {\n",
       "        vertical-align: top;\n",
       "    }\n",
       "\n",
       "    .dataframe thead th {\n",
       "        text-align: right;\n",
       "    }\n",
       "</style>\n",
       "<table border=\"1\" class=\"dataframe\">\n",
       "  <thead>\n",
       "    <tr style=\"text-align: right;\">\n",
       "      <th></th>\n",
       "      <th>A</th>\n",
       "      <th>B</th>\n",
       "    </tr>\n",
       "  </thead>\n",
       "  <tbody>\n",
       "    <tr>\n",
       "      <th>0</th>\n",
       "      <td>1</td>\n",
       "      <td>X</td>\n",
       "    </tr>\n",
       "    <tr>\n",
       "      <th>1</th>\n",
       "      <td>2</td>\n",
       "      <td>Y</td>\n",
       "    </tr>\n",
       "    <tr>\n",
       "      <th>3</th>\n",
       "      <td>3</td>\n",
       "      <td>Z</td>\n",
       "    </tr>\n",
       "    <tr>\n",
       "      <th>4</th>\n",
       "      <td>4</td>\n",
       "      <td>W</td>\n",
       "    </tr>\n",
       "  </tbody>\n",
       "</table>\n",
       "</div>"
      ],
      "text/plain": [
       "   A  B\n",
       "0  1  X\n",
       "1  2  Y\n",
       "3  3  Z\n",
       "4  4  W"
      ]
     },
     "execution_count": 196,
     "metadata": {},
     "output_type": "execute_result"
    }
   ],
   "source": [
    "df_no_duplicates"
   ]
  },
  {
   "cell_type": "code",
   "execution_count": 203,
   "id": "6445ff7b",
   "metadata": {
    "ExecuteTime": {
     "end_time": "2023-10-02T16:55:40.454323Z",
     "start_time": "2023-10-02T16:55:40.449418Z"
    }
   },
   "outputs": [
    {
     "name": "stdout",
     "output_type": "stream",
     "text": [
      "A    object\n",
      "B    object\n",
      "dtype: object\n"
     ]
    }
   ],
   "source": [
    "print(df.dtypes)"
   ]
  },
  {
   "cell_type": "code",
   "execution_count": 204,
   "id": "b4fb6e5e",
   "metadata": {
    "ExecuteTime": {
     "end_time": "2023-10-02T16:55:48.510206Z",
     "start_time": "2023-10-02T16:55:48.505326Z"
    }
   },
   "outputs": [],
   "source": [
    "df['A'] = df['A'].astype(int)"
   ]
  },
  {
   "cell_type": "code",
   "execution_count": 205,
   "id": "be0ccfad",
   "metadata": {
    "ExecuteTime": {
     "end_time": "2023-10-02T16:55:48.787261Z",
     "start_time": "2023-10-02T16:55:48.779056Z"
    }
   },
   "outputs": [
    {
     "data": {
      "text/plain": [
       "dtype('int32')"
      ]
     },
     "execution_count": 205,
     "metadata": {},
     "output_type": "execute_result"
    }
   ],
   "source": [
    "df['A'].dtypes"
   ]
  },
  {
   "cell_type": "markdown",
   "id": "d2913c34",
   "metadata": {},
   "source": [
    "### Grouping and Aggregation"
   ]
  },
  {
   "cell_type": "code",
   "execution_count": 206,
   "id": "3cf1ae2d",
   "metadata": {
    "ExecuteTime": {
     "end_time": "2023-10-02T16:56:53.828808Z",
     "start_time": "2023-10-02T16:56:53.825308Z"
    }
   },
   "outputs": [],
   "source": [
    "data = {\n",
    "    'Product': ['A', 'B', 'A', 'B', 'A', 'C'],\n",
    "    'Sales': [100, 150, 200, 50, 120, 80]\n",
    "}\n",
    "\n",
    "df = pd.DataFrame(data)\n"
   ]
  },
  {
   "cell_type": "code",
   "execution_count": 207,
   "id": "ce39fc22",
   "metadata": {
    "ExecuteTime": {
     "end_time": "2023-10-02T16:57:31.764695Z",
     "start_time": "2023-10-02T16:57:31.760705Z"
    }
   },
   "outputs": [],
   "source": [
    "group = df.groupby('Product')"
   ]
  },
  {
   "cell_type": "code",
   "execution_count": 212,
   "id": "8ad584f4",
   "metadata": {
    "ExecuteTime": {
     "end_time": "2023-10-02T16:59:12.159523Z",
     "start_time": "2023-10-02T16:59:12.145180Z"
    }
   },
   "outputs": [
    {
     "data": {
      "text/plain": [
       "Product\n",
       "A    420\n",
       "B    200\n",
       "C     80\n",
       "Name: Sales, dtype: int64"
      ]
     },
     "execution_count": 212,
     "metadata": {},
     "output_type": "execute_result"
    }
   ],
   "source": [
    "group['Sales'].sum()"
   ]
  },
  {
   "cell_type": "code",
   "execution_count": 213,
   "id": "9a82b844",
   "metadata": {
    "ExecuteTime": {
     "end_time": "2023-10-02T17:00:04.456291Z",
     "start_time": "2023-10-02T17:00:04.449989Z"
    }
   },
   "outputs": [
    {
     "data": {
      "text/plain": [
       "Product\n",
       "A    140.0\n",
       "B    100.0\n",
       "C     80.0\n",
       "Name: Sales, dtype: float64"
      ]
     },
     "execution_count": 213,
     "metadata": {},
     "output_type": "execute_result"
    }
   ],
   "source": [
    "group['Sales'].mean()"
   ]
  },
  {
   "cell_type": "code",
   "execution_count": 214,
   "id": "eaeeebe1",
   "metadata": {
    "ExecuteTime": {
     "end_time": "2023-10-02T17:00:26.606979Z",
     "start_time": "2023-10-02T17:00:26.601942Z"
    }
   },
   "outputs": [
    {
     "data": {
      "text/plain": [
       "Product\n",
       "A    200\n",
       "B    150\n",
       "C     80\n",
       "Name: Sales, dtype: int64"
      ]
     },
     "execution_count": 214,
     "metadata": {},
     "output_type": "execute_result"
    }
   ],
   "source": [
    "group['Sales'].max()"
   ]
  },
  {
   "cell_type": "code",
   "execution_count": 215,
   "id": "ab6e6265",
   "metadata": {
    "ExecuteTime": {
     "end_time": "2023-10-02T17:00:36.399418Z",
     "start_time": "2023-10-02T17:00:36.392405Z"
    }
   },
   "outputs": [
    {
     "data": {
      "text/plain": [
       "Product\n",
       "A    100\n",
       "B     50\n",
       "C     80\n",
       "Name: Sales, dtype: int64"
      ]
     },
     "execution_count": 215,
     "metadata": {},
     "output_type": "execute_result"
    }
   ],
   "source": [
    "group['Sales'].min()"
   ]
  },
  {
   "cell_type": "code",
   "execution_count": 216,
   "id": "1e7bb218",
   "metadata": {
    "ExecuteTime": {
     "end_time": "2023-10-02T17:00:56.688602Z",
     "start_time": "2023-10-02T17:00:56.682614Z"
    }
   },
   "outputs": [
    {
     "data": {
      "text/plain": [
       "Product\n",
       "A    3\n",
       "B    2\n",
       "C    1\n",
       "Name: Sales, dtype: int64"
      ]
     },
     "execution_count": 216,
     "metadata": {},
     "output_type": "execute_result"
    }
   ],
   "source": [
    "group['Sales'].count()"
   ]
  },
  {
   "cell_type": "code",
   "execution_count": 217,
   "id": "53de2261",
   "metadata": {
    "ExecuteTime": {
     "end_time": "2023-10-02T17:01:55.493784Z",
     "start_time": "2023-10-02T17:01:55.488171Z"
    }
   },
   "outputs": [],
   "source": [
    "agg_res = group['Sales'].agg(['sum' , 'mean' , 'max' , 'count'])"
   ]
  },
  {
   "cell_type": "code",
   "execution_count": 218,
   "id": "1bb5796e",
   "metadata": {
    "ExecuteTime": {
     "end_time": "2023-10-02T17:01:58.617905Z",
     "start_time": "2023-10-02T17:01:58.610291Z"
    }
   },
   "outputs": [
    {
     "data": {
      "text/html": [
       "<div>\n",
       "<style scoped>\n",
       "    .dataframe tbody tr th:only-of-type {\n",
       "        vertical-align: middle;\n",
       "    }\n",
       "\n",
       "    .dataframe tbody tr th {\n",
       "        vertical-align: top;\n",
       "    }\n",
       "\n",
       "    .dataframe thead th {\n",
       "        text-align: right;\n",
       "    }\n",
       "</style>\n",
       "<table border=\"1\" class=\"dataframe\">\n",
       "  <thead>\n",
       "    <tr style=\"text-align: right;\">\n",
       "      <th></th>\n",
       "      <th>sum</th>\n",
       "      <th>mean</th>\n",
       "      <th>max</th>\n",
       "      <th>count</th>\n",
       "    </tr>\n",
       "    <tr>\n",
       "      <th>Product</th>\n",
       "      <th></th>\n",
       "      <th></th>\n",
       "      <th></th>\n",
       "      <th></th>\n",
       "    </tr>\n",
       "  </thead>\n",
       "  <tbody>\n",
       "    <tr>\n",
       "      <th>A</th>\n",
       "      <td>420</td>\n",
       "      <td>140.0</td>\n",
       "      <td>200</td>\n",
       "      <td>3</td>\n",
       "    </tr>\n",
       "    <tr>\n",
       "      <th>B</th>\n",
       "      <td>200</td>\n",
       "      <td>100.0</td>\n",
       "      <td>150</td>\n",
       "      <td>2</td>\n",
       "    </tr>\n",
       "    <tr>\n",
       "      <th>C</th>\n",
       "      <td>80</td>\n",
       "      <td>80.0</td>\n",
       "      <td>80</td>\n",
       "      <td>1</td>\n",
       "    </tr>\n",
       "  </tbody>\n",
       "</table>\n",
       "</div>"
      ],
      "text/plain": [
       "         sum   mean  max  count\n",
       "Product                        \n",
       "A        420  140.0  200      3\n",
       "B        200  100.0  150      2\n",
       "C         80   80.0   80      1"
      ]
     },
     "execution_count": 218,
     "metadata": {},
     "output_type": "execute_result"
    }
   ],
   "source": [
    "agg_res"
   ]
  },
  {
   "cell_type": "markdown",
   "id": "5e57f6de",
   "metadata": {},
   "source": [
    "### Visualization"
   ]
  },
  {
   "cell_type": "code",
   "execution_count": 221,
   "id": "1823ec0c",
   "metadata": {
    "ExecuteTime": {
     "end_time": "2023-10-02T17:05:57.702790Z",
     "start_time": "2023-10-02T17:05:57.698337Z"
    }
   },
   "outputs": [],
   "source": [
    "import matplotlib.pyplot as plt"
   ]
  },
  {
   "cell_type": "code",
   "execution_count": 228,
   "id": "4da7f381",
   "metadata": {
    "ExecuteTime": {
     "end_time": "2023-10-02T17:07:01.736591Z",
     "start_time": "2023-10-02T17:07:01.731596Z"
    }
   },
   "outputs": [],
   "source": [
    "data = {'Month': ['Jan', 'Feb', 'Mar', 'Apr', 'May'],\n",
    "        'Temperature': [10, 15, 20, 50, 30]}\n",
    "\n",
    "df = pd.DataFrame(data)"
   ]
  },
  {
   "cell_type": "code",
   "execution_count": 229,
   "id": "d2a9a1aa",
   "metadata": {
    "ExecuteTime": {
     "end_time": "2023-10-02T17:07:02.644715Z",
     "start_time": "2023-10-02T17:07:02.467171Z"
    }
   },
   "outputs": [
    {
     "data": {
      "image/png": "[encoded data removed]",
      "text/plain": [
       "<Figure size 432x288 with 1 Axes>"
      ]
     },
     "metadata": {
      "needs_background": "light"
     },
     "output_type": "display_data"
    }
   ],
   "source": [
    "df.plot(x='Month' , y='Temperature' , kind='line' , marker='o' , linestyle='-')\n",
    "plt.title('Monthly Temperature')\n",
    "plt.xlabel('Month')\n",
    "plt.ylabel('Temperature')\n",
    "plt.grid(True)\n",
    "plt.show()"
   ]
  },
  {
   "cell_type": "code",
   "execution_count": null,
   "id": "8bb37b98",
   "metadata": {},
   "outputs": [],
   "source": []
  },
  {
   "cell_type": "code",
   "execution_count": null,
   "id": "01a425cd",
   "metadata": {},
   "outputs": [],
   "source": []
  }
 ],
 "metadata": {
  "kernelspec": {
   "display_name": "Python 3 (ipykernel)",
   "language": "python",
   "name": "python3"
  },
  "language_info": {
   "codemirror_mode": {
    "name": "ipython",
    "version": 3
   },
   "file_extension": ".py",
   "mimetype": "text/x-python",
   "name": "python",
   "nbconvert_exporter": "python",
   "pygments_lexer": "ipython3",
   "version": "3.9.7"
  }
 },
 "nbformat": 4,
 "nbformat_minor": 5
}
