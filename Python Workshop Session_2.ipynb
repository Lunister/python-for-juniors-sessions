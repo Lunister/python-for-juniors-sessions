{
 "cells": [
  {
   "cell_type": "markdown",
   "id": "bfd0fbf2",
   "metadata": {},
   "source": [
    "# Loops"
   ]
  },
  {
   "cell_type": "markdown",
   "id": "4d491de8",
   "metadata": {
    "ExecuteTime": {
     "end_time": "2023-09-16T15:49:55.806980Z",
     "start_time": "2023-09-16T15:49:55.799269Z"
    }
   },
   "source": [
    "## For Loops"
   ]
  },
  {
   "cell_type": "code",
   "execution_count": 16,
   "id": "e02e354f",
   "metadata": {
    "ExecuteTime": {
     "end_time": "2023-09-16T16:08:19.230307Z",
     "start_time": "2023-09-16T16:08:19.226741Z"
    }
   },
   "outputs": [],
   "source": [
    "fruits = [\"apple\", \"banana\", \"cherry\"]\n"
   ]
  },
  {
   "cell_type": "code",
   "execution_count": 11,
   "id": "838d2bf9",
   "metadata": {
    "ExecuteTime": {
     "end_time": "2023-09-16T15:54:42.385283Z",
     "start_time": "2023-09-16T15:54:42.379700Z"
    }
   },
   "outputs": [
    {
     "name": "stdout",
     "output_type": "stream",
     "text": [
      "120\n"
     ]
    }
   ],
   "source": [
    "# for loops\n",
    "\n",
    "#for i in range(4 , 10 , 2):\n",
    "    #print(i)\n",
    "    \n",
    "    \n",
    "# 3! = 3x2x1\n",
    "\n",
    "#factorial calculator\n",
    "\n",
    "fac = 5\n",
    "result = 1\n",
    "for i in range(1 , fac + 1):\n",
    "    result = result *  i\n",
    "print(result)\n",
    "\n",
    "\n",
    "\n"
   ]
  },
  {
   "cell_type": "code",
   "execution_count": 18,
   "id": "e33b2b4b",
   "metadata": {
    "ExecuteTime": {
     "end_time": "2023-09-16T16:09:10.974518Z",
     "start_time": "2023-09-16T16:09:10.969210Z"
    }
   },
   "outputs": [
    {
     "name": "stdout",
     "output_type": "stream",
     "text": [
      "I like apple\n",
      "I like banana\n",
      "I like cherry\n"
     ]
    }
   ],
   "source": [
    "for fruit in fruits:\n",
    "    print(\"I like \"+ fruit)\n"
   ]
  },
  {
   "cell_type": "code",
   "execution_count": 14,
   "id": "e00ecc10",
   "metadata": {
    "ExecuteTime": {
     "end_time": "2023-09-16T15:57:49.592211Z",
     "start_time": "2023-09-16T15:57:49.586688Z"
    }
   },
   "outputs": [
    {
     "name": "stdout",
     "output_type": "stream",
     "text": [
      "22\n"
     ]
    }
   ],
   "source": [
    "numbers = [1, 2, 7, 4, 8]\n",
    "result = 0\n",
    "\n",
    "for i in numbers:\n",
    "    result = result + i\n",
    "\n",
    "\n",
    "print(result)"
   ]
  },
  {
   "cell_type": "markdown",
   "id": "c6b1bc31",
   "metadata": {},
   "source": [
    "## While Loops"
   ]
  },
  {
   "cell_type": "code",
   "execution_count": 23,
   "id": "1025fd55",
   "metadata": {
    "ExecuteTime": {
     "end_time": "2023-09-16T16:14:39.617883Z",
     "start_time": "2023-09-16T16:14:39.613263Z"
    }
   },
   "outputs": [
    {
     "name": "stdout",
     "output_type": "stream",
     "text": [
      "5\n",
      "4\n",
      "3\n",
      "2\n",
      "1\n"
     ]
    }
   ],
   "source": [
    "num = 5\n",
    "\n",
    "while(num != 0):\n",
    "    print(num)\n",
    "    num -= 1"
   ]
  },
  {
   "cell_type": "markdown",
   "id": "c08e8de0",
   "metadata": {},
   "source": [
    "# Lists"
   ]
  },
  {
   "cell_type": "code",
   "execution_count": 27,
   "id": "a711494d",
   "metadata": {
    "ExecuteTime": {
     "end_time": "2023-09-16T16:16:56.580894Z",
     "start_time": "2023-09-16T16:16:56.577359Z"
    }
   },
   "outputs": [],
   "source": [
    "li = [1,2,3,4,5,6,8,9,0]\n",
    "\n"
   ]
  },
  {
   "cell_type": "code",
   "execution_count": 46,
   "id": "14c63672",
   "metadata": {
    "ExecuteTime": {
     "end_time": "2023-09-16T16:23:10.673191Z",
     "start_time": "2023-09-16T16:23:10.670230Z"
    }
   },
   "outputs": [],
   "source": [
    "li = [1 , 3.14 , 'Shahzaib' , True]"
   ]
  },
  {
   "cell_type": "code",
   "execution_count": 30,
   "id": "60e2f477",
   "metadata": {
    "ExecuteTime": {
     "end_time": "2023-09-16T16:17:44.025854Z",
     "start_time": "2023-09-16T16:17:44.021059Z"
    }
   },
   "outputs": [
    {
     "data": {
      "text/plain": [
       "True"
      ]
     },
     "execution_count": 30,
     "metadata": {},
     "output_type": "execute_result"
    }
   ],
   "source": [
    "li[3]"
   ]
  },
  {
   "cell_type": "code",
   "execution_count": 31,
   "id": "fcd1fa98",
   "metadata": {
    "ExecuteTime": {
     "end_time": "2023-09-16T16:18:30.922468Z",
     "start_time": "2023-09-16T16:18:30.918030Z"
    }
   },
   "outputs": [],
   "source": [
    "li.append('New Element')"
   ]
  },
  {
   "cell_type": "code",
   "execution_count": 32,
   "id": "eca1ee5b",
   "metadata": {
    "ExecuteTime": {
     "end_time": "2023-09-16T16:18:36.410492Z",
     "start_time": "2023-09-16T16:18:36.405462Z"
    }
   },
   "outputs": [
    {
     "data": {
      "text/plain": [
       "[1, 3.14, 'Shahzaib', True, 'New Element']"
      ]
     },
     "execution_count": 32,
     "metadata": {},
     "output_type": "execute_result"
    }
   ],
   "source": [
    "li"
   ]
  },
  {
   "cell_type": "code",
   "execution_count": 34,
   "id": "11ee2e21",
   "metadata": {
    "ExecuteTime": {
     "end_time": "2023-09-16T16:19:19.696960Z",
     "start_time": "2023-09-16T16:19:19.693144Z"
    }
   },
   "outputs": [],
   "source": [
    "li.insert(1 , '2nd Element')"
   ]
  },
  {
   "cell_type": "code",
   "execution_count": 35,
   "id": "f711f3d8",
   "metadata": {
    "ExecuteTime": {
     "end_time": "2023-09-16T16:19:26.754148Z",
     "start_time": "2023-09-16T16:19:26.748684Z"
    }
   },
   "outputs": [
    {
     "data": {
      "text/plain": [
       "[1, '2nd Element', 3.14, 'Shahzaib', True, 'New Element']"
      ]
     },
     "execution_count": 35,
     "metadata": {},
     "output_type": "execute_result"
    }
   ],
   "source": [
    "li"
   ]
  },
  {
   "cell_type": "code",
   "execution_count": 36,
   "id": "9c0b68dc",
   "metadata": {
    "ExecuteTime": {
     "end_time": "2023-09-16T16:20:05.513162Z",
     "start_time": "2023-09-16T16:20:05.509159Z"
    }
   },
   "outputs": [],
   "source": [
    "li.remove(3.14)"
   ]
  },
  {
   "cell_type": "code",
   "execution_count": 37,
   "id": "d3d9c9a0",
   "metadata": {
    "ExecuteTime": {
     "end_time": "2023-09-16T16:20:10.539908Z",
     "start_time": "2023-09-16T16:20:10.534396Z"
    }
   },
   "outputs": [
    {
     "data": {
      "text/plain": [
       "[1, '2nd Element', 'Shahzaib', True, 'New Element']"
      ]
     },
     "execution_count": 37,
     "metadata": {},
     "output_type": "execute_result"
    }
   ],
   "source": [
    "li"
   ]
  },
  {
   "cell_type": "code",
   "execution_count": 40,
   "id": "55fc1ef9",
   "metadata": {
    "ExecuteTime": {
     "end_time": "2023-09-16T16:21:16.326305Z",
     "start_time": "2023-09-16T16:21:16.320254Z"
    }
   },
   "outputs": [
    {
     "data": {
      "text/plain": [
       "'2nd Element'"
      ]
     },
     "execution_count": 40,
     "metadata": {},
     "output_type": "execute_result"
    }
   ],
   "source": [
    "a = li.pop(1)"
   ]
  },
  {
   "cell_type": "code",
   "execution_count": 41,
   "id": "571c6aa5",
   "metadata": {
    "ExecuteTime": {
     "end_time": "2023-09-16T16:21:17.066854Z",
     "start_time": "2023-09-16T16:21:17.061387Z"
    }
   },
   "outputs": [
    {
     "data": {
      "text/plain": [
       "[1, 'Shahzaib', True]"
      ]
     },
     "execution_count": 41,
     "metadata": {},
     "output_type": "execute_result"
    }
   ],
   "source": [
    "li"
   ]
  },
  {
   "cell_type": "code",
   "execution_count": 42,
   "id": "8947e844",
   "metadata": {
    "ExecuteTime": {
     "end_time": "2023-09-16T16:21:43.976400Z",
     "start_time": "2023-09-16T16:21:43.973399Z"
    }
   },
   "outputs": [],
   "source": [
    "del li[0]"
   ]
  },
  {
   "cell_type": "code",
   "execution_count": 43,
   "id": "ca3a256a",
   "metadata": {
    "ExecuteTime": {
     "end_time": "2023-09-16T16:21:47.065318Z",
     "start_time": "2023-09-16T16:21:47.060878Z"
    },
    "scrolled": true
   },
   "outputs": [
    {
     "data": {
      "text/plain": [
       "['Shahzaib', True]"
      ]
     },
     "execution_count": 43,
     "metadata": {},
     "output_type": "execute_result"
    }
   ],
   "source": [
    "li"
   ]
  },
  {
   "cell_type": "code",
   "execution_count": 44,
   "id": "2cfced00",
   "metadata": {
    "ExecuteTime": {
     "end_time": "2023-09-16T16:22:32.090927Z",
     "start_time": "2023-09-16T16:22:32.087750Z"
    }
   },
   "outputs": [],
   "source": [
    "del li"
   ]
  },
  {
   "cell_type": "code",
   "execution_count": 47,
   "id": "302b3e30",
   "metadata": {
    "ExecuteTime": {
     "end_time": "2023-09-16T16:23:19.097490Z",
     "start_time": "2023-09-16T16:23:19.093255Z"
    }
   },
   "outputs": [
    {
     "data": {
      "text/plain": [
       "[1, 3.14, 'Shahzaib', True]"
      ]
     },
     "execution_count": 47,
     "metadata": {},
     "output_type": "execute_result"
    }
   ],
   "source": [
    "li"
   ]
  },
  {
   "cell_type": "code",
   "execution_count": 50,
   "id": "9d86c504",
   "metadata": {
    "ExecuteTime": {
     "end_time": "2023-09-16T16:24:15.008087Z",
     "start_time": "2023-09-16T16:24:15.004306Z"
    }
   },
   "outputs": [],
   "source": [
    "a = li[1:3]"
   ]
  },
  {
   "cell_type": "code",
   "execution_count": 51,
   "id": "5ef8e46d",
   "metadata": {
    "ExecuteTime": {
     "end_time": "2023-09-16T16:24:18.858004Z",
     "start_time": "2023-09-16T16:24:18.854102Z"
    }
   },
   "outputs": [
    {
     "data": {
      "text/plain": [
       "[3.14, 'Shahzaib']"
      ]
     },
     "execution_count": 51,
     "metadata": {},
     "output_type": "execute_result"
    }
   ],
   "source": [
    "a"
   ]
  },
  {
   "cell_type": "code",
   "execution_count": 52,
   "id": "61105874",
   "metadata": {
    "ExecuteTime": {
     "end_time": "2023-09-16T16:24:49.768934Z",
     "start_time": "2023-09-16T16:24:49.763646Z"
    }
   },
   "outputs": [
    {
     "data": {
      "text/plain": [
       "[1, 3.14, 'Shahzaib', True, 3.14, 'Shahzaib']"
      ]
     },
     "execution_count": 52,
     "metadata": {},
     "output_type": "execute_result"
    }
   ],
   "source": [
    "li + a"
   ]
  },
  {
   "cell_type": "code",
   "execution_count": 55,
   "id": "37fb449c",
   "metadata": {
    "ExecuteTime": {
     "end_time": "2023-09-16T16:26:10.296142Z",
     "start_time": "2023-09-16T16:26:10.292544Z"
    }
   },
   "outputs": [],
   "source": [
    "numbers = [3, 1, 4, 1, 5, 9, 2, 6, 5, 3, 5]\n",
    "\n",
    "numbers.sort(reverse=True)\n"
   ]
  },
  {
   "cell_type": "code",
   "execution_count": 56,
   "id": "7fb3c203",
   "metadata": {
    "ExecuteTime": {
     "end_time": "2023-09-16T16:26:10.944664Z",
     "start_time": "2023-09-16T16:26:10.940127Z"
    }
   },
   "outputs": [
    {
     "data": {
      "text/plain": [
       "[9, 6, 5, 5, 5, 4, 3, 3, 2, 1, 1]"
      ]
     },
     "execution_count": 56,
     "metadata": {},
     "output_type": "execute_result"
    }
   ],
   "source": [
    "numbers"
   ]
  },
  {
   "cell_type": "markdown",
   "id": "719b8454",
   "metadata": {},
   "source": [
    "# Functions"
   ]
  },
  {
   "cell_type": "code",
   "execution_count": 59,
   "id": "d5a06c1f",
   "metadata": {
    "ExecuteTime": {
     "end_time": "2023-09-16T16:30:57.775442Z",
     "start_time": "2023-09-16T16:30:57.771874Z"
    }
   },
   "outputs": [],
   "source": [
    "def add_numbers(a , b):\n",
    "    result = a + b\n",
    "    return result\n",
    "\n",
    "sum_answer = add_numbers(5556, 44645)"
   ]
  },
  {
   "cell_type": "code",
   "execution_count": 60,
   "id": "f592da94",
   "metadata": {
    "ExecuteTime": {
     "end_time": "2023-09-16T16:30:58.209268Z",
     "start_time": "2023-09-16T16:30:58.204098Z"
    }
   },
   "outputs": [
    {
     "data": {
      "text/plain": [
       "50201"
      ]
     },
     "execution_count": 60,
     "metadata": {},
     "output_type": "execute_result"
    }
   ],
   "source": [
    "sum_answer"
   ]
  },
  {
   "cell_type": "code",
   "execution_count": 73,
   "id": "f714e50e",
   "metadata": {
    "ExecuteTime": {
     "end_time": "2023-09-16T16:39:41.910113Z",
     "start_time": "2023-09-16T16:39:41.905705Z"
    }
   },
   "outputs": [
    {
     "name": "stdout",
     "output_type": "stream",
     "text": [
      "This number is odd\n"
     ]
    }
   ],
   "source": [
    "def is_even(a=10):\n",
    "    return a % 2 == 0\n",
    "\n",
    "if(is_even(25)):\n",
    "    print(\"This number is even\")\n",
    "else:\n",
    "    print(\"This number is odd\")"
   ]
  },
  {
   "cell_type": "markdown",
   "id": "ffad08d4",
   "metadata": {
    "ExecuteTime": {
     "end_time": "2023-09-16T16:39:18.222300Z",
     "start_time": "2023-09-16T16:39:18.217854Z"
    }
   },
   "source": [
    "# Error Handling"
   ]
  },
  {
   "cell_type": "code",
   "execution_count": 79,
   "id": "830d20d0",
   "metadata": {
    "ExecuteTime": {
     "end_time": "2023-09-16T16:46:50.375605Z",
     "start_time": "2023-09-16T16:46:50.369343Z"
    }
   },
   "outputs": [
    {
     "name": "stdout",
     "output_type": "stream",
     "text": [
      "Error: unsupported operand type(s) for /: 'int' and 'str'\n"
     ]
    }
   ],
   "source": [
    "numerator = 10\n",
    "denominator = 'Shahzaib'\n",
    "\n",
    "try:\n",
    "    result = numerator / denominator  # Attempting to divide by zero\n",
    "except ZeroDivisionError as e:\n",
    "    print(\"Error found!\")\n",
    "    print(f\"Error: {e}\")\n",
    "except ValueError as e:\n",
    "    print(f\"Error: {e}\")\n",
    "except TypeError as e:\n",
    "    print(f\"Error: {e}\")"
   ]
  },
  {
   "cell_type": "code",
   "execution_count": 80,
   "id": "c787ba48",
   "metadata": {
    "ExecuteTime": {
     "end_time": "2023-09-16T16:48:08.949460Z",
     "start_time": "2023-09-16T16:48:08.944457Z"
    }
   },
   "outputs": [
    {
     "name": "stdout",
     "output_type": "stream",
     "text": [
      "Error: division by zero\n",
      "Cannot divide by zero. Please provide a valid denominator.\n"
     ]
    }
   ],
   "source": [
    "def divide_numbers(numerator, denominator):\n",
    "    try:\n",
    "        result = numerator / denominator\n",
    "    except ZeroDivisionError as e:\n",
    "        print(f\"Error: {e}\")\n",
    "        result = None  # Set result to None in case of division by zero\n",
    "    return result\n",
    "\n",
    "numerator = 10\n",
    "denominator = 0\n",
    "\n",
    "result = divide_numbers(numerator, denominator)\n",
    "\n",
    "if result is not None:\n",
    "    print(f\"Result: {result}\")\n",
    "else:\n",
    "    print(\"Cannot divide by zero. Please provide a valid denominator.\")\n"
   ]
  },
  {
   "cell_type": "code",
   "execution_count": 82,
   "id": "a3b91355",
   "metadata": {
    "ExecuteTime": {
     "end_time": "2023-09-16T16:49:03.996828Z",
     "start_time": "2023-09-16T16:49:03.991546Z"
    }
   },
   "outputs": [],
   "source": [
    "# Logic Error Example\n",
    "def calculate_area(length, width):\n",
    "    return length * width  # Incorrect formula; should be length * width\n",
    "\n",
    "length = 5\n",
    "width = 0\n",
    "try:\n",
    "    area = calculate_area(length, width)\n",
    "except Exception as e:\n",
    "    print(f\"Error: {e}\")"
   ]
  },
  {
   "cell_type": "markdown",
   "id": "b29660c4",
   "metadata": {},
   "source": [
    "# Advanced Data Structures"
   ]
  },
  {
   "cell_type": "code",
   "execution_count": 83,
   "id": "1dec2e80",
   "metadata": {
    "ExecuteTime": {
     "end_time": "2023-09-16T16:50:45.795897Z",
     "start_time": "2023-09-16T16:50:45.792016Z"
    }
   },
   "outputs": [],
   "source": [
    "# Tuples:\n",
    "\n",
    "tup = (2 , 3 , 5)"
   ]
  },
  {
   "cell_type": "code",
   "execution_count": 86,
   "id": "42836c61",
   "metadata": {
    "ExecuteTime": {
     "end_time": "2023-09-16T16:52:01.229923Z",
     "start_time": "2023-09-16T16:52:01.224912Z"
    }
   },
   "outputs": [
    {
     "name": "stdout",
     "output_type": "stream",
     "text": [
      "2\n",
      "3\n",
      "5\n"
     ]
    }
   ],
   "source": [
    "a , b , c = tup\n",
    "\n",
    "for i in tup:\n",
    "    print(i)"
   ]
  },
  {
   "cell_type": "code",
   "execution_count": 87,
   "id": "f3593624",
   "metadata": {
    "ExecuteTime": {
     "end_time": "2023-09-16T16:52:08.148027Z",
     "start_time": "2023-09-16T16:52:08.143777Z"
    }
   },
   "outputs": [
    {
     "name": "stdout",
     "output_type": "stream",
     "text": [
      "2\n"
     ]
    }
   ],
   "source": [
    "print(a)"
   ]
  },
  {
   "cell_type": "code",
   "execution_count": 93,
   "id": "58f6414c",
   "metadata": {
    "ExecuteTime": {
     "end_time": "2023-09-16T16:54:55.418598Z",
     "start_time": "2023-09-16T16:54:55.414815Z"
    }
   },
   "outputs": [],
   "source": [
    "# Sets:\n",
    "\n",
    "colors = {\"red\", \"green\", \"blue\", \"red\"}\n",
    "\n",
    "A = {'Shahzaib' , 'Ali' , 'Laiba' , 'Hassaan' , 'Shahzaib'}"
   ]
  },
  {
   "cell_type": "code",
   "execution_count": 94,
   "id": "59badce3",
   "metadata": {
    "ExecuteTime": {
     "end_time": "2023-09-16T16:54:55.610743Z",
     "start_time": "2023-09-16T16:54:55.606317Z"
    }
   },
   "outputs": [
    {
     "name": "stdout",
     "output_type": "stream",
     "text": [
      "Shahzaib is in section A\n"
     ]
    }
   ],
   "source": [
    "if('Shahzaib' in A):\n",
    "    print(\"Shahzaib is in section A\")"
   ]
  },
  {
   "cell_type": "code",
   "execution_count": 96,
   "id": "b95a9858",
   "metadata": {
    "ExecuteTime": {
     "end_time": "2023-09-16T16:55:31.549800Z",
     "start_time": "2023-09-16T16:55:31.545735Z"
    }
   },
   "outputs": [],
   "source": [
    "A.add(\"Hafeez\")"
   ]
  },
  {
   "cell_type": "code",
   "execution_count": 97,
   "id": "c3a7d289",
   "metadata": {
    "ExecuteTime": {
     "end_time": "2023-09-16T16:55:36.795113Z",
     "start_time": "2023-09-16T16:55:36.790996Z"
    }
   },
   "outputs": [
    {
     "data": {
      "text/plain": [
       "{'Ali', 'Hafeez', 'Hassaan', 'Laiba', 'Shahzaib'}"
      ]
     },
     "execution_count": 97,
     "metadata": {},
     "output_type": "execute_result"
    }
   ],
   "source": [
    "A"
   ]
  },
  {
   "cell_type": "code",
   "execution_count": 98,
   "id": "3ce1ce04",
   "metadata": {
    "ExecuteTime": {
     "end_time": "2023-09-16T16:55:46.979973Z",
     "start_time": "2023-09-16T16:55:46.974706Z"
    }
   },
   "outputs": [],
   "source": [
    "A.remove(\"Hassaan\")"
   ]
  },
  {
   "cell_type": "code",
   "execution_count": 99,
   "id": "34b3faab",
   "metadata": {
    "ExecuteTime": {
     "end_time": "2023-09-16T16:55:49.134147Z",
     "start_time": "2023-09-16T16:55:49.127571Z"
    }
   },
   "outputs": [
    {
     "data": {
      "text/plain": [
       "{'Ali', 'Hafeez', 'Laiba', 'Shahzaib'}"
      ]
     },
     "execution_count": 99,
     "metadata": {},
     "output_type": "execute_result"
    }
   ],
   "source": [
    "A"
   ]
  },
  {
   "cell_type": "code",
   "execution_count": 103,
   "id": "20021178",
   "metadata": {
    "ExecuteTime": {
     "end_time": "2023-09-16T16:58:01.410680Z",
     "start_time": "2023-09-16T16:58:01.406065Z"
    }
   },
   "outputs": [
    {
     "name": "stdout",
     "output_type": "stream",
     "text": [
      "{1, 2}\n"
     ]
    }
   ],
   "source": [
    "# Union , Intersection , Difference\n",
    "\n",
    "set1 = {1, 2, 3}\n",
    "set2 = {3, 4, 5}\n",
    "\n",
    "union_set = set1 | set2\n",
    "intersection_set = set1 & set2\n",
    "difference_set = set1 - set2\n",
    "print(difference_set)"
   ]
  },
  {
   "cell_type": "code",
   "execution_count": 112,
   "id": "ae799ac7",
   "metadata": {
    "ExecuteTime": {
     "end_time": "2023-09-16T17:03:34.452108Z",
     "start_time": "2023-09-16T17:03:34.445111Z"
    }
   },
   "outputs": [
    {
     "name": "stdout",
     "output_type": "stream",
     "text": [
      "name : Shahzaib\n",
      "age : 20\n"
     ]
    }
   ],
   "source": [
    "# Dictionaries\n",
    "\n",
    "student = {\n",
    "    'name' : 'Shahzaib',\n",
    "    'age' : 23,\n",
    "    'major' : 'Computer Sciences'\n",
    "}\n",
    "\n",
    "student['age'] = 20\n",
    "\n",
    "for k , v in student.items():\n",
    "    print(str(k) +' : ' + str(v))\n",
    "    \n",
    "    \n",
    "if 'major' in student:\n",
    "    print(\"This student has a major\")"
   ]
  }
 ],
 "metadata": {
  "kernelspec": {
   "display_name": "Python 3 (ipykernel)",
   "language": "python",
   "name": "python3"
  },
  "language_info": {
   "codemirror_mode": {
    "name": "ipython",
    "version": 3
   },
   "file_extension": ".py",
   "mimetype": "text/x-python",
   "name": "python",
   "nbconvert_exporter": "python",
   "pygments_lexer": "ipython3",
   "version": "3.9.7"
  }
 },
 "nbformat": 4,
 "nbformat_minor": 5
}
