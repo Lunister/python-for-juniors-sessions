{
 "cells": [
  {
   "cell_type": "markdown",
   "id": "5e885cb1",
   "metadata": {},
   "source": [
    "## Python in Data Science"
   ]
  },
  {
   "cell_type": "markdown",
   "id": "431e6e83",
   "metadata": {},
   "source": [
    "## Steps\n",
    "\n",
    "1. Data Import (Read)\n",
    "2. Columns Analyze\n",
    "3. Duplicate Values Removal\n",
    "4. Null Values Removal\n",
    "5. Normalization\n",
    "6. Outliners Exclude\n",
    "7. Model Train\n",
    "8. Data Visualize\n",
    "\n",
    "\n",
    "## Libraries\n",
    "\n",
    "1. Numpy (Computation)\n",
    "2. Pandas (DataFrames)\n",
    "3. Matplot (Plottiing Graphs)\n",
    "4. Seaborn (Plottiing Graphs)"
   ]
  },
  {
   "cell_type": "code",
   "execution_count": 1,
   "id": "8bc927d1",
   "metadata": {
    "ExecuteTime": {
     "end_time": "2023-10-08T15:36:10.706340Z",
     "start_time": "2023-10-08T15:36:10.280713Z"
    }
   },
   "outputs": [],
   "source": [
    "import pandas as pd"
   ]
  },
  {
   "cell_type": "code",
   "execution_count": 2,
   "id": "5b4971a2",
   "metadata": {
    "ExecuteTime": {
     "end_time": "2023-10-08T15:37:11.242053Z",
     "start_time": "2023-10-08T15:37:10.790491Z"
    }
   },
   "outputs": [],
   "source": [
    "data = pd.read_csv('Electric_Vehicle_Population_Data.csv')"
   ]
  },
  {
   "cell_type": "code",
   "execution_count": 3,
   "id": "9b43f626",
   "metadata": {
    "ExecuteTime": {
     "end_time": "2023-10-08T15:37:21.990556Z",
     "start_time": "2023-10-08T15:37:21.957300Z"
    }
   },
   "outputs": [
    {
     "data": {
      "text/html": [
       "<div>\n",
       "<style scoped>\n",
       "    .dataframe tbody tr th:only-of-type {\n",
       "        vertical-align: middle;\n",
       "    }\n",
       "\n",
       "    .dataframe tbody tr th {\n",
       "        vertical-align: top;\n",
       "    }\n",
       "\n",
       "    .dataframe thead th {\n",
       "        text-align: right;\n",
       "    }\n",
       "</style>\n",
       "<table border=\"1\" class=\"dataframe\">\n",
       "  <thead>\n",
       "    <tr style=\"text-align: right;\">\n",
       "      <th></th>\n",
       "      <th>VIN (1-10)</th>\n",
       "      <th>County</th>\n",
       "      <th>City</th>\n",
       "      <th>State</th>\n",
       "      <th>Postal Code</th>\n",
       "      <th>Model Year</th>\n",
       "      <th>Make</th>\n",
       "      <th>Model</th>\n",
       "      <th>Electric Vehicle Type</th>\n",
       "      <th>Clean Alternative Fuel Vehicle (CAFV) Eligibility</th>\n",
       "      <th>Electric Range</th>\n",
       "      <th>Base MSRP</th>\n",
       "      <th>Legislative District</th>\n",
       "      <th>DOL Vehicle ID</th>\n",
       "      <th>Vehicle Location</th>\n",
       "      <th>Electric Utility</th>\n",
       "      <th>2020 Census Tract</th>\n",
       "    </tr>\n",
       "  </thead>\n",
       "  <tbody>\n",
       "    <tr>\n",
       "      <th>0</th>\n",
       "      <td>KM8K33AGXL</td>\n",
       "      <td>King</td>\n",
       "      <td>Seattle</td>\n",
       "      <td>WA</td>\n",
       "      <td>98103.0</td>\n",
       "      <td>2020</td>\n",
       "      <td>HYUNDAI</td>\n",
       "      <td>KONA</td>\n",
       "      <td>Battery Electric Vehicle (BEV)</td>\n",
       "      <td>Clean Alternative Fuel Vehicle Eligible</td>\n",
       "      <td>258</td>\n",
       "      <td>0</td>\n",
       "      <td>43.0</td>\n",
       "      <td>249675142</td>\n",
       "      <td>POINT (-122.34301 47.659185)</td>\n",
       "      <td>CITY OF SEATTLE - (WA)|CITY OF TACOMA - (WA)</td>\n",
       "      <td>5.303300e+10</td>\n",
       "    </tr>\n",
       "    <tr>\n",
       "      <th>1</th>\n",
       "      <td>1C4RJYB61N</td>\n",
       "      <td>King</td>\n",
       "      <td>Bothell</td>\n",
       "      <td>WA</td>\n",
       "      <td>98011.0</td>\n",
       "      <td>2022</td>\n",
       "      <td>JEEP</td>\n",
       "      <td>GRAND CHEROKEE</td>\n",
       "      <td>Plug-in Hybrid Electric Vehicle (PHEV)</td>\n",
       "      <td>Not eligible due to low battery range</td>\n",
       "      <td>25</td>\n",
       "      <td>0</td>\n",
       "      <td>1.0</td>\n",
       "      <td>233928502</td>\n",
       "      <td>POINT (-122.20578 47.762405)</td>\n",
       "      <td>PUGET SOUND ENERGY INC||CITY OF TACOMA - (WA)</td>\n",
       "      <td>5.303302e+10</td>\n",
       "    </tr>\n",
       "    <tr>\n",
       "      <th>2</th>\n",
       "      <td>1C4RJYD61P</td>\n",
       "      <td>Yakima</td>\n",
       "      <td>Yakima</td>\n",
       "      <td>WA</td>\n",
       "      <td>98908.0</td>\n",
       "      <td>2023</td>\n",
       "      <td>JEEP</td>\n",
       "      <td>GRAND CHEROKEE</td>\n",
       "      <td>Plug-in Hybrid Electric Vehicle (PHEV)</td>\n",
       "      <td>Not eligible due to low battery range</td>\n",
       "      <td>25</td>\n",
       "      <td>0</td>\n",
       "      <td>14.0</td>\n",
       "      <td>229675939</td>\n",
       "      <td>POINT (-120.6027202 46.5965625)</td>\n",
       "      <td>PACIFICORP</td>\n",
       "      <td>5.307700e+10</td>\n",
       "    </tr>\n",
       "    <tr>\n",
       "      <th>3</th>\n",
       "      <td>5YJ3E1EA7J</td>\n",
       "      <td>King</td>\n",
       "      <td>Kirkland</td>\n",
       "      <td>WA</td>\n",
       "      <td>98034.0</td>\n",
       "      <td>2018</td>\n",
       "      <td>TESLA</td>\n",
       "      <td>MODEL 3</td>\n",
       "      <td>Battery Electric Vehicle (BEV)</td>\n",
       "      <td>Clean Alternative Fuel Vehicle Eligible</td>\n",
       "      <td>215</td>\n",
       "      <td>0</td>\n",
       "      <td>45.0</td>\n",
       "      <td>104714466</td>\n",
       "      <td>POINT (-122.209285 47.71124)</td>\n",
       "      <td>PUGET SOUND ENERGY INC||CITY OF TACOMA - (WA)</td>\n",
       "      <td>5.303302e+10</td>\n",
       "    </tr>\n",
       "    <tr>\n",
       "      <th>4</th>\n",
       "      <td>WBY7Z8C5XJ</td>\n",
       "      <td>Thurston</td>\n",
       "      <td>Olympia</td>\n",
       "      <td>WA</td>\n",
       "      <td>98501.0</td>\n",
       "      <td>2018</td>\n",
       "      <td>BMW</td>\n",
       "      <td>I3</td>\n",
       "      <td>Plug-in Hybrid Electric Vehicle (PHEV)</td>\n",
       "      <td>Clean Alternative Fuel Vehicle Eligible</td>\n",
       "      <td>97</td>\n",
       "      <td>0</td>\n",
       "      <td>22.0</td>\n",
       "      <td>185498386</td>\n",
       "      <td>POINT (-122.89692 47.043535)</td>\n",
       "      <td>PUGET SOUND ENERGY INC</td>\n",
       "      <td>5.306701e+10</td>\n",
       "    </tr>\n",
       "  </tbody>\n",
       "</table>\n",
       "</div>"
      ],
      "text/plain": [
       "   VIN (1-10)    County      City State  Postal Code  Model Year     Make  \\\n",
       "0  KM8K33AGXL      King   Seattle    WA      98103.0        2020  HYUNDAI   \n",
       "1  1C4RJYB61N      King   Bothell    WA      98011.0        2022     JEEP   \n",
       "2  1C4RJYD61P    Yakima    Yakima    WA      98908.0        2023     JEEP   \n",
       "3  5YJ3E1EA7J      King  Kirkland    WA      98034.0        2018    TESLA   \n",
       "4  WBY7Z8C5XJ  Thurston   Olympia    WA      98501.0        2018      BMW   \n",
       "\n",
       "            Model                   Electric Vehicle Type  \\\n",
       "0            KONA          Battery Electric Vehicle (BEV)   \n",
       "1  GRAND CHEROKEE  Plug-in Hybrid Electric Vehicle (PHEV)   \n",
       "2  GRAND CHEROKEE  Plug-in Hybrid Electric Vehicle (PHEV)   \n",
       "3         MODEL 3          Battery Electric Vehicle (BEV)   \n",
       "4              I3  Plug-in Hybrid Electric Vehicle (PHEV)   \n",
       "\n",
       "  Clean Alternative Fuel Vehicle (CAFV) Eligibility  Electric Range  \\\n",
       "0           Clean Alternative Fuel Vehicle Eligible             258   \n",
       "1             Not eligible due to low battery range              25   \n",
       "2             Not eligible due to low battery range              25   \n",
       "3           Clean Alternative Fuel Vehicle Eligible             215   \n",
       "4           Clean Alternative Fuel Vehicle Eligible              97   \n",
       "\n",
       "   Base MSRP  Legislative District  DOL Vehicle ID  \\\n",
       "0          0                  43.0       249675142   \n",
       "1          0                   1.0       233928502   \n",
       "2          0                  14.0       229675939   \n",
       "3          0                  45.0       104714466   \n",
       "4          0                  22.0       185498386   \n",
       "\n",
       "                  Vehicle Location  \\\n",
       "0     POINT (-122.34301 47.659185)   \n",
       "1     POINT (-122.20578 47.762405)   \n",
       "2  POINT (-120.6027202 46.5965625)   \n",
       "3     POINT (-122.209285 47.71124)   \n",
       "4     POINT (-122.89692 47.043535)   \n",
       "\n",
       "                                Electric Utility  2020 Census Tract  \n",
       "0   CITY OF SEATTLE - (WA)|CITY OF TACOMA - (WA)       5.303300e+10  \n",
       "1  PUGET SOUND ENERGY INC||CITY OF TACOMA - (WA)       5.303302e+10  \n",
       "2                                     PACIFICORP       5.307700e+10  \n",
       "3  PUGET SOUND ENERGY INC||CITY OF TACOMA - (WA)       5.303302e+10  \n",
       "4                         PUGET SOUND ENERGY INC       5.306701e+10  "
      ]
     },
     "execution_count": 3,
     "metadata": {},
     "output_type": "execute_result"
    }
   ],
   "source": [
    "data.head()"
   ]
  },
  {
   "cell_type": "code",
   "execution_count": 4,
   "id": "2810de53",
   "metadata": {
    "ExecuteTime": {
     "end_time": "2023-10-08T15:37:44.747817Z",
     "start_time": "2023-10-08T15:37:44.660837Z"
    }
   },
   "outputs": [
    {
     "name": "stdout",
     "output_type": "stream",
     "text": [
      "<class 'pandas.core.frame.DataFrame'>\n",
      "RangeIndex: 150482 entries, 0 to 150481\n",
      "Data columns (total 17 columns):\n",
      " #   Column                                             Non-Null Count   Dtype  \n",
      "---  ------                                             --------------   -----  \n",
      " 0   VIN (1-10)                                         150482 non-null  object \n",
      " 1   County                                             150479 non-null  object \n",
      " 2   City                                               150479 non-null  object \n",
      " 3   State                                              150482 non-null  object \n",
      " 4   Postal Code                                        150479 non-null  float64\n",
      " 5   Model Year                                         150482 non-null  int64  \n",
      " 6   Make                                               150482 non-null  object \n",
      " 7   Model                                              150482 non-null  object \n",
      " 8   Electric Vehicle Type                              150482 non-null  object \n",
      " 9   Clean Alternative Fuel Vehicle (CAFV) Eligibility  150482 non-null  object \n",
      " 10  Electric Range                                     150482 non-null  int64  \n",
      " 11  Base MSRP                                          150482 non-null  int64  \n",
      " 12  Legislative District                               150141 non-null  float64\n",
      " 13  DOL Vehicle ID                                     150482 non-null  int64  \n",
      " 14  Vehicle Location                                   150475 non-null  object \n",
      " 15  Electric Utility                                   150479 non-null  object \n",
      " 16  2020 Census Tract                                  150479 non-null  float64\n",
      "dtypes: float64(3), int64(4), object(10)\n",
      "memory usage: 19.5+ MB\n"
     ]
    }
   ],
   "source": [
    "data.info()"
   ]
  },
  {
   "cell_type": "code",
   "execution_count": 5,
   "id": "045e0446",
   "metadata": {
    "ExecuteTime": {
     "end_time": "2023-10-08T15:48:07.550983Z",
     "start_time": "2023-10-08T15:48:07.214865Z"
    }
   },
   "outputs": [],
   "source": [
    "#Null Values Removal\n",
    "data.dropna(inplace=True)\n",
    "\n",
    "#Duplicates Removal\n",
    "data.drop_duplicates(inplace=True)\n",
    "\n",
    "#Normalization / Scaling / Transformation\n",
    "\n",
    "from sklearn.preprocessing import StandardScaler\n",
    "scaler = StandardScaler()\n",
    "data['Electric Range'] = scaler.fit_transform(data['Electric Range'].values.reshape(-1 , 1))\n"
   ]
  },
  {
   "cell_type": "code",
   "execution_count": 6,
   "id": "d1bf58fe",
   "metadata": {
    "ExecuteTime": {
     "end_time": "2023-10-08T15:48:14.414659Z",
     "start_time": "2023-10-08T15:48:14.394527Z"
    },
    "scrolled": true
   },
   "outputs": [
    {
     "data": {
      "text/html": [
       "<div>\n",
       "<style scoped>\n",
       "    .dataframe tbody tr th:only-of-type {\n",
       "        vertical-align: middle;\n",
       "    }\n",
       "\n",
       "    .dataframe tbody tr th {\n",
       "        vertical-align: top;\n",
       "    }\n",
       "\n",
       "    .dataframe thead th {\n",
       "        text-align: right;\n",
       "    }\n",
       "</style>\n",
       "<table border=\"1\" class=\"dataframe\">\n",
       "  <thead>\n",
       "    <tr style=\"text-align: right;\">\n",
       "      <th></th>\n",
       "      <th>VIN (1-10)</th>\n",
       "      <th>County</th>\n",
       "      <th>City</th>\n",
       "      <th>State</th>\n",
       "      <th>Postal Code</th>\n",
       "      <th>Model Year</th>\n",
       "      <th>Make</th>\n",
       "      <th>Model</th>\n",
       "      <th>Electric Vehicle Type</th>\n",
       "      <th>Clean Alternative Fuel Vehicle (CAFV) Eligibility</th>\n",
       "      <th>Electric Range</th>\n",
       "      <th>Base MSRP</th>\n",
       "      <th>Legislative District</th>\n",
       "      <th>DOL Vehicle ID</th>\n",
       "      <th>Vehicle Location</th>\n",
       "      <th>Electric Utility</th>\n",
       "      <th>2020 Census Tract</th>\n",
       "    </tr>\n",
       "  </thead>\n",
       "  <tbody>\n",
       "    <tr>\n",
       "      <th>0</th>\n",
       "      <td>KM8K33AGXL</td>\n",
       "      <td>King</td>\n",
       "      <td>Seattle</td>\n",
       "      <td>WA</td>\n",
       "      <td>98103.0</td>\n",
       "      <td>2020</td>\n",
       "      <td>HYUNDAI</td>\n",
       "      <td>KONA</td>\n",
       "      <td>Battery Electric Vehicle (BEV)</td>\n",
       "      <td>Clean Alternative Fuel Vehicle Eligible</td>\n",
       "      <td>1.975961</td>\n",
       "      <td>0</td>\n",
       "      <td>43.0</td>\n",
       "      <td>249675142</td>\n",
       "      <td>POINT (-122.34301 47.659185)</td>\n",
       "      <td>CITY OF SEATTLE - (WA)|CITY OF TACOMA - (WA)</td>\n",
       "      <td>5.303300e+10</td>\n",
       "    </tr>\n",
       "    <tr>\n",
       "      <th>1</th>\n",
       "      <td>1C4RJYB61N</td>\n",
       "      <td>King</td>\n",
       "      <td>Bothell</td>\n",
       "      <td>WA</td>\n",
       "      <td>98011.0</td>\n",
       "      <td>2022</td>\n",
       "      <td>JEEP</td>\n",
       "      <td>GRAND CHEROKEE</td>\n",
       "      <td>Plug-in Hybrid Electric Vehicle (PHEV)</td>\n",
       "      <td>Not eligible due to low battery range</td>\n",
       "      <td>-0.445458</td>\n",
       "      <td>0</td>\n",
       "      <td>1.0</td>\n",
       "      <td>233928502</td>\n",
       "      <td>POINT (-122.20578 47.762405)</td>\n",
       "      <td>PUGET SOUND ENERGY INC||CITY OF TACOMA - (WA)</td>\n",
       "      <td>5.303302e+10</td>\n",
       "    </tr>\n",
       "    <tr>\n",
       "      <th>2</th>\n",
       "      <td>1C4RJYD61P</td>\n",
       "      <td>Yakima</td>\n",
       "      <td>Yakima</td>\n",
       "      <td>WA</td>\n",
       "      <td>98908.0</td>\n",
       "      <td>2023</td>\n",
       "      <td>JEEP</td>\n",
       "      <td>GRAND CHEROKEE</td>\n",
       "      <td>Plug-in Hybrid Electric Vehicle (PHEV)</td>\n",
       "      <td>Not eligible due to low battery range</td>\n",
       "      <td>-0.445458</td>\n",
       "      <td>0</td>\n",
       "      <td>14.0</td>\n",
       "      <td>229675939</td>\n",
       "      <td>POINT (-120.6027202 46.5965625)</td>\n",
       "      <td>PACIFICORP</td>\n",
       "      <td>5.307700e+10</td>\n",
       "    </tr>\n",
       "    <tr>\n",
       "      <th>3</th>\n",
       "      <td>5YJ3E1EA7J</td>\n",
       "      <td>King</td>\n",
       "      <td>Kirkland</td>\n",
       "      <td>WA</td>\n",
       "      <td>98034.0</td>\n",
       "      <td>2018</td>\n",
       "      <td>TESLA</td>\n",
       "      <td>MODEL 3</td>\n",
       "      <td>Battery Electric Vehicle (BEV)</td>\n",
       "      <td>Clean Alternative Fuel Vehicle Eligible</td>\n",
       "      <td>1.529090</td>\n",
       "      <td>0</td>\n",
       "      <td>45.0</td>\n",
       "      <td>104714466</td>\n",
       "      <td>POINT (-122.209285 47.71124)</td>\n",
       "      <td>PUGET SOUND ENERGY INC||CITY OF TACOMA - (WA)</td>\n",
       "      <td>5.303302e+10</td>\n",
       "    </tr>\n",
       "    <tr>\n",
       "      <th>4</th>\n",
       "      <td>WBY7Z8C5XJ</td>\n",
       "      <td>Thurston</td>\n",
       "      <td>Olympia</td>\n",
       "      <td>WA</td>\n",
       "      <td>98501.0</td>\n",
       "      <td>2018</td>\n",
       "      <td>BMW</td>\n",
       "      <td>I3</td>\n",
       "      <td>Plug-in Hybrid Electric Vehicle (PHEV)</td>\n",
       "      <td>Clean Alternative Fuel Vehicle Eligible</td>\n",
       "      <td>0.302792</td>\n",
       "      <td>0</td>\n",
       "      <td>22.0</td>\n",
       "      <td>185498386</td>\n",
       "      <td>POINT (-122.89692 47.043535)</td>\n",
       "      <td>PUGET SOUND ENERGY INC</td>\n",
       "      <td>5.306701e+10</td>\n",
       "    </tr>\n",
       "  </tbody>\n",
       "</table>\n",
       "</div>"
      ],
      "text/plain": [
       "   VIN (1-10)    County      City State  Postal Code  Model Year     Make  \\\n",
       "0  KM8K33AGXL      King   Seattle    WA      98103.0        2020  HYUNDAI   \n",
       "1  1C4RJYB61N      King   Bothell    WA      98011.0        2022     JEEP   \n",
       "2  1C4RJYD61P    Yakima    Yakima    WA      98908.0        2023     JEEP   \n",
       "3  5YJ3E1EA7J      King  Kirkland    WA      98034.0        2018    TESLA   \n",
       "4  WBY7Z8C5XJ  Thurston   Olympia    WA      98501.0        2018      BMW   \n",
       "\n",
       "            Model                   Electric Vehicle Type  \\\n",
       "0            KONA          Battery Electric Vehicle (BEV)   \n",
       "1  GRAND CHEROKEE  Plug-in Hybrid Electric Vehicle (PHEV)   \n",
       "2  GRAND CHEROKEE  Plug-in Hybrid Electric Vehicle (PHEV)   \n",
       "3         MODEL 3          Battery Electric Vehicle (BEV)   \n",
       "4              I3  Plug-in Hybrid Electric Vehicle (PHEV)   \n",
       "\n",
       "  Clean Alternative Fuel Vehicle (CAFV) Eligibility  Electric Range  \\\n",
       "0           Clean Alternative Fuel Vehicle Eligible        1.975961   \n",
       "1             Not eligible due to low battery range       -0.445458   \n",
       "2             Not eligible due to low battery range       -0.445458   \n",
       "3           Clean Alternative Fuel Vehicle Eligible        1.529090   \n",
       "4           Clean Alternative Fuel Vehicle Eligible        0.302792   \n",
       "\n",
       "   Base MSRP  Legislative District  DOL Vehicle ID  \\\n",
       "0          0                  43.0       249675142   \n",
       "1          0                   1.0       233928502   \n",
       "2          0                  14.0       229675939   \n",
       "3          0                  45.0       104714466   \n",
       "4          0                  22.0       185498386   \n",
       "\n",
       "                  Vehicle Location  \\\n",
       "0     POINT (-122.34301 47.659185)   \n",
       "1     POINT (-122.20578 47.762405)   \n",
       "2  POINT (-120.6027202 46.5965625)   \n",
       "3     POINT (-122.209285 47.71124)   \n",
       "4     POINT (-122.89692 47.043535)   \n",
       "\n",
       "                                Electric Utility  2020 Census Tract  \n",
       "0   CITY OF SEATTLE - (WA)|CITY OF TACOMA - (WA)       5.303300e+10  \n",
       "1  PUGET SOUND ENERGY INC||CITY OF TACOMA - (WA)       5.303302e+10  \n",
       "2                                     PACIFICORP       5.307700e+10  \n",
       "3  PUGET SOUND ENERGY INC||CITY OF TACOMA - (WA)       5.303302e+10  \n",
       "4                         PUGET SOUND ENERGY INC       5.306701e+10  "
      ]
     },
     "execution_count": 6,
     "metadata": {},
     "output_type": "execute_result"
    }
   ],
   "source": [
    "data.head()"
   ]
  },
  {
   "cell_type": "code",
   "execution_count": 8,
   "id": "9e4ed481",
   "metadata": {
    "ExecuteTime": {
     "end_time": "2023-10-08T15:55:16.884487Z",
     "start_time": "2023-10-08T15:55:16.878628Z"
    },
    "scrolled": true
   },
   "outputs": [
    {
     "data": {
      "text/plain": [
       "-0.7052666777867044"
      ]
     },
     "execution_count": 8,
     "metadata": {},
     "output_type": "execute_result"
    }
   ],
   "source": [
    "data['Electric Range'].min()"
   ]
  },
  {
   "cell_type": "code",
   "execution_count": 10,
   "id": "dd80ca4d",
   "metadata": {
    "ExecuteTime": {
     "end_time": "2023-10-08T15:56:57.824801Z",
     "start_time": "2023-10-08T15:56:57.798767Z"
    }
   },
   "outputs": [],
   "source": [
    "# Outliners Exclude\n",
    "from scipy import stats\n",
    "z_score = stats.zscore(data['Electric Range'])\n",
    "data = data[(z_score < 3)]"
   ]
  },
  {
   "cell_type": "code",
   "execution_count": 11,
   "id": "40b6040f",
   "metadata": {
    "ExecuteTime": {
     "end_time": "2023-10-08T15:57:05.542298Z",
     "start_time": "2023-10-08T15:57:05.523316Z"
    }
   },
   "outputs": [
    {
     "data": {
      "text/html": [
       "<div>\n",
       "<style scoped>\n",
       "    .dataframe tbody tr th:only-of-type {\n",
       "        vertical-align: middle;\n",
       "    }\n",
       "\n",
       "    .dataframe tbody tr th {\n",
       "        vertical-align: top;\n",
       "    }\n",
       "\n",
       "    .dataframe thead th {\n",
       "        text-align: right;\n",
       "    }\n",
       "</style>\n",
       "<table border=\"1\" class=\"dataframe\">\n",
       "  <thead>\n",
       "    <tr style=\"text-align: right;\">\n",
       "      <th></th>\n",
       "      <th>VIN (1-10)</th>\n",
       "      <th>County</th>\n",
       "      <th>City</th>\n",
       "      <th>State</th>\n",
       "      <th>Postal Code</th>\n",
       "      <th>Model Year</th>\n",
       "      <th>Make</th>\n",
       "      <th>Model</th>\n",
       "      <th>Electric Vehicle Type</th>\n",
       "      <th>Clean Alternative Fuel Vehicle (CAFV) Eligibility</th>\n",
       "      <th>Electric Range</th>\n",
       "      <th>Base MSRP</th>\n",
       "      <th>Legislative District</th>\n",
       "      <th>DOL Vehicle ID</th>\n",
       "      <th>Vehicle Location</th>\n",
       "      <th>Electric Utility</th>\n",
       "      <th>2020 Census Tract</th>\n",
       "    </tr>\n",
       "  </thead>\n",
       "  <tbody>\n",
       "    <tr>\n",
       "      <th>0</th>\n",
       "      <td>KM8K33AGXL</td>\n",
       "      <td>King</td>\n",
       "      <td>Seattle</td>\n",
       "      <td>WA</td>\n",
       "      <td>98103.0</td>\n",
       "      <td>2020</td>\n",
       "      <td>HYUNDAI</td>\n",
       "      <td>KONA</td>\n",
       "      <td>Battery Electric Vehicle (BEV)</td>\n",
       "      <td>Clean Alternative Fuel Vehicle Eligible</td>\n",
       "      <td>1.975961</td>\n",
       "      <td>0</td>\n",
       "      <td>43.0</td>\n",
       "      <td>249675142</td>\n",
       "      <td>POINT (-122.34301 47.659185)</td>\n",
       "      <td>CITY OF SEATTLE - (WA)|CITY OF TACOMA - (WA)</td>\n",
       "      <td>5.303300e+10</td>\n",
       "    </tr>\n",
       "    <tr>\n",
       "      <th>1</th>\n",
       "      <td>1C4RJYB61N</td>\n",
       "      <td>King</td>\n",
       "      <td>Bothell</td>\n",
       "      <td>WA</td>\n",
       "      <td>98011.0</td>\n",
       "      <td>2022</td>\n",
       "      <td>JEEP</td>\n",
       "      <td>GRAND CHEROKEE</td>\n",
       "      <td>Plug-in Hybrid Electric Vehicle (PHEV)</td>\n",
       "      <td>Not eligible due to low battery range</td>\n",
       "      <td>-0.445458</td>\n",
       "      <td>0</td>\n",
       "      <td>1.0</td>\n",
       "      <td>233928502</td>\n",
       "      <td>POINT (-122.20578 47.762405)</td>\n",
       "      <td>PUGET SOUND ENERGY INC||CITY OF TACOMA - (WA)</td>\n",
       "      <td>5.303302e+10</td>\n",
       "    </tr>\n",
       "    <tr>\n",
       "      <th>2</th>\n",
       "      <td>1C4RJYD61P</td>\n",
       "      <td>Yakima</td>\n",
       "      <td>Yakima</td>\n",
       "      <td>WA</td>\n",
       "      <td>98908.0</td>\n",
       "      <td>2023</td>\n",
       "      <td>JEEP</td>\n",
       "      <td>GRAND CHEROKEE</td>\n",
       "      <td>Plug-in Hybrid Electric Vehicle (PHEV)</td>\n",
       "      <td>Not eligible due to low battery range</td>\n",
       "      <td>-0.445458</td>\n",
       "      <td>0</td>\n",
       "      <td>14.0</td>\n",
       "      <td>229675939</td>\n",
       "      <td>POINT (-120.6027202 46.5965625)</td>\n",
       "      <td>PACIFICORP</td>\n",
       "      <td>5.307700e+10</td>\n",
       "    </tr>\n",
       "    <tr>\n",
       "      <th>3</th>\n",
       "      <td>5YJ3E1EA7J</td>\n",
       "      <td>King</td>\n",
       "      <td>Kirkland</td>\n",
       "      <td>WA</td>\n",
       "      <td>98034.0</td>\n",
       "      <td>2018</td>\n",
       "      <td>TESLA</td>\n",
       "      <td>MODEL 3</td>\n",
       "      <td>Battery Electric Vehicle (BEV)</td>\n",
       "      <td>Clean Alternative Fuel Vehicle Eligible</td>\n",
       "      <td>1.529090</td>\n",
       "      <td>0</td>\n",
       "      <td>45.0</td>\n",
       "      <td>104714466</td>\n",
       "      <td>POINT (-122.209285 47.71124)</td>\n",
       "      <td>PUGET SOUND ENERGY INC||CITY OF TACOMA - (WA)</td>\n",
       "      <td>5.303302e+10</td>\n",
       "    </tr>\n",
       "    <tr>\n",
       "      <th>4</th>\n",
       "      <td>WBY7Z8C5XJ</td>\n",
       "      <td>Thurston</td>\n",
       "      <td>Olympia</td>\n",
       "      <td>WA</td>\n",
       "      <td>98501.0</td>\n",
       "      <td>2018</td>\n",
       "      <td>BMW</td>\n",
       "      <td>I3</td>\n",
       "      <td>Plug-in Hybrid Electric Vehicle (PHEV)</td>\n",
       "      <td>Clean Alternative Fuel Vehicle Eligible</td>\n",
       "      <td>0.302792</td>\n",
       "      <td>0</td>\n",
       "      <td>22.0</td>\n",
       "      <td>185498386</td>\n",
       "      <td>POINT (-122.89692 47.043535)</td>\n",
       "      <td>PUGET SOUND ENERGY INC</td>\n",
       "      <td>5.306701e+10</td>\n",
       "    </tr>\n",
       "  </tbody>\n",
       "</table>\n",
       "</div>"
      ],
      "text/plain": [
       "   VIN (1-10)    County      City State  Postal Code  Model Year     Make  \\\n",
       "0  KM8K33AGXL      King   Seattle    WA      98103.0        2020  HYUNDAI   \n",
       "1  1C4RJYB61N      King   Bothell    WA      98011.0        2022     JEEP   \n",
       "2  1C4RJYD61P    Yakima    Yakima    WA      98908.0        2023     JEEP   \n",
       "3  5YJ3E1EA7J      King  Kirkland    WA      98034.0        2018    TESLA   \n",
       "4  WBY7Z8C5XJ  Thurston   Olympia    WA      98501.0        2018      BMW   \n",
       "\n",
       "            Model                   Electric Vehicle Type  \\\n",
       "0            KONA          Battery Electric Vehicle (BEV)   \n",
       "1  GRAND CHEROKEE  Plug-in Hybrid Electric Vehicle (PHEV)   \n",
       "2  GRAND CHEROKEE  Plug-in Hybrid Electric Vehicle (PHEV)   \n",
       "3         MODEL 3          Battery Electric Vehicle (BEV)   \n",
       "4              I3  Plug-in Hybrid Electric Vehicle (PHEV)   \n",
       "\n",
       "  Clean Alternative Fuel Vehicle (CAFV) Eligibility  Electric Range  \\\n",
       "0           Clean Alternative Fuel Vehicle Eligible        1.975961   \n",
       "1             Not eligible due to low battery range       -0.445458   \n",
       "2             Not eligible due to low battery range       -0.445458   \n",
       "3           Clean Alternative Fuel Vehicle Eligible        1.529090   \n",
       "4           Clean Alternative Fuel Vehicle Eligible        0.302792   \n",
       "\n",
       "   Base MSRP  Legislative District  DOL Vehicle ID  \\\n",
       "0          0                  43.0       249675142   \n",
       "1          0                   1.0       233928502   \n",
       "2          0                  14.0       229675939   \n",
       "3          0                  45.0       104714466   \n",
       "4          0                  22.0       185498386   \n",
       "\n",
       "                  Vehicle Location  \\\n",
       "0     POINT (-122.34301 47.659185)   \n",
       "1     POINT (-122.20578 47.762405)   \n",
       "2  POINT (-120.6027202 46.5965625)   \n",
       "3     POINT (-122.209285 47.71124)   \n",
       "4     POINT (-122.89692 47.043535)   \n",
       "\n",
       "                                Electric Utility  2020 Census Tract  \n",
       "0   CITY OF SEATTLE - (WA)|CITY OF TACOMA - (WA)       5.303300e+10  \n",
       "1  PUGET SOUND ENERGY INC||CITY OF TACOMA - (WA)       5.303302e+10  \n",
       "2                                     PACIFICORP       5.307700e+10  \n",
       "3  PUGET SOUND ENERGY INC||CITY OF TACOMA - (WA)       5.303302e+10  \n",
       "4                         PUGET SOUND ENERGY INC       5.306701e+10  "
      ]
     },
     "execution_count": 11,
     "metadata": {},
     "output_type": "execute_result"
    }
   ],
   "source": [
    "data.head()"
   ]
  },
  {
   "cell_type": "code",
   "execution_count": 12,
   "id": "769abb57",
   "metadata": {
    "ExecuteTime": {
     "end_time": "2023-10-08T15:57:31.544254Z",
     "start_time": "2023-10-08T15:57:31.457812Z"
    }
   },
   "outputs": [
    {
     "name": "stdout",
     "output_type": "stream",
     "text": [
      "<class 'pandas.core.frame.DataFrame'>\n",
      "Int64Index: 150137 entries, 0 to 150481\n",
      "Data columns (total 17 columns):\n",
      " #   Column                                             Non-Null Count   Dtype  \n",
      "---  ------                                             --------------   -----  \n",
      " 0   VIN (1-10)                                         150137 non-null  object \n",
      " 1   County                                             150137 non-null  object \n",
      " 2   City                                               150137 non-null  object \n",
      " 3   State                                              150137 non-null  object \n",
      " 4   Postal Code                                        150137 non-null  float64\n",
      " 5   Model Year                                         150137 non-null  int64  \n",
      " 6   Make                                               150137 non-null  object \n",
      " 7   Model                                              150137 non-null  object \n",
      " 8   Electric Vehicle Type                              150137 non-null  object \n",
      " 9   Clean Alternative Fuel Vehicle (CAFV) Eligibility  150137 non-null  object \n",
      " 10  Electric Range                                     150137 non-null  float64\n",
      " 11  Base MSRP                                          150137 non-null  int64  \n",
      " 12  Legislative District                               150137 non-null  float64\n",
      " 13  DOL Vehicle ID                                     150137 non-null  int64  \n",
      " 14  Vehicle Location                                   150137 non-null  object \n",
      " 15  Electric Utility                                   150137 non-null  object \n",
      " 16  2020 Census Tract                                  150137 non-null  float64\n",
      "dtypes: float64(4), int64(3), object(10)\n",
      "memory usage: 20.6+ MB\n"
     ]
    }
   ],
   "source": [
    "data.info()"
   ]
  },
  {
   "cell_type": "code",
   "execution_count": 13,
   "id": "388226fb",
   "metadata": {
    "ExecuteTime": {
     "end_time": "2023-10-08T15:59:08.630310Z",
     "start_time": "2023-10-08T15:59:08.294795Z"
    }
   },
   "outputs": [],
   "source": [
    "import matplotlib.pyplot as plt\n",
    "import seaborn as sns"
   ]
  },
  {
   "cell_type": "code",
   "execution_count": 14,
   "id": "5e43ffae",
   "metadata": {
    "ExecuteTime": {
     "end_time": "2023-10-08T16:01:43.667992Z",
     "start_time": "2023-10-08T16:01:42.626093Z"
    }
   },
   "outputs": [
    {
     "data": {
      "image/png": "[encoded data removed]",
      "text/plain": [
       "<Figure size 720x432 with 1 Axes>"
      ]
     },
     "metadata": {
      "needs_background": "light"
     },
     "output_type": "display_data"
    }
   ],
   "source": [
    "# Histogram\n",
    "plt.figure(figsize=(10,6))\n",
    "sns.histplot(data['Electric Range'], kde=True)\n",
    "plt.title('Electric Range in Electric Population')\n",
    "plt.xlabel('Electric Range')\n",
    "plt.ylabel('Frequency')\n",
    "plt.show()"
   ]
  },
  {
   "cell_type": "code",
   "execution_count": 17,
   "id": "5eeeccb6",
   "metadata": {
    "ExecuteTime": {
     "end_time": "2023-10-08T16:06:58.339218Z",
     "start_time": "2023-10-08T16:06:54.550648Z"
    }
   },
   "outputs": [
    {
     "data": {
      "image/png": "[encoded data removed]",
      "text/plain": [
       "<Figure size 720x432 with 1 Axes>"
      ]
     },
     "metadata": {
      "needs_background": "light"
     },
     "output_type": "display_data"
    }
   ],
   "source": [
    "# Scatter Plot\n",
    "plt.figure(figsize=(10,6))\n",
    "sns.scatterplot(data=data , x='Electric Range' , y='Base MSRP' , hue='Electric Vehicle Type')\n",
    "plt.title('Electric Range vs Base MSRP')\n",
    "plt.xlabel('Electric Range')\n",
    "plt.ylabel('Base MSRP')\n",
    "plt.legend(title='EV Type')\n",
    "plt.show()"
   ]
  },
  {
   "cell_type": "code",
   "execution_count": 18,
   "id": "0dc80167",
   "metadata": {
    "ExecuteTime": {
     "end_time": "2023-10-08T16:10:57.047721Z",
     "start_time": "2023-10-08T16:10:56.544529Z"
    },
    "scrolled": true
   },
   "outputs": [
    {
     "data": {
      "image/png": "[encoded data removed]",
      "text/plain": [
       "<Figure size 720x432 with 2 Axes>"
      ]
     },
     "metadata": {
      "needs_background": "light"
     },
     "output_type": "display_data"
    }
   ],
   "source": [
    "plt.figure(figsize=(10,6))\n",
    "correlation_matrix = data.corr()\n",
    "sns.heatmap(correlation_matrix , annot=True , cmap='coolwarm' , linewidths=-0.5)\n",
    "plt.title('Correlation Matrix')\n",
    "plt.show()"
   ]
  },
  {
   "cell_type": "code",
   "execution_count": 28,
   "id": "3f7169bc",
   "metadata": {
    "ExecuteTime": {
     "end_time": "2023-10-08T16:26:09.557740Z",
     "start_time": "2023-10-08T16:26:09.529588Z"
    }
   },
   "outputs": [],
   "source": [
    "from sklearn.model_selection import train_test_split\n",
    "from sklearn.linear_model import LinearRegression\n",
    "from sklearn.metrics import mean_squared_error\n",
    "\n",
    "X = data[['Electric Range']]\n",
    "Y = data['Base MSRP']\n",
    "\n",
    "#Spliting data\n",
    "X_train , X_test , Y_train , Y_test = train_test_split(X , Y , test_size=0.2 , random_state=42)\n",
    "\n",
    "model = LinearRegression()\n",
    "\n",
    "model.fit(X_train , Y_train)\n",
    "\n",
    "y_pred = model.predict(X_test)"
   ]
  },
  {
   "cell_type": "code",
   "execution_count": 30,
   "id": "d1f63b3c",
   "metadata": {
    "ExecuteTime": {
     "end_time": "2023-10-08T16:27:56.749024Z",
     "start_time": "2023-10-08T16:27:56.744698Z"
    }
   },
   "outputs": [
    {
     "name": "stdout",
     "output_type": "stream",
     "text": [
      "Mean Squared Value : 76567378.09722193\n"
     ]
    }
   ],
   "source": [
    "mse = mean_squared_error(Y_test , y_pred)\n",
    "print(f\"Mean Squared Value : {mse}\")"
   ]
  },
  {
   "cell_type": "markdown",
   "id": "ba3e4b2c",
   "metadata": {},
   "source": [
    "# Case Study"
   ]
  },
  {
   "cell_type": "code",
   "execution_count": 31,
   "id": "d526012d",
   "metadata": {
    "ExecuteTime": {
     "end_time": "2023-10-08T16:34:56.068458Z",
     "start_time": "2023-10-08T16:34:56.064501Z"
    }
   },
   "outputs": [],
   "source": [
    "import pandas as pd\n",
    "import numpy as np\n",
    "import matplotlib.pyplot as plt\n",
    "import seaborn as sns\n",
    "from sklearn.model_selection import train_test_split\n",
    "from sklearn.linear_model import LinearRegression\n",
    "from sklearn.metrics import mean_squared_error"
   ]
  },
  {
   "cell_type": "code",
   "execution_count": 32,
   "id": "6bdecf03",
   "metadata": {
    "ExecuteTime": {
     "end_time": "2023-10-08T16:35:27.960006Z",
     "start_time": "2023-10-08T16:35:25.905512Z"
    }
   },
   "outputs": [
    {
     "name": "stderr",
     "output_type": "stream",
     "text": [
      "C:\\Users\\lapto\\anaconda3\\lib\\site-packages\\IPython\\core\\interactiveshell.py:3444: DtypeWarning: Columns (0) have mixed types.Specify dtype option on import or set low_memory=False.\n",
      "  exec(code_obj, self.user_global_ns, self.user_ns)\n"
     ]
    }
   ],
   "source": [
    "df = pd.read_csv('Crime_Data_from_2020_to_Present.csv')"
   ]
  },
  {
   "cell_type": "code",
   "execution_count": 33,
   "id": "bc9a7f3b",
   "metadata": {
    "ExecuteTime": {
     "end_time": "2023-10-08T16:35:54.011864Z",
     "start_time": "2023-10-08T16:35:53.984077Z"
    }
   },
   "outputs": [
    {
     "data": {
      "text/html": [
       "<div>\n",
       "<style scoped>\n",
       "    .dataframe tbody tr th:only-of-type {\n",
       "        vertical-align: middle;\n",
       "    }\n",
       "\n",
       "    .dataframe tbody tr th {\n",
       "        vertical-align: top;\n",
       "    }\n",
       "\n",
       "    .dataframe thead th {\n",
       "        text-align: right;\n",
       "    }\n",
       "</style>\n",
       "<table border=\"1\" class=\"dataframe\">\n",
       "  <thead>\n",
       "    <tr style=\"text-align: right;\">\n",
       "      <th></th>\n",
       "      <th>DR_NO</th>\n",
       "      <th>Date Rptd</th>\n",
       "      <th>DATE OCC</th>\n",
       "      <th>TIME OCC</th>\n",
       "      <th>AREA</th>\n",
       "      <th>AREA NAME</th>\n",
       "      <th>Rpt Dist No</th>\n",
       "      <th>Part 1-2</th>\n",
       "      <th>Crm Cd</th>\n",
       "      <th>Crm Cd Desc</th>\n",
       "      <th>...</th>\n",
       "      <th>Status</th>\n",
       "      <th>Status Desc</th>\n",
       "      <th>Crm Cd 1</th>\n",
       "      <th>Crm Cd 2</th>\n",
       "      <th>Crm Cd 3</th>\n",
       "      <th>Crm Cd 4</th>\n",
       "      <th>LOCATION</th>\n",
       "      <th>Cross Street</th>\n",
       "      <th>LAT</th>\n",
       "      <th>LON</th>\n",
       "    </tr>\n",
       "  </thead>\n",
       "  <tbody>\n",
       "    <tr>\n",
       "      <th>0</th>\n",
       "      <td>10304468</td>\n",
       "      <td>01/08/2020 12:00:00 AM</td>\n",
       "      <td>01/08/2020 12:00:00 AM</td>\n",
       "      <td>2230.0</td>\n",
       "      <td>3.0</td>\n",
       "      <td>Southwest</td>\n",
       "      <td>377.0</td>\n",
       "      <td>2.0</td>\n",
       "      <td>624.0</td>\n",
       "      <td>BATTERY - SIMPLE ASSAULT</td>\n",
       "      <td>...</td>\n",
       "      <td>AO</td>\n",
       "      <td>Adult Other</td>\n",
       "      <td>624.0</td>\n",
       "      <td>NaN</td>\n",
       "      <td>NaN</td>\n",
       "      <td>NaN</td>\n",
       "      <td>1100 W  39TH                         PL</td>\n",
       "      <td>NaN</td>\n",
       "      <td>34.0141</td>\n",
       "      <td>-118.2978</td>\n",
       "    </tr>\n",
       "    <tr>\n",
       "      <th>1</th>\n",
       "      <td>190101086</td>\n",
       "      <td>01/02/2020 12:00:00 AM</td>\n",
       "      <td>01/01/2020 12:00:00 AM</td>\n",
       "      <td>330.0</td>\n",
       "      <td>1.0</td>\n",
       "      <td>Central</td>\n",
       "      <td>163.0</td>\n",
       "      <td>2.0</td>\n",
       "      <td>624.0</td>\n",
       "      <td>BATTERY - SIMPLE ASSAULT</td>\n",
       "      <td>...</td>\n",
       "      <td>IC</td>\n",
       "      <td>Invest Cont</td>\n",
       "      <td>624.0</td>\n",
       "      <td>NaN</td>\n",
       "      <td>NaN</td>\n",
       "      <td>NaN</td>\n",
       "      <td>700 S  HILL                         ST</td>\n",
       "      <td>NaN</td>\n",
       "      <td>34.0459</td>\n",
       "      <td>-118.2545</td>\n",
       "    </tr>\n",
       "    <tr>\n",
       "      <th>2</th>\n",
       "      <td>200110444</td>\n",
       "      <td>04/14/2020 12:00:00 AM</td>\n",
       "      <td>02/13/2020 12:00:00 AM</td>\n",
       "      <td>1200.0</td>\n",
       "      <td>1.0</td>\n",
       "      <td>Central</td>\n",
       "      <td>155.0</td>\n",
       "      <td>2.0</td>\n",
       "      <td>845.0</td>\n",
       "      <td>SEX OFFENDER REGISTRANT OUT OF COMPLIANCE</td>\n",
       "      <td>...</td>\n",
       "      <td>AA</td>\n",
       "      <td>Adult Arrest</td>\n",
       "      <td>845.0</td>\n",
       "      <td>NaN</td>\n",
       "      <td>NaN</td>\n",
       "      <td>NaN</td>\n",
       "      <td>200 E  6TH                          ST</td>\n",
       "      <td>NaN</td>\n",
       "      <td>34.0448</td>\n",
       "      <td>-118.2474</td>\n",
       "    </tr>\n",
       "    <tr>\n",
       "      <th>3</th>\n",
       "      <td>191501505</td>\n",
       "      <td>01/01/2020 12:00:00 AM</td>\n",
       "      <td>01/01/2020 12:00:00 AM</td>\n",
       "      <td>1730.0</td>\n",
       "      <td>15.0</td>\n",
       "      <td>N Hollywood</td>\n",
       "      <td>1543.0</td>\n",
       "      <td>2.0</td>\n",
       "      <td>745.0</td>\n",
       "      <td>VANDALISM - MISDEAMEANOR ($399 OR UNDER)</td>\n",
       "      <td>...</td>\n",
       "      <td>IC</td>\n",
       "      <td>Invest Cont</td>\n",
       "      <td>745.0</td>\n",
       "      <td>998.0</td>\n",
       "      <td>NaN</td>\n",
       "      <td>NaN</td>\n",
       "      <td>5400    CORTEEN                      PL</td>\n",
       "      <td>NaN</td>\n",
       "      <td>34.1685</td>\n",
       "      <td>-118.4019</td>\n",
       "    </tr>\n",
       "    <tr>\n",
       "      <th>4</th>\n",
       "      <td>191921269</td>\n",
       "      <td>01/01/2020 12:00:00 AM</td>\n",
       "      <td>01/01/2020 12:00:00 AM</td>\n",
       "      <td>415.0</td>\n",
       "      <td>19.0</td>\n",
       "      <td>Mission</td>\n",
       "      <td>1998.0</td>\n",
       "      <td>2.0</td>\n",
       "      <td>740.0</td>\n",
       "      <td>VANDALISM - FELONY ($400 &amp; OVER, ALL CHURCH VA...</td>\n",
       "      <td>...</td>\n",
       "      <td>IC</td>\n",
       "      <td>Invest Cont</td>\n",
       "      <td>740.0</td>\n",
       "      <td>NaN</td>\n",
       "      <td>NaN</td>\n",
       "      <td>NaN</td>\n",
       "      <td>14400    TITUS                        ST</td>\n",
       "      <td>NaN</td>\n",
       "      <td>34.2198</td>\n",
       "      <td>-118.4468</td>\n",
       "    </tr>\n",
       "  </tbody>\n",
       "</table>\n",
       "<p>5 rows × 28 columns</p>\n",
       "</div>"
      ],
      "text/plain": [
       "       DR_NO               Date Rptd                DATE OCC  TIME OCC  AREA  \\\n",
       "0   10304468  01/08/2020 12:00:00 AM  01/08/2020 12:00:00 AM    2230.0   3.0   \n",
       "1  190101086  01/02/2020 12:00:00 AM  01/01/2020 12:00:00 AM     330.0   1.0   \n",
       "2  200110444  04/14/2020 12:00:00 AM  02/13/2020 12:00:00 AM    1200.0   1.0   \n",
       "3  191501505  01/01/2020 12:00:00 AM  01/01/2020 12:00:00 AM    1730.0  15.0   \n",
       "4  191921269  01/01/2020 12:00:00 AM  01/01/2020 12:00:00 AM     415.0  19.0   \n",
       "\n",
       "     AREA NAME  Rpt Dist No  Part 1-2  Crm Cd  \\\n",
       "0    Southwest        377.0       2.0   624.0   \n",
       "1      Central        163.0       2.0   624.0   \n",
       "2      Central        155.0       2.0   845.0   \n",
       "3  N Hollywood       1543.0       2.0   745.0   \n",
       "4      Mission       1998.0       2.0   740.0   \n",
       "\n",
       "                                         Crm Cd Desc  ... Status  \\\n",
       "0                           BATTERY - SIMPLE ASSAULT  ...     AO   \n",
       "1                           BATTERY - SIMPLE ASSAULT  ...     IC   \n",
       "2          SEX OFFENDER REGISTRANT OUT OF COMPLIANCE  ...     AA   \n",
       "3           VANDALISM - MISDEAMEANOR ($399 OR UNDER)  ...     IC   \n",
       "4  VANDALISM - FELONY ($400 & OVER, ALL CHURCH VA...  ...     IC   \n",
       "\n",
       "    Status Desc Crm Cd 1 Crm Cd 2  Crm Cd 3 Crm Cd 4  \\\n",
       "0   Adult Other    624.0      NaN       NaN      NaN   \n",
       "1   Invest Cont    624.0      NaN       NaN      NaN   \n",
       "2  Adult Arrest    845.0      NaN       NaN      NaN   \n",
       "3   Invest Cont    745.0    998.0       NaN      NaN   \n",
       "4   Invest Cont    740.0      NaN       NaN      NaN   \n",
       "\n",
       "                                   LOCATION Cross Street      LAT       LON  \n",
       "0   1100 W  39TH                         PL          NaN  34.0141 -118.2978  \n",
       "1    700 S  HILL                         ST          NaN  34.0459 -118.2545  \n",
       "2    200 E  6TH                          ST          NaN  34.0448 -118.2474  \n",
       "3   5400    CORTEEN                      PL          NaN  34.1685 -118.4019  \n",
       "4  14400    TITUS                        ST          NaN  34.2198 -118.4468  \n",
       "\n",
       "[5 rows x 28 columns]"
      ]
     },
     "execution_count": 33,
     "metadata": {},
     "output_type": "execute_result"
    }
   ],
   "source": [
    "df.head()"
   ]
  },
  {
   "cell_type": "code",
   "execution_count": 34,
   "id": "85b6b79d",
   "metadata": {
    "ExecuteTime": {
     "end_time": "2023-10-08T16:36:17.290235Z",
     "start_time": "2023-10-08T16:36:16.953077Z"
    }
   },
   "outputs": [
    {
     "name": "stdout",
     "output_type": "stream",
     "text": [
      "<class 'pandas.core.frame.DataFrame'>\n",
      "RangeIndex: 471019 entries, 0 to 471018\n",
      "Data columns (total 28 columns):\n",
      " #   Column          Non-Null Count   Dtype  \n",
      "---  ------          --------------   -----  \n",
      " 0   DR_NO           471019 non-null  object \n",
      " 1   Date Rptd       471016 non-null  object \n",
      " 2   DATE OCC        471016 non-null  object \n",
      " 3   TIME OCC        471016 non-null  float64\n",
      " 4   AREA            471016 non-null  float64\n",
      " 5   AREA NAME       471016 non-null  object \n",
      " 6   Rpt Dist No     471016 non-null  float64\n",
      " 7   Part 1-2        471016 non-null  float64\n",
      " 8   Crm Cd          471016 non-null  float64\n",
      " 9   Crm Cd Desc     471016 non-null  object \n",
      " 10  Mocodes         406087 non-null  object \n",
      " 11  Vict Age        471015 non-null  float64\n",
      " 12  Vict Sex        409197 non-null  object \n",
      " 13  Vict Descent    409194 non-null  object \n",
      " 14  Premis Cd       471010 non-null  float64\n",
      " 15  Premis Desc     470816 non-null  object \n",
      " 16  Weapon Used Cd  167256 non-null  float64\n",
      " 17  Weapon Desc     167256 non-null  object \n",
      " 18  Status          471015 non-null  object \n",
      " 19  Status Desc     471015 non-null  object \n",
      " 20  Crm Cd 1        471010 non-null  float64\n",
      " 21  Crm Cd 2        36744 non-null   float64\n",
      " 22  Crm Cd 3        1257 non-null    float64\n",
      " 23  Crm Cd 4        36 non-null      float64\n",
      " 24  LOCATION        471015 non-null  object \n",
      " 25  Cross Street    80344 non-null   object \n",
      " 26  LAT             471015 non-null  float64\n",
      " 27  LON             471015 non-null  float64\n",
      "dtypes: float64(14), object(14)\n",
      "memory usage: 100.6+ MB\n"
     ]
    }
   ],
   "source": [
    "df.info()"
   ]
  },
  {
   "cell_type": "code",
   "execution_count": 35,
   "id": "818f66b5",
   "metadata": {
    "ExecuteTime": {
     "end_time": "2023-10-08T16:36:45.988121Z",
     "start_time": "2023-10-08T16:36:45.721963Z"
    }
   },
   "outputs": [
    {
     "data": {
      "text/html": [
       "<div>\n",
       "<style scoped>\n",
       "    .dataframe tbody tr th:only-of-type {\n",
       "        vertical-align: middle;\n",
       "    }\n",
       "\n",
       "    .dataframe tbody tr th {\n",
       "        vertical-align: top;\n",
       "    }\n",
       "\n",
       "    .dataframe thead th {\n",
       "        text-align: right;\n",
       "    }\n",
       "</style>\n",
       "<table border=\"1\" class=\"dataframe\">\n",
       "  <thead>\n",
       "    <tr style=\"text-align: right;\">\n",
       "      <th></th>\n",
       "      <th>TIME OCC</th>\n",
       "      <th>AREA</th>\n",
       "      <th>Rpt Dist No</th>\n",
       "      <th>Part 1-2</th>\n",
       "      <th>Crm Cd</th>\n",
       "      <th>Vict Age</th>\n",
       "      <th>Premis Cd</th>\n",
       "      <th>Weapon Used Cd</th>\n",
       "      <th>Crm Cd 1</th>\n",
       "      <th>Crm Cd 2</th>\n",
       "      <th>Crm Cd 3</th>\n",
       "      <th>Crm Cd 4</th>\n",
       "      <th>LAT</th>\n",
       "      <th>LON</th>\n",
       "    </tr>\n",
       "  </thead>\n",
       "  <tbody>\n",
       "    <tr>\n",
       "      <th>count</th>\n",
       "      <td>471016.000000</td>\n",
       "      <td>471016.000000</td>\n",
       "      <td>471016.000000</td>\n",
       "      <td>471016.000000</td>\n",
       "      <td>471016.000000</td>\n",
       "      <td>471015.000000</td>\n",
       "      <td>471010.000000</td>\n",
       "      <td>167256.000000</td>\n",
       "      <td>471010.000000</td>\n",
       "      <td>36744.000000</td>\n",
       "      <td>1257.000000</td>\n",
       "      <td>36.000000</td>\n",
       "      <td>471015.000000</td>\n",
       "      <td>471015.000000</td>\n",
       "    </tr>\n",
       "    <tr>\n",
       "      <th>mean</th>\n",
       "      <td>1343.358387</td>\n",
       "      <td>10.776608</td>\n",
       "      <td>1123.946821</td>\n",
       "      <td>1.415534</td>\n",
       "      <td>504.765252</td>\n",
       "      <td>30.052754</td>\n",
       "      <td>300.498193</td>\n",
       "      <td>362.112707</td>\n",
       "      <td>504.496234</td>\n",
       "      <td>954.371326</td>\n",
       "      <td>982.670644</td>\n",
       "      <td>988.777778</td>\n",
       "      <td>33.910020</td>\n",
       "      <td>-117.787110</td>\n",
       "    </tr>\n",
       "    <tr>\n",
       "      <th>std</th>\n",
       "      <td>652.116276</td>\n",
       "      <td>6.061025</td>\n",
       "      <td>606.166292</td>\n",
       "      <td>0.492814</td>\n",
       "      <td>209.207011</td>\n",
       "      <td>21.703417</td>\n",
       "      <td>215.224574</td>\n",
       "      <td>123.437229</td>\n",
       "      <td>208.997358</td>\n",
       "      <td>115.914000</td>\n",
       "      <td>53.858047</td>\n",
       "      <td>34.073963</td>\n",
       "      <td>2.356693</td>\n",
       "      <td>8.177453</td>\n",
       "    </tr>\n",
       "    <tr>\n",
       "      <th>min</th>\n",
       "      <td>1.000000</td>\n",
       "      <td>1.000000</td>\n",
       "      <td>101.000000</td>\n",
       "      <td>1.000000</td>\n",
       "      <td>110.000000</td>\n",
       "      <td>-3.000000</td>\n",
       "      <td>101.000000</td>\n",
       "      <td>101.000000</td>\n",
       "      <td>110.000000</td>\n",
       "      <td>210.000000</td>\n",
       "      <td>434.000000</td>\n",
       "      <td>821.000000</td>\n",
       "      <td>0.000000</td>\n",
       "      <td>-118.667600</td>\n",
       "    </tr>\n",
       "    <tr>\n",
       "      <th>25%</th>\n",
       "      <td>900.000000</td>\n",
       "      <td>6.000000</td>\n",
       "      <td>628.000000</td>\n",
       "      <td>1.000000</td>\n",
       "      <td>330.000000</td>\n",
       "      <td>12.000000</td>\n",
       "      <td>101.000000</td>\n",
       "      <td>308.000000</td>\n",
       "      <td>330.000000</td>\n",
       "      <td>998.000000</td>\n",
       "      <td>998.000000</td>\n",
       "      <td>998.000000</td>\n",
       "      <td>34.011000</td>\n",
       "      <td>-118.430500</td>\n",
       "    </tr>\n",
       "    <tr>\n",
       "      <th>50%</th>\n",
       "      <td>1425.000000</td>\n",
       "      <td>11.000000</td>\n",
       "      <td>1145.000000</td>\n",
       "      <td>1.000000</td>\n",
       "      <td>480.000000</td>\n",
       "      <td>31.000000</td>\n",
       "      <td>203.000000</td>\n",
       "      <td>400.000000</td>\n",
       "      <td>480.000000</td>\n",
       "      <td>998.000000</td>\n",
       "      <td>998.000000</td>\n",
       "      <td>998.000000</td>\n",
       "      <td>34.058300</td>\n",
       "      <td>-118.322500</td>\n",
       "    </tr>\n",
       "    <tr>\n",
       "      <th>75%</th>\n",
       "      <td>1900.000000</td>\n",
       "      <td>16.000000</td>\n",
       "      <td>1621.000000</td>\n",
       "      <td>2.000000</td>\n",
       "      <td>626.000000</td>\n",
       "      <td>45.000000</td>\n",
       "      <td>501.000000</td>\n",
       "      <td>400.000000</td>\n",
       "      <td>626.000000</td>\n",
       "      <td>998.000000</td>\n",
       "      <td>998.000000</td>\n",
       "      <td>998.000000</td>\n",
       "      <td>34.163800</td>\n",
       "      <td>-118.274000</td>\n",
       "    </tr>\n",
       "    <tr>\n",
       "      <th>max</th>\n",
       "      <td>2359.000000</td>\n",
       "      <td>21.000000</td>\n",
       "      <td>2199.000000</td>\n",
       "      <td>2.000000</td>\n",
       "      <td>956.000000</td>\n",
       "      <td>120.000000</td>\n",
       "      <td>971.000000</td>\n",
       "      <td>516.000000</td>\n",
       "      <td>956.000000</td>\n",
       "      <td>999.000000</td>\n",
       "      <td>999.000000</td>\n",
       "      <td>999.000000</td>\n",
       "      <td>34.334300</td>\n",
       "      <td>0.000000</td>\n",
       "    </tr>\n",
       "  </tbody>\n",
       "</table>\n",
       "</div>"
      ],
      "text/plain": [
       "            TIME OCC           AREA    Rpt Dist No       Part 1-2  \\\n",
       "count  471016.000000  471016.000000  471016.000000  471016.000000   \n",
       "mean     1343.358387      10.776608    1123.946821       1.415534   \n",
       "std       652.116276       6.061025     606.166292       0.492814   \n",
       "min         1.000000       1.000000     101.000000       1.000000   \n",
       "25%       900.000000       6.000000     628.000000       1.000000   \n",
       "50%      1425.000000      11.000000    1145.000000       1.000000   \n",
       "75%      1900.000000      16.000000    1621.000000       2.000000   \n",
       "max      2359.000000      21.000000    2199.000000       2.000000   \n",
       "\n",
       "              Crm Cd       Vict Age      Premis Cd  Weapon Used Cd  \\\n",
       "count  471016.000000  471015.000000  471010.000000   167256.000000   \n",
       "mean      504.765252      30.052754     300.498193      362.112707   \n",
       "std       209.207011      21.703417     215.224574      123.437229   \n",
       "min       110.000000      -3.000000     101.000000      101.000000   \n",
       "25%       330.000000      12.000000     101.000000      308.000000   \n",
       "50%       480.000000      31.000000     203.000000      400.000000   \n",
       "75%       626.000000      45.000000     501.000000      400.000000   \n",
       "max       956.000000     120.000000     971.000000      516.000000   \n",
       "\n",
       "            Crm Cd 1      Crm Cd 2     Crm Cd 3    Crm Cd 4            LAT  \\\n",
       "count  471010.000000  36744.000000  1257.000000   36.000000  471015.000000   \n",
       "mean      504.496234    954.371326   982.670644  988.777778      33.910020   \n",
       "std       208.997358    115.914000    53.858047   34.073963       2.356693   \n",
       "min       110.000000    210.000000   434.000000  821.000000       0.000000   \n",
       "25%       330.000000    998.000000   998.000000  998.000000      34.011000   \n",
       "50%       480.000000    998.000000   998.000000  998.000000      34.058300   \n",
       "75%       626.000000    998.000000   998.000000  998.000000      34.163800   \n",
       "max       956.000000    999.000000   999.000000  999.000000      34.334300   \n",
       "\n",
       "                 LON  \n",
       "count  471015.000000  \n",
       "mean     -117.787110  \n",
       "std         8.177453  \n",
       "min      -118.667600  \n",
       "25%      -118.430500  \n",
       "50%      -118.322500  \n",
       "75%      -118.274000  \n",
       "max         0.000000  "
      ]
     },
     "execution_count": 35,
     "metadata": {},
     "output_type": "execute_result"
    }
   ],
   "source": [
    "df.describe()"
   ]
  },
  {
   "cell_type": "code",
   "execution_count": 36,
   "id": "8c642d37",
   "metadata": {
    "ExecuteTime": {
     "end_time": "2023-10-08T16:37:36.480792Z",
     "start_time": "2023-10-08T16:37:36.104293Z"
    }
   },
   "outputs": [],
   "source": [
    "df.dropna(inplace=True)\n",
    "df.drop_duplicates(inplace=True)\n"
   ]
  },
  {
   "cell_type": "code",
   "execution_count": 37,
   "id": "0556e4f2",
   "metadata": {
    "ExecuteTime": {
     "end_time": "2023-10-08T16:39:34.706349Z",
     "start_time": "2023-10-08T16:39:34.697941Z"
    }
   },
   "outputs": [],
   "source": [
    "df = pd.get_dummies(df , columns=['Vict Sex' , 'Vict Descent'])"
   ]
  },
  {
   "cell_type": "code",
   "execution_count": 38,
   "id": "c032329b",
   "metadata": {
    "ExecuteTime": {
     "end_time": "2023-10-08T16:39:40.354587Z",
     "start_time": "2023-10-08T16:39:40.344545Z"
    }
   },
   "outputs": [
    {
     "name": "stdout",
     "output_type": "stream",
     "text": [
      "<class 'pandas.core.frame.DataFrame'>\n",
      "Int64Index: 4 entries, 52074 to 371637\n",
      "Data columns (total 29 columns):\n",
      " #   Column          Non-Null Count  Dtype  \n",
      "---  ------          --------------  -----  \n",
      " 0   DR_NO           4 non-null      object \n",
      " 1   Date Rptd       4 non-null      object \n",
      " 2   DATE OCC        4 non-null      object \n",
      " 3   TIME OCC        4 non-null      float64\n",
      " 4   AREA            4 non-null      float64\n",
      " 5   AREA NAME       4 non-null      object \n",
      " 6   Rpt Dist No     4 non-null      float64\n",
      " 7   Part 1-2        4 non-null      float64\n",
      " 8   Crm Cd          4 non-null      float64\n",
      " 9   Crm Cd Desc     4 non-null      object \n",
      " 10  Mocodes         4 non-null      object \n",
      " 11  Vict Age        4 non-null      float64\n",
      " 12  Premis Cd       4 non-null      float64\n",
      " 13  Premis Desc     4 non-null      object \n",
      " 14  Weapon Used Cd  4 non-null      float64\n",
      " 15  Weapon Desc     4 non-null      object \n",
      " 16  Status          4 non-null      object \n",
      " 17  Status Desc     4 non-null      object \n",
      " 18  Crm Cd 1        4 non-null      float64\n",
      " 19  Crm Cd 2        4 non-null      float64\n",
      " 20  Crm Cd 3        4 non-null      float64\n",
      " 21  Crm Cd 4        4 non-null      float64\n",
      " 22  LOCATION        4 non-null      object \n",
      " 23  Cross Street    4 non-null      object \n",
      " 24  LAT             4 non-null      float64\n",
      " 25  LON             4 non-null      float64\n",
      " 26  Vict Sex_F      4 non-null      uint8  \n",
      " 27  Vict Sex_M      4 non-null      uint8  \n",
      " 28  Vict Descent_H  4 non-null      uint8  \n",
      "dtypes: float64(14), object(12), uint8(3)\n",
      "memory usage: 876.0+ bytes\n"
     ]
    }
   ],
   "source": [
    "df.info()"
   ]
  },
  {
   "cell_type": "code",
   "execution_count": 39,
   "id": "10c360d3",
   "metadata": {
    "ExecuteTime": {
     "end_time": "2023-10-08T16:40:26.105647Z",
     "start_time": "2023-10-08T16:40:26.042123Z"
    }
   },
   "outputs": [
    {
     "data": {
      "text/html": [
       "<div>\n",
       "<style scoped>\n",
       "    .dataframe tbody tr th:only-of-type {\n",
       "        vertical-align: middle;\n",
       "    }\n",
       "\n",
       "    .dataframe tbody tr th {\n",
       "        vertical-align: top;\n",
       "    }\n",
       "\n",
       "    .dataframe thead th {\n",
       "        text-align: right;\n",
       "    }\n",
       "</style>\n",
       "<table border=\"1\" class=\"dataframe\">\n",
       "  <thead>\n",
       "    <tr style=\"text-align: right;\">\n",
       "      <th></th>\n",
       "      <th>TIME OCC</th>\n",
       "      <th>AREA</th>\n",
       "      <th>Rpt Dist No</th>\n",
       "      <th>Part 1-2</th>\n",
       "      <th>Crm Cd</th>\n",
       "      <th>Vict Age</th>\n",
       "      <th>Premis Cd</th>\n",
       "      <th>Weapon Used Cd</th>\n",
       "      <th>Crm Cd 1</th>\n",
       "      <th>Crm Cd 2</th>\n",
       "      <th>Crm Cd 3</th>\n",
       "      <th>Crm Cd 4</th>\n",
       "      <th>LAT</th>\n",
       "      <th>LON</th>\n",
       "      <th>Vict Sex_F</th>\n",
       "      <th>Vict Sex_M</th>\n",
       "      <th>Vict Descent_H</th>\n",
       "    </tr>\n",
       "  </thead>\n",
       "  <tbody>\n",
       "    <tr>\n",
       "      <th>count</th>\n",
       "      <td>4.000000</td>\n",
       "      <td>4.000000</td>\n",
       "      <td>4.000000</td>\n",
       "      <td>4.0</td>\n",
       "      <td>4.00000</td>\n",
       "      <td>4.000000</td>\n",
       "      <td>4.000000</td>\n",
       "      <td>4.000000</td>\n",
       "      <td>4.00000</td>\n",
       "      <td>4.000000</td>\n",
       "      <td>4.000000</td>\n",
       "      <td>4.0</td>\n",
       "      <td>4.000000</td>\n",
       "      <td>4.000000</td>\n",
       "      <td>4.00000</td>\n",
       "      <td>4.00000</td>\n",
       "      <td>4.0</td>\n",
       "    </tr>\n",
       "    <tr>\n",
       "      <th>mean</th>\n",
       "      <td>1586.250000</td>\n",
       "      <td>8.250000</td>\n",
       "      <td>879.750000</td>\n",
       "      <td>1.0</td>\n",
       "      <td>463.25000</td>\n",
       "      <td>44.250000</td>\n",
       "      <td>255.000000</td>\n",
       "      <td>279.250000</td>\n",
       "      <td>463.25000</td>\n",
       "      <td>642.500000</td>\n",
       "      <td>936.750000</td>\n",
       "      <td>998.0</td>\n",
       "      <td>34.132575</td>\n",
       "      <td>-118.334700</td>\n",
       "      <td>0.50000</td>\n",
       "      <td>0.50000</td>\n",
       "      <td>1.0</td>\n",
       "    </tr>\n",
       "    <tr>\n",
       "      <th>std</th>\n",
       "      <td>907.334696</td>\n",
       "      <td>7.410578</td>\n",
       "      <td>718.727289</td>\n",
       "      <td>0.0</td>\n",
       "      <td>345.72665</td>\n",
       "      <td>10.563301</td>\n",
       "      <td>303.351282</td>\n",
       "      <td>147.248939</td>\n",
       "      <td>345.72665</td>\n",
       "      <td>348.460902</td>\n",
       "      <td>41.258332</td>\n",
       "      <td>0.0</td>\n",
       "      <td>0.110084</td>\n",
       "      <td>0.083132</td>\n",
       "      <td>0.57735</td>\n",
       "      <td>0.57735</td>\n",
       "      <td>0.0</td>\n",
       "    </tr>\n",
       "    <tr>\n",
       "      <th>min</th>\n",
       "      <td>230.000000</td>\n",
       "      <td>2.000000</td>\n",
       "      <td>279.000000</td>\n",
       "      <td>1.0</td>\n",
       "      <td>121.00000</td>\n",
       "      <td>34.000000</td>\n",
       "      <td>101.000000</td>\n",
       "      <td>200.000000</td>\n",
       "      <td>121.00000</td>\n",
       "      <td>210.000000</td>\n",
       "      <td>910.000000</td>\n",
       "      <td>998.0</td>\n",
       "      <td>34.050300</td>\n",
       "      <td>-118.457100</td>\n",
       "      <td>0.00000</td>\n",
       "      <td>0.00000</td>\n",
       "      <td>1.0</td>\n",
       "    </tr>\n",
       "    <tr>\n",
       "      <th>25%</th>\n",
       "      <td>1520.000000</td>\n",
       "      <td>5.000000</td>\n",
       "      <td>562.500000</td>\n",
       "      <td>1.0</td>\n",
       "      <td>187.75000</td>\n",
       "      <td>39.250000</td>\n",
       "      <td>101.000000</td>\n",
       "      <td>203.750000</td>\n",
       "      <td>187.75000</td>\n",
       "      <td>435.000000</td>\n",
       "      <td>910.000000</td>\n",
       "      <td>998.0</td>\n",
       "      <td>34.078950</td>\n",
       "      <td>-118.346175</td>\n",
       "      <td>0.00000</td>\n",
       "      <td>0.00000</td>\n",
       "      <td>1.0</td>\n",
       "    </tr>\n",
       "    <tr>\n",
       "      <th>50%</th>\n",
       "      <td>1990.000000</td>\n",
       "      <td>6.000000</td>\n",
       "      <td>658.000000</td>\n",
       "      <td>1.0</td>\n",
       "      <td>485.50000</td>\n",
       "      <td>42.000000</td>\n",
       "      <td>104.500000</td>\n",
       "      <td>208.500000</td>\n",
       "      <td>485.50000</td>\n",
       "      <td>715.000000</td>\n",
       "      <td>920.000000</td>\n",
       "      <td>998.0</td>\n",
       "      <td>34.092550</td>\n",
       "      <td>-118.304850</td>\n",
       "      <td>0.50000</td>\n",
       "      <td>0.50000</td>\n",
       "      <td>1.0</td>\n",
       "    </tr>\n",
       "    <tr>\n",
       "      <th>75%</th>\n",
       "      <td>2056.250000</td>\n",
       "      <td>9.250000</td>\n",
       "      <td>975.250000</td>\n",
       "      <td>1.0</td>\n",
       "      <td>761.00000</td>\n",
       "      <td>47.000000</td>\n",
       "      <td>258.500000</td>\n",
       "      <td>284.000000</td>\n",
       "      <td>761.00000</td>\n",
       "      <td>922.500000</td>\n",
       "      <td>946.750000</td>\n",
       "      <td>998.0</td>\n",
       "      <td>34.146175</td>\n",
       "      <td>-118.293375</td>\n",
       "      <td>1.00000</td>\n",
       "      <td>1.00000</td>\n",
       "      <td>1.0</td>\n",
       "    </tr>\n",
       "    <tr>\n",
       "      <th>max</th>\n",
       "      <td>2135.000000</td>\n",
       "      <td>19.000000</td>\n",
       "      <td>1924.000000</td>\n",
       "      <td>1.0</td>\n",
       "      <td>761.00000</td>\n",
       "      <td>59.000000</td>\n",
       "      <td>710.000000</td>\n",
       "      <td>500.000000</td>\n",
       "      <td>761.00000</td>\n",
       "      <td>930.000000</td>\n",
       "      <td>997.000000</td>\n",
       "      <td>998.0</td>\n",
       "      <td>34.294900</td>\n",
       "      <td>-118.272000</td>\n",
       "      <td>1.00000</td>\n",
       "      <td>1.00000</td>\n",
       "      <td>1.0</td>\n",
       "    </tr>\n",
       "  </tbody>\n",
       "</table>\n",
       "</div>"
      ],
      "text/plain": [
       "          TIME OCC       AREA  Rpt Dist No  Part 1-2     Crm Cd   Vict Age  \\\n",
       "count     4.000000   4.000000     4.000000       4.0    4.00000   4.000000   \n",
       "mean   1586.250000   8.250000   879.750000       1.0  463.25000  44.250000   \n",
       "std     907.334696   7.410578   718.727289       0.0  345.72665  10.563301   \n",
       "min     230.000000   2.000000   279.000000       1.0  121.00000  34.000000   \n",
       "25%    1520.000000   5.000000   562.500000       1.0  187.75000  39.250000   \n",
       "50%    1990.000000   6.000000   658.000000       1.0  485.50000  42.000000   \n",
       "75%    2056.250000   9.250000   975.250000       1.0  761.00000  47.000000   \n",
       "max    2135.000000  19.000000  1924.000000       1.0  761.00000  59.000000   \n",
       "\n",
       "        Premis Cd  Weapon Used Cd   Crm Cd 1    Crm Cd 2    Crm Cd 3  \\\n",
       "count    4.000000        4.000000    4.00000    4.000000    4.000000   \n",
       "mean   255.000000      279.250000  463.25000  642.500000  936.750000   \n",
       "std    303.351282      147.248939  345.72665  348.460902   41.258332   \n",
       "min    101.000000      200.000000  121.00000  210.000000  910.000000   \n",
       "25%    101.000000      203.750000  187.75000  435.000000  910.000000   \n",
       "50%    104.500000      208.500000  485.50000  715.000000  920.000000   \n",
       "75%    258.500000      284.000000  761.00000  922.500000  946.750000   \n",
       "max    710.000000      500.000000  761.00000  930.000000  997.000000   \n",
       "\n",
       "       Crm Cd 4        LAT         LON  Vict Sex_F  Vict Sex_M  Vict Descent_H  \n",
       "count       4.0   4.000000    4.000000     4.00000     4.00000             4.0  \n",
       "mean      998.0  34.132575 -118.334700     0.50000     0.50000             1.0  \n",
       "std         0.0   0.110084    0.083132     0.57735     0.57735             0.0  \n",
       "min       998.0  34.050300 -118.457100     0.00000     0.00000             1.0  \n",
       "25%       998.0  34.078950 -118.346175     0.00000     0.00000             1.0  \n",
       "50%       998.0  34.092550 -118.304850     0.50000     0.50000             1.0  \n",
       "75%       998.0  34.146175 -118.293375     1.00000     1.00000             1.0  \n",
       "max       998.0  34.294900 -118.272000     1.00000     1.00000             1.0  "
      ]
     },
     "execution_count": 39,
     "metadata": {},
     "output_type": "execute_result"
    }
   ],
   "source": [
    "df.describe()"
   ]
  },
  {
   "cell_type": "code",
   "execution_count": 42,
   "id": "e5c31b32",
   "metadata": {
    "ExecuteTime": {
     "end_time": "2023-10-08T16:42:15.142872Z",
     "start_time": "2023-10-08T16:42:14.840798Z"
    }
   },
   "outputs": [
    {
     "data": {
      "image/png": "[encoded data removed]",
      "text/plain": [
       "<Figure size 864x432 with 2 Axes>"
      ]
     },
     "metadata": {
      "needs_background": "light"
     },
     "output_type": "display_data"
    }
   ],
   "source": [
    "plt.figure# Data distribution (histograms, box plots)\n",
    "plt.figure(figsize=(12, 6))\n",
    "plt.subplot(1, 2, 1)\n",
    "sns.histplot(df['Vict Age'], bins=20, kde=True)\n",
    "plt.title('Age Distribution')\n",
    "\n",
    "plt.subplot(1, 2, 2)\n",
    "sns.boxplot(x='Vict Sex_F', y='Vict Age', data=df)\n",
    "plt.title('Age Distribution by Gender')\n",
    "plt.tight_layout()\n",
    "plt.show()"
   ]
  },
  {
   "cell_type": "code",
   "execution_count": 43,
   "id": "81ef56a1",
   "metadata": {
    "ExecuteTime": {
     "end_time": "2023-10-08T16:42:43.404408Z",
     "start_time": "2023-10-08T16:42:42.354285Z"
    }
   },
   "outputs": [
    {
     "data": {
      "image/png": "[encoded data removed]",
      "text/plain": [
       "<Figure size 720x576 with 2 Axes>"
      ]
     },
     "metadata": {
      "needs_background": "light"
     },
     "output_type": "display_data"
    }
   ],
   "source": [
    "# Correlation analysis (heatmaps)\n",
    "correlation_matrix = df.corr()\n",
    "plt.figure(figsize=(10, 8))\n",
    "sns.heatmap(correlation_matrix, annot=True, cmap='coolwarm', fmt=\".2f\")\n",
    "plt.title('Correlation Heatmap')\n",
    "plt.show()"
   ]
  },
  {
   "cell_type": "code",
   "execution_count": 44,
   "id": "25b3c05a",
   "metadata": {
    "ExecuteTime": {
     "end_time": "2023-10-08T16:43:21.561871Z",
     "start_time": "2023-10-08T16:43:17.423991Z"
    }
   },
   "outputs": [
    {
     "data": {
      "image/png": "[encoded data removed]",
      "text/plain": [
       "<Figure size 900x900 with 30 Axes>"
      ]
     },
     "metadata": {
      "needs_background": "light"
     },
     "output_type": "display_data"
    }
   ],
   "source": [
    "# Scatter plots and pair plots for feature relationships\n",
    "sns.pairplot(df[['Vict Age', 'Vict Sex_F', 'Vict Sex_M', 'Crm Cd 1', 'Crm Cd 2']], diag_kind='kde')\n",
    "plt.show()"
   ]
  },
  {
   "cell_type": "code",
   "execution_count": 46,
   "id": "f98f3cb9",
   "metadata": {
    "ExecuteTime": {
     "end_time": "2023-10-08T16:46:35.630734Z",
     "start_time": "2023-10-08T16:46:35.626230Z"
    }
   },
   "outputs": [],
   "source": [
    "X = df[['Vict Age', 'Vict Sex_F', 'Vict Sex_M']]\n",
    "y = df['Crm Cd 1']"
   ]
  },
  {
   "cell_type": "code",
   "execution_count": 47,
   "id": "0e61c00c",
   "metadata": {
    "ExecuteTime": {
     "end_time": "2023-10-08T16:47:25.079452Z",
     "start_time": "2023-10-08T16:47:25.073469Z"
    }
   },
   "outputs": [],
   "source": [
    "X_train , X_test , y_train  , y_test = train_test_split(X , y , test_size=0.2 , random_state=42)"
   ]
  },
  {
   "cell_type": "code",
   "execution_count": 48,
   "id": "b4f16400",
   "metadata": {
    "ExecuteTime": {
     "end_time": "2023-10-08T16:47:44.644020Z",
     "start_time": "2023-10-08T16:47:44.626047Z"
    }
   },
   "outputs": [
    {
     "data": {
      "text/plain": [
       "LinearRegression()"
      ]
     },
     "execution_count": 48,
     "metadata": {},
     "output_type": "execute_result"
    }
   ],
   "source": [
    "model = LinearRegression()\n",
    "model.fit(X_train , y_train)"
   ]
  },
  {
   "cell_type": "code",
   "execution_count": 49,
   "id": "04af32ed",
   "metadata": {
    "ExecuteTime": {
     "end_time": "2023-10-08T16:48:00.182648Z",
     "start_time": "2023-10-08T16:48:00.177150Z"
    }
   },
   "outputs": [],
   "source": [
    "y_pred = model.predict(X_test)"
   ]
  },
  {
   "cell_type": "code",
   "execution_count": 51,
   "id": "1c78ff10",
   "metadata": {
    "ExecuteTime": {
     "end_time": "2023-10-08T16:48:56.485741Z",
     "start_time": "2023-10-08T16:48:56.481093Z"
    }
   },
   "outputs": [
    {
     "name": "stdout",
     "output_type": "stream",
     "text": [
      "Mean Squared Error : 249800.03999999972\n"
     ]
    }
   ],
   "source": [
    "mse = mean_squared_error(y_test , y_pred)\n",
    "print(f\"Mean Squared Error : {mse}\")"
   ]
  },
  {
   "cell_type": "code",
   "execution_count": 52,
   "id": "4ec65f9c",
   "metadata": {
    "ExecuteTime": {
     "end_time": "2023-10-08T16:49:50.160872Z",
     "start_time": "2023-10-08T16:49:50.156978Z"
    }
   },
   "outputs": [
    {
     "name": "stdout",
     "output_type": "stream",
     "text": [
      "Model Results\n",
      "Intercept:  1471.1000000000001\n"
     ]
    }
   ],
   "source": [
    "print(\"Model Results\")\n",
    "print(\"Intercept: \" , model.intercept_)"
   ]
  },
  {
   "cell_type": "code",
   "execution_count": 53,
   "id": "b9939871",
   "metadata": {
    "ExecuteTime": {
     "end_time": "2023-10-08T16:50:11.598531Z",
     "start_time": "2023-10-08T16:50:11.593854Z"
    }
   },
   "outputs": [
    {
     "name": "stdout",
     "output_type": "stream",
     "text": [
      "Coefficient:  [ -25.6  160.3 -160.3]\n"
     ]
    }
   ],
   "source": [
    "print(\"Coefficient: \" , model.coef_)"
   ]
  }
 ],
 "metadata": {
  "kernelspec": {
   "display_name": "Python 3 (ipykernel)",
   "language": "python",
   "name": "python3"
  },
  "language_info": {
   "codemirror_mode": {
    "name": "ipython",
    "version": 3
   },
   "file_extension": ".py",
   "mimetype": "text/x-python",
   "name": "python",
   "nbconvert_exporter": "python",
   "pygments_lexer": "ipython3",
   "version": "3.9.7"
  }
 },
 "nbformat": 4,
 "nbformat_minor": 5
}
